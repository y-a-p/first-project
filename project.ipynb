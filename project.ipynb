{
 "cells": [
  {
   "cell_type": "markdown",
   "metadata": {},
   "source": [
    "<div class=\"alert alert-info\">\n",
    "<h2> Комментарий студента v1<a class=\"tocSkip\"></h2>\n",
    "\n",
    "Привет! Если у тебя будут желтые комментарии, но не будет красных, пожалуйста, верни работу на доработку, чтобы я смог внести исправления для повторной проверки и/или задать уточняющие вопросы.\n",
    "</div>"
   ]
  },
  {
   "cell_type": "markdown",
   "metadata": {},
   "source": [
    "Привет, меня зовут Артем Хуршудов. Сегодня я проверю твой проект.\n",
    "<br> Дальнейшее общение будет происходить на \"ты\" если это не вызывает никаких проблем.\n",
    "<br> Желательно реагировать на каждый мой комментарий ('исправил', 'не понятно как исправить ошибку', ...)\n",
    "<br> Пожалуйста, не удаляй комментарии ревьюера, так как они повышают качество повторного ревью.\n",
    "\n",
    "Комментарии будут в <font color='green'>зеленой</font>, <font color='blue'>синей</font> или <font color='red'>красной</font> рамках:\n",
    "\n",
    "<div class=\"alert alert-block alert-success\">\n",
    "<b>Успех:</b> Если все сделано отлично\n",
    "</div>\n",
    "\n",
    "<div class=\"alert alert-block alert-info\">\n",
    "<b>Совет: </b> Если можно немного улучшить\n",
    "</div>\n",
    "\n",
    "<div class=\"alert alert-block alert-danger\">\n",
    "<b>Ошибка:</b> Если требуются исправления. Работа не может быть принята с красными комментариями.\n",
    "</div>\n",
    "\n",
    "-------------------\n",
    "\n",
    "Будет очень хорошо, если ты будешь помечать свои действия следующим образом:\n",
    "<div class=\"alert alert-block alert-warning\">\n",
    "<b>Комментарий студента:</b> ...\n",
    "</div>\n",
    "\n",
    "<div class=\"alert alert-block alert-warning\">\n",
    "<b>Изменения:</b> Были внесены следующие изменения ...\n",
    "</div>\n",
    "\n",
    "### <font color='orange'>Общее впечатление</font>\n",
    "* Этот проект выполнен очень хорошо.\n",
    "* Молодец, что структурируешь ноутбук, приятно проверять такие работы.\n",
    "* Интересная статья про одну из метрик: <a href=\"https://dyakonov.org/2017/07/28/auc-roc-площадь-под-кривой-ошибок/\">ссылка</a>.\n",
    "* Я оставил несколько советов, надеюсь, что они будут учтены в будущих проектах.\n",
    "* Тебе удалось добиться очень хорошего качества, поздравляю!\n",
    "* Проект может быть зачтен, но я его отправлю назад, чтобы у тебя была возможность задать вопросы и внести правки, при желании. Однако, ты можешь просто вернуть проект в таком же виде и я его зачту."
   ]
  },
  {
   "cell_type": "markdown",
   "metadata": {},
   "source": [
    "<div class=\"alert alert-block alert-warning\">\n",
    "<b>Комментарий студента: </b>Артем, спасибо за проверку, комментарии и дополнительную ссылку! У меня есть пара вопросов, я оставил их ниже, если по ним всё ок, то проект можно засчитать. В код изменений не вносил.\n",
    "</div>"
   ]
  },
  {
   "cell_type": "markdown",
   "metadata": {},
   "source": [
    "### <font color='orange'>Общее впечатление (ревью 2)</font>\n",
    "* Проект зачтен!\n",
    "* Для удобства все новые комментарии обозначены фразой \"ревью 2\".\n",
    "* Удачи в дальнейшем обучении и следующих работах!"
   ]
  },
  {
   "cell_type": "markdown",
   "metadata": {
    "toc": true
   },
   "source": [
    "<h1>Содержание<span class=\"tocSkip\"></span></h1>\n",
    "<div class=\"toc\"><ul class=\"toc-item\"><li><ul class=\"toc-item\"><li><span><a href=\"#Общее-впечатление\" data-toc-modified-id=\"Общее-впечатление-0.1\"><span class=\"toc-item-num\">0.1&nbsp;&nbsp;</span><font color=\"orange\">Общее впечатление</font></a></span></li><li><span><a href=\"#Общее-впечатление-(ревью-2)\" data-toc-modified-id=\"Общее-впечатление-(ревью-2)-0.2\"><span class=\"toc-item-num\">0.2&nbsp;&nbsp;</span><font color=\"orange\">Общее впечатление (ревью 2)</font></a></span></li></ul></li><li><span><a href=\"#Подготовка-данных\" data-toc-modified-id=\"Подготовка-данных-1\"><span class=\"toc-item-num\">1&nbsp;&nbsp;</span>Подготовка данных</a></span></li><li><span><a href=\"#Исследование-задачи\" data-toc-modified-id=\"Исследование-задачи-2\"><span class=\"toc-item-num\">2&nbsp;&nbsp;</span>Исследование задачи</a></span></li><li><span><a href=\"#Борьба-с-дисбалансом\" data-toc-modified-id=\"Борьба-с-дисбалансом-3\"><span class=\"toc-item-num\">3&nbsp;&nbsp;</span>Борьба с дисбалансом</a></span></li><li><span><a href=\"#Тестирование-модели\" data-toc-modified-id=\"Тестирование-модели-4\"><span class=\"toc-item-num\">4&nbsp;&nbsp;</span>Тестирование модели</a></span></li><li><span><a href=\"#Чек-лист-готовности-проекта\" data-toc-modified-id=\"Чек-лист-готовности-проекта-5\"><span class=\"toc-item-num\">5&nbsp;&nbsp;</span>Чек-лист готовности проекта</a></span></li></ul></div>"
   ]
  },
  {
   "cell_type": "markdown",
   "metadata": {},
   "source": [
    "# Отток клиентов"
   ]
  },
  {
   "cell_type": "markdown",
   "metadata": {},
   "source": [
    "Из «Бета-Банка» стали уходить клиенты. Каждый месяц. Немного, но заметно. Банковские маркетологи посчитали: сохранять текущих клиентов дешевле, чем привлекать новых.\n",
    "\n",
    "Нужно спрогнозировать, уйдёт клиент из банка в ближайшее время или нет. Вам предоставлены исторические данные о поведении клиентов и расторжении договоров с банком. \n",
    "\n",
    "Постройте модель с предельно большим значением *F1*-меры. Чтобы сдать проект успешно, нужно довести метрику до 0.59. Проверьте *F1*-меру на тестовой выборке самостоятельно.\n",
    "\n",
    "Дополнительно измеряйте *AUC-ROC*, сравнивайте её значение с *F1*-мерой.\n",
    "\n",
    "Источник данных: [https://www.kaggle.com/barelydedicated/bank-customer-churn-modeling](https://www.kaggle.com/barelydedicated/bank-customer-churn-modeling)\n",
    "\n",
    "Данные находятся в файле `/datasets/Churn.csv`<br>\n",
    "\n",
    "**Признаки**<br>\n",
    "`RowNumber` — индекс строки в данных<br>\n",
    "`CustomerId` — уникальный идентификатор клиента<br>\n",
    "`Surname` — фамилия<br>\n",
    "`CreditScore` — кредитный рейтинг<br>\n",
    "`Geography` — страна проживания<br>\n",
    "`Gender` — пол<br>\n",
    "`Age` — возраст<br>\n",
    "`Tenure` — сколько лет человек является клиентом банка<br>\n",
    "`Balance` — баланс на счёте<br>\n",
    "`NumOfProducts` — количество продуктов банка, используемых клиентом<br>\n",
    "`HasCrCard` — наличие кредитной карты<br>\n",
    "`IsActiveMember` — активность клиента<br>\n",
    "`EstimatedSalary` — предполагаемая зарплата<br>\n",
    "\n",
    "**Целевой признак**\n",
    "`Exited` — факт ухода клиента<br>"
   ]
  },
  {
   "cell_type": "markdown",
   "metadata": {},
   "source": [
    "## Подготовка данных"
   ]
  },
  {
   "cell_type": "code",
   "execution_count": 1,
   "metadata": {},
   "outputs": [],
   "source": [
    "import pandas as pd\n",
    "import numpy as np\n",
    "import itertools\n",
    "from tqdm import tqdm\n",
    "import matplotlib.pyplot as plt\n",
    "from sklearn import preprocessing\n",
    "from sklearn.utils import shuffle\n",
    "from sklearn.metrics import accuracy_score\n",
    "from sklearn.metrics import f1_score\n",
    "from sklearn.metrics import roc_auc_score\n",
    "from sklearn.metrics import roc_curve \n",
    "from sklearn.preprocessing import OrdinalEncoder \n",
    "from sklearn.preprocessing import StandardScaler\n",
    "from sklearn.model_selection import train_test_split \n",
    "from sklearn.tree import DecisionTreeClassifier\n",
    "from sklearn.ensemble import RandomForestClassifier\n",
    "from sklearn.linear_model import LogisticRegression"
   ]
  },
  {
   "cell_type": "markdown",
   "metadata": {},
   "source": [
    "<div class=\"alert alert-block alert-success\">\n",
    "<b>Успех:</b> Отлично, что все импорты собраны в первой ячейке ноутбука! Если у того, кто будет запускать твой ноутбук будут отсутствовать некоторые библиотеки, то он это увидит сразу, а не в процессе!\n",
    "</div>"
   ]
  },
  {
   "cell_type": "code",
   "execution_count": 2,
   "metadata": {},
   "outputs": [],
   "source": [
    "try:\n",
    "    df = pd.read_csv('/datasets/Churn.csv')\n",
    "except:\n",
    "    print('При чтение файла возникал ошибка')"
   ]
  },
  {
   "cell_type": "code",
   "execution_count": 3,
   "metadata": {},
   "outputs": [
    {
     "data": {
      "text/html": [
       "<div>\n",
       "<style scoped>\n",
       "    .dataframe tbody tr th:only-of-type {\n",
       "        vertical-align: middle;\n",
       "    }\n",
       "\n",
       "    .dataframe tbody tr th {\n",
       "        vertical-align: top;\n",
       "    }\n",
       "\n",
       "    .dataframe thead th {\n",
       "        text-align: right;\n",
       "    }\n",
       "</style>\n",
       "<table border=\"1\" class=\"dataframe\">\n",
       "  <thead>\n",
       "    <tr style=\"text-align: right;\">\n",
       "      <th></th>\n",
       "      <th>RowNumber</th>\n",
       "      <th>CustomerId</th>\n",
       "      <th>Surname</th>\n",
       "      <th>CreditScore</th>\n",
       "      <th>Geography</th>\n",
       "      <th>Gender</th>\n",
       "      <th>Age</th>\n",
       "      <th>Tenure</th>\n",
       "      <th>Balance</th>\n",
       "      <th>NumOfProducts</th>\n",
       "      <th>HasCrCard</th>\n",
       "      <th>IsActiveMember</th>\n",
       "      <th>EstimatedSalary</th>\n",
       "      <th>Exited</th>\n",
       "    </tr>\n",
       "  </thead>\n",
       "  <tbody>\n",
       "    <tr>\n",
       "      <th>0</th>\n",
       "      <td>1</td>\n",
       "      <td>15634602</td>\n",
       "      <td>Hargrave</td>\n",
       "      <td>619</td>\n",
       "      <td>France</td>\n",
       "      <td>Female</td>\n",
       "      <td>42</td>\n",
       "      <td>2.0</td>\n",
       "      <td>0.00</td>\n",
       "      <td>1</td>\n",
       "      <td>1</td>\n",
       "      <td>1</td>\n",
       "      <td>101348.88</td>\n",
       "      <td>1</td>\n",
       "    </tr>\n",
       "    <tr>\n",
       "      <th>1</th>\n",
       "      <td>2</td>\n",
       "      <td>15647311</td>\n",
       "      <td>Hill</td>\n",
       "      <td>608</td>\n",
       "      <td>Spain</td>\n",
       "      <td>Female</td>\n",
       "      <td>41</td>\n",
       "      <td>1.0</td>\n",
       "      <td>83807.86</td>\n",
       "      <td>1</td>\n",
       "      <td>0</td>\n",
       "      <td>1</td>\n",
       "      <td>112542.58</td>\n",
       "      <td>0</td>\n",
       "    </tr>\n",
       "    <tr>\n",
       "      <th>2</th>\n",
       "      <td>3</td>\n",
       "      <td>15619304</td>\n",
       "      <td>Onio</td>\n",
       "      <td>502</td>\n",
       "      <td>France</td>\n",
       "      <td>Female</td>\n",
       "      <td>42</td>\n",
       "      <td>8.0</td>\n",
       "      <td>159660.80</td>\n",
       "      <td>3</td>\n",
       "      <td>1</td>\n",
       "      <td>0</td>\n",
       "      <td>113931.57</td>\n",
       "      <td>1</td>\n",
       "    </tr>\n",
       "    <tr>\n",
       "      <th>3</th>\n",
       "      <td>4</td>\n",
       "      <td>15701354</td>\n",
       "      <td>Boni</td>\n",
       "      <td>699</td>\n",
       "      <td>France</td>\n",
       "      <td>Female</td>\n",
       "      <td>39</td>\n",
       "      <td>1.0</td>\n",
       "      <td>0.00</td>\n",
       "      <td>2</td>\n",
       "      <td>0</td>\n",
       "      <td>0</td>\n",
       "      <td>93826.63</td>\n",
       "      <td>0</td>\n",
       "    </tr>\n",
       "    <tr>\n",
       "      <th>4</th>\n",
       "      <td>5</td>\n",
       "      <td>15737888</td>\n",
       "      <td>Mitchell</td>\n",
       "      <td>850</td>\n",
       "      <td>Spain</td>\n",
       "      <td>Female</td>\n",
       "      <td>43</td>\n",
       "      <td>2.0</td>\n",
       "      <td>125510.82</td>\n",
       "      <td>1</td>\n",
       "      <td>1</td>\n",
       "      <td>1</td>\n",
       "      <td>79084.10</td>\n",
       "      <td>0</td>\n",
       "    </tr>\n",
       "  </tbody>\n",
       "</table>\n",
       "</div>"
      ],
      "text/plain": [
       "   RowNumber  CustomerId   Surname  CreditScore Geography  Gender  Age  \\\n",
       "0          1    15634602  Hargrave          619    France  Female   42   \n",
       "1          2    15647311      Hill          608     Spain  Female   41   \n",
       "2          3    15619304      Onio          502    France  Female   42   \n",
       "3          4    15701354      Boni          699    France  Female   39   \n",
       "4          5    15737888  Mitchell          850     Spain  Female   43   \n",
       "\n",
       "   Tenure    Balance  NumOfProducts  HasCrCard  IsActiveMember  \\\n",
       "0     2.0       0.00              1          1               1   \n",
       "1     1.0   83807.86              1          0               1   \n",
       "2     8.0  159660.80              3          1               0   \n",
       "3     1.0       0.00              2          0               0   \n",
       "4     2.0  125510.82              1          1               1   \n",
       "\n",
       "   EstimatedSalary  Exited  \n",
       "0        101348.88       1  \n",
       "1        112542.58       0  \n",
       "2        113931.57       1  \n",
       "3         93826.63       0  \n",
       "4         79084.10       0  "
      ]
     },
     "execution_count": 3,
     "metadata": {},
     "output_type": "execute_result"
    }
   ],
   "source": [
    "df.head()"
   ]
  },
  {
   "cell_type": "code",
   "execution_count": 4,
   "metadata": {},
   "outputs": [
    {
     "name": "stdout",
     "output_type": "stream",
     "text": [
      "<class 'pandas.core.frame.DataFrame'>\n",
      "RangeIndex: 10000 entries, 0 to 9999\n",
      "Data columns (total 14 columns):\n",
      " #   Column           Non-Null Count  Dtype  \n",
      "---  ------           --------------  -----  \n",
      " 0   RowNumber        10000 non-null  int64  \n",
      " 1   CustomerId       10000 non-null  int64  \n",
      " 2   Surname          10000 non-null  object \n",
      " 3   CreditScore      10000 non-null  int64  \n",
      " 4   Geography        10000 non-null  object \n",
      " 5   Gender           10000 non-null  object \n",
      " 6   Age              10000 non-null  int64  \n",
      " 7   Tenure           9091 non-null   float64\n",
      " 8   Balance          10000 non-null  float64\n",
      " 9   NumOfProducts    10000 non-null  int64  \n",
      " 10  HasCrCard        10000 non-null  int64  \n",
      " 11  IsActiveMember   10000 non-null  int64  \n",
      " 12  EstimatedSalary  10000 non-null  float64\n",
      " 13  Exited           10000 non-null  int64  \n",
      "dtypes: float64(3), int64(8), object(3)\n",
      "memory usage: 1.1+ MB\n"
     ]
    }
   ],
   "source": [
    "df.info()"
   ]
  },
  {
   "cell_type": "markdown",
   "metadata": {},
   "source": [
    "Удалим из анализа строки, в которых поле `Tenure` пустое"
   ]
  },
  {
   "cell_type": "code",
   "execution_count": 5,
   "metadata": {
    "scrolled": true
   },
   "outputs": [],
   "source": [
    "df['Tenure'].replace('', np.nan, inplace=True)"
   ]
  },
  {
   "cell_type": "code",
   "execution_count": 6,
   "metadata": {},
   "outputs": [],
   "source": [
    "df = df.dropna(subset=['Tenure']).reset_index(drop=True)"
   ]
  },
  {
   "cell_type": "markdown",
   "metadata": {},
   "source": [
    "Проверим:"
   ]
  },
  {
   "cell_type": "code",
   "execution_count": 7,
   "metadata": {},
   "outputs": [
    {
     "name": "stdout",
     "output_type": "stream",
     "text": [
      "<class 'pandas.core.frame.DataFrame'>\n",
      "RangeIndex: 9091 entries, 0 to 9090\n",
      "Data columns (total 14 columns):\n",
      " #   Column           Non-Null Count  Dtype  \n",
      "---  ------           --------------  -----  \n",
      " 0   RowNumber        9091 non-null   int64  \n",
      " 1   CustomerId       9091 non-null   int64  \n",
      " 2   Surname          9091 non-null   object \n",
      " 3   CreditScore      9091 non-null   int64  \n",
      " 4   Geography        9091 non-null   object \n",
      " 5   Gender           9091 non-null   object \n",
      " 6   Age              9091 non-null   int64  \n",
      " 7   Tenure           9091 non-null   float64\n",
      " 8   Balance          9091 non-null   float64\n",
      " 9   NumOfProducts    9091 non-null   int64  \n",
      " 10  HasCrCard        9091 non-null   int64  \n",
      " 11  IsActiveMember   9091 non-null   int64  \n",
      " 12  EstimatedSalary  9091 non-null   float64\n",
      " 13  Exited           9091 non-null   int64  \n",
      "dtypes: float64(3), int64(8), object(3)\n",
      "memory usage: 994.5+ KB\n"
     ]
    }
   ],
   "source": [
    "df.info()"
   ]
  },
  {
   "cell_type": "markdown",
   "metadata": {},
   "source": [
    "Проверим дубликаты"
   ]
  },
  {
   "cell_type": "code",
   "execution_count": 8,
   "metadata": {
    "scrolled": true
   },
   "outputs": [
    {
     "data": {
      "text/plain": [
       "0"
      ]
     },
     "execution_count": 8,
     "metadata": {},
     "output_type": "execute_result"
    }
   ],
   "source": [
    "df.duplicated().sum()"
   ]
  },
  {
   "cell_type": "markdown",
   "metadata": {},
   "source": [
    "<div class=\"alert alert-block alert-success\">\n",
    "<b>Успех:</b> Данные загружены корректно. Удалть строки с пропусками – допустимое решение.\n",
    "</div>"
   ]
  },
  {
   "cell_type": "markdown",
   "metadata": {},
   "source": [
    "Удалим столбцы `RowNumber`, `CustomerId`, `Surname`, т.к. они не понадобятся при обучении модели"
   ]
  },
  {
   "cell_type": "code",
   "execution_count": 9,
   "metadata": {},
   "outputs": [],
   "source": [
    "df = df.drop(['RowNumber', 'CustomerId', 'Surname'], axis=1)"
   ]
  },
  {
   "cell_type": "code",
   "execution_count": 10,
   "metadata": {},
   "outputs": [
    {
     "name": "stdout",
     "output_type": "stream",
     "text": [
      "<class 'pandas.core.frame.DataFrame'>\n",
      "RangeIndex: 9091 entries, 0 to 9090\n",
      "Data columns (total 11 columns):\n",
      " #   Column           Non-Null Count  Dtype  \n",
      "---  ------           --------------  -----  \n",
      " 0   CreditScore      9091 non-null   int64  \n",
      " 1   Geography        9091 non-null   object \n",
      " 2   Gender           9091 non-null   object \n",
      " 3   Age              9091 non-null   int64  \n",
      " 4   Tenure           9091 non-null   float64\n",
      " 5   Balance          9091 non-null   float64\n",
      " 6   NumOfProducts    9091 non-null   int64  \n",
      " 7   HasCrCard        9091 non-null   int64  \n",
      " 8   IsActiveMember   9091 non-null   int64  \n",
      " 9   EstimatedSalary  9091 non-null   float64\n",
      " 10  Exited           9091 non-null   int64  \n",
      "dtypes: float64(3), int64(6), object(2)\n",
      "memory usage: 781.4+ KB\n"
     ]
    }
   ],
   "source": [
    "df.info()"
   ]
  },
  {
   "cell_type": "markdown",
   "metadata": {},
   "source": [
    "Разделим данные на Признаки и Целевой признак"
   ]
  },
  {
   "cell_type": "code",
   "execution_count": 11,
   "metadata": {},
   "outputs": [],
   "source": [
    "features = df.drop(['Exited'], axis=1)\n",
    "target = df['Exited']"
   ]
  },
  {
   "cell_type": "markdown",
   "metadata": {},
   "source": [
    "Закодируем категориальные данные.<br>"
   ]
  },
  {
   "cell_type": "markdown",
   "metadata": {},
   "source": [
    "<div class=\"alert alert-block alert-success\">\n",
    "<b>Успех:</b> Согласен, что эти колонки нам не нужны.\n",
    "</div>"
   ]
  },
  {
   "cell_type": "markdown",
   "metadata": {},
   "source": [
    "Метод Ordinal Encoding"
   ]
  },
  {
   "cell_type": "markdown",
   "metadata": {},
   "source": [
    "Изначально был использован метод кодирования OE, но в процессе обучения моделей стало понятно, что результаты моделей на данных, закодированных методом OE ниже чем на данных, закодированных методом OHE."
   ]
  },
  {
   "cell_type": "code",
   "execution_count": 12,
   "metadata": {},
   "outputs": [],
   "source": [
    "#encoder = OrdinalEncoder() \n",
    "#encoder.fit(features)\n",
    "#features_oe = encoder.transform(features)\n",
    "#features_oe = pd.DataFrame(encoder.transform(features), columns=features.columns)"
   ]
  },
  {
   "cell_type": "markdown",
   "metadata": {},
   "source": [
    "Метод Online Hot Encoding"
   ]
  },
  {
   "cell_type": "code",
   "execution_count": 13,
   "metadata": {},
   "outputs": [],
   "source": [
    "features_ohe = pd.get_dummies(features, drop_first=True)"
   ]
  },
  {
   "cell_type": "markdown",
   "metadata": {},
   "source": [
    "Разделим выборки features на учебную, валидационную и тестовую, при разделении данных применем стратификацию."
   ]
  },
  {
   "cell_type": "code",
   "execution_count": 14,
   "metadata": {},
   "outputs": [],
   "source": [
    "features_ohe_tmp, features_ohe_test, target_tmp, target_test = train_test_split(\n",
    "   features_ohe, target, test_size=0.20, random_state=12345, stratify=target)\n",
    "features_ohe_train, features_ohe_valid, target_train, target_valid = train_test_split(\n",
    "   features_ohe_tmp, target_tmp, test_size=0.25, random_state=12345, stratify=target_tmp)"
   ]
  },
  {
   "cell_type": "markdown",
   "metadata": {},
   "source": [
    "Для логистической регрессии нормализуем данные:"
   ]
  },
  {
   "cell_type": "code",
   "execution_count": 15,
   "metadata": {},
   "outputs": [],
   "source": [
    "names = features_ohe_train.columns\n",
    "norm = preprocessing.normalize(features_ohe_train,axis=0)\n",
    "features_ohe_norm_train = pd.DataFrame(norm, columns=names, index=target_train.index)\n",
    "\n",
    "names = features_ohe_valid.columns\n",
    "norm = preprocessing.normalize(features_ohe_valid,axis=0)\n",
    "features_ohe_norm_valid = pd.DataFrame(norm, columns=names, index=target_valid.index)\n",
    "\n",
    "names = features_ohe_test.columns\n",
    "norm = preprocessing.normalize(features_ohe_test,axis=0)\n",
    "features_ohe_norm_test = pd.DataFrame(norm, columns=names, index=target_test.index)"
   ]
  },
  {
   "cell_type": "markdown",
   "metadata": {},
   "source": [
    "Масштабируем признаки для деревьев:"
   ]
  },
  {
   "cell_type": "code",
   "execution_count": 16,
   "metadata": {},
   "outputs": [],
   "source": [
    "numeric = ['CreditScore', 'Age', 'Tenure', 'Balance', 'NumOfProducts', 'HasCrCard', 'EstimatedSalary']\n",
    "pd.options.mode.chained_assignment = None\n",
    "scaler = StandardScaler()\n",
    "\n",
    "scaler.fit(features_ohe_train[numeric]) \n",
    "features_ohe_train[numeric] = scaler.transform(features_ohe_train[numeric])\n",
    "features_ohe_valid[numeric] = scaler.transform(features_ohe_valid[numeric]) \n",
    "features_ohe_test[numeric] = scaler.transform(features_ohe_test[numeric]) "
   ]
  },
  {
   "cell_type": "markdown",
   "metadata": {},
   "source": [
    "<div class=\"alert alert-block alert-success\">\n",
    "<b>Успех:</b> OHE – наиболее подходящий метод для кодировки категориальных колонок в данном случае.\n",
    "</div>\n",
    "\n",
    "<div class=\"alert alert-block alert-success\">\n",
    "<b>Успех:</b> Отлично, что scaler был обучен только на тренировочной части данных!\n",
    "</div>"
   ]
  },
  {
   "cell_type": "markdown",
   "metadata": {},
   "source": [
    "## Исследование задачи"
   ]
  },
  {
   "cell_type": "markdown",
   "metadata": {},
   "source": [
    "Определим процент положительных ответов в целевом признаке"
   ]
  },
  {
   "cell_type": "code",
   "execution_count": 17,
   "metadata": {},
   "outputs": [
    {
     "data": {
      "text/plain": [
       "0.2039379606203938"
      ]
     },
     "execution_count": 17,
     "metadata": {},
     "output_type": "execute_result"
    }
   ],
   "source": [
    "target[target == 1].count() / len(target)"
   ]
  },
  {
   "cell_type": "markdown",
   "metadata": {},
   "source": [
    "Классы не сбалансированные"
   ]
  },
  {
   "cell_type": "markdown",
   "metadata": {},
   "source": [
    "Обучим модели и определим их точность"
   ]
  },
  {
   "cell_type": "markdown",
   "metadata": {},
   "source": [
    "**RandomForestClassifier**"
   ]
  },
  {
   "cell_type": "code",
   "execution_count": 18,
   "metadata": {},
   "outputs": [
    {
     "name": "stderr",
     "output_type": "stream",
     "text": [
      "448it [00:09, 45.70it/s]"
     ]
    },
    {
     "name": "stdout",
     "output_type": "stream",
     "text": [
      "\n",
      "Accuracy \"Случайный лес\": 0.86194\n",
      "Параметры:\n",
      "max_depth = 7\n",
      "n_estimators = 3\n",
      "min_samples_split=3\n",
      "min_samples_leaf = 1\n",
      "\n",
      "F1 score \"Случайный лес\": 0.57099\n",
      "Параметры:\n",
      "max_depth = 4\n",
      "n_estimators = 1\n",
      "min_samples_split=2\n",
      "min_samples_leaf = 1\n",
      "\n",
      "ROC score \"Случайный лес\": 0.83755\n",
      "Параметры:\n",
      "max_depth = 7\n",
      "n_estimators = 3\n",
      "min_samples_split=4\n",
      "min_samples_leaf = 1\n"
     ]
    },
    {
     "name": "stderr",
     "output_type": "stream",
     "text": [
      "\n"
     ]
    }
   ],
   "source": [
    "rfc_best_model_as = None\n",
    "rfc_best_model_f1 = None\n",
    "rfc_best_model_roc = None\n",
    "rfc_best_params_as = 0\n",
    "rfc_best_params_f1 = 0\n",
    "rfc_best_params_roc = 0\n",
    "rfc_best_result_as = 0\n",
    "rfc_best_result_f1 = 0\n",
    "rfc_best_result_roc = 0\n",
    "\n",
    "for params in tqdm(itertools.product(range(1,8),range(1,5),range(2,6), range(1,5))):\n",
    "    depth, est, min_s_s, min_s_l = params\n",
    "    rfc_model = RandomForestClassifier(\n",
    "        random_state=12345, \n",
    "        max_depth=depth,\n",
    "        n_estimators=est,\n",
    "        min_samples_split=min_s_s, \n",
    "        min_samples_leaf=min_s_l\n",
    "    )\n",
    "    rfc_model.fit(features_ohe_train, target_train)\n",
    "    predictions = rfc_model.predict(features_ohe_valid)\n",
    "    \n",
    "    result_as = accuracy_score(target_valid, predictions)\n",
    "    result_f1 = f1_score(target_valid, predictions)\n",
    "    probabilities_valid = rfc_model.predict_proba(features_ohe_valid)\n",
    "    probabilities_one_valid = probabilities_valid[:, 1]\n",
    "    result_roc = roc_auc_score(target_valid, probabilities_one_valid)\n",
    "    \n",
    "    if result_as > rfc_best_result_as:\n",
    "        rfc_best_model_as = rfc_model\n",
    "        rfc_best_result_as = result_as\n",
    "        rfc_best_params_as = params\n",
    "    if result_f1 > rfc_best_result_f1:\n",
    "        rfc_best_model_f1 = rfc_model\n",
    "        rfc_best_result_f1 = result_f1\n",
    "        rfc_best_params_f1 = params\n",
    "    if result_roc > rfc_best_result_roc:\n",
    "        rfc_best_model_roc = rfc_model\n",
    "        rfc_best_result_roc = result_roc\n",
    "        rfc_best_params_roc = params\n",
    "        \n",
    "print(f'\\nAccuracy \"Случайный лес\": {np.round(rfc_best_result_as,5)}')\n",
    "print(f'Параметры:\\nmax_depth = {rfc_best_params_as[0]}\\nn_estimators = {rfc_best_params_as[1]}\\nmin_samples_split={rfc_best_params_as[2]}\\nmin_samples_leaf = {rfc_best_params_as[3]}')\n",
    "print(f'\\nF1 score \"Случайный лес\": {np.round(rfc_best_result_f1,5)}')\n",
    "print(f'Параметры:\\nmax_depth = {rfc_best_params_f1[0]}\\nn_estimators = {rfc_best_params_f1[1]}\\nmin_samples_split={rfc_best_params_f1[2]}\\nmin_samples_leaf = {rfc_best_params_f1[3]}')\n",
    "print(f'\\nROC score \"Случайный лес\": {np.round(rfc_best_result_roc,5)}')\n",
    "print(f'Параметры:\\nmax_depth = {rfc_best_params_roc[0]}\\nn_estimators = {rfc_best_params_roc[1]}\\nmin_samples_split={rfc_best_params_roc[2]}\\nmin_samples_leaf = {rfc_best_params_roc[3]}')"
   ]
  },
  {
   "cell_type": "markdown",
   "metadata": {},
   "source": [
    "<div class=\"alert alert-block alert-info\">\n",
    "<b>Совет: </b> Наиболее выгодно подбирать параметры по целевой метрике.\n",
    "</div>"
   ]
  },
  {
   "cell_type": "markdown",
   "metadata": {},
   "source": [
    "<div class=\"alert alert-block alert-warning\">\n",
    "<b>Комментарий студента: </b>Спасибо, на будущее учту. Остальные метрики я добавил для себя, так как было любопытно как они себя видут.\n",
    "</div>"
   ]
  },
  {
   "cell_type": "markdown",
   "metadata": {},
   "source": [
    "**DecisionTreeClassifier**"
   ]
  },
  {
   "cell_type": "code",
   "execution_count": 19,
   "metadata": {},
   "outputs": [
    {
     "name": "stderr",
     "output_type": "stream",
     "text": [
      "200it [00:04, 44.69it/s]"
     ]
    },
    {
     "name": "stdout",
     "output_type": "stream",
     "text": [
      "\n",
      "Accuracy \"Дерево решений\": 0.85864\n",
      "Параметры:\n",
      "max_depth = 6\n",
      "min_samples_leaf = 8\n",
      "min_samples_split=2\n",
      "\n",
      "F1 score \"Дерево решений\": 0.57274\n",
      "Параметры:\n",
      "max_depth = 9\n",
      "min_samples_leaf = 9\n",
      "min_samples_split=2\n",
      "\n",
      "ROC score \"Дерево решений\": 0.84631\n",
      "Параметры:\n",
      "max_depth = 7\n",
      "min_samples_leaf = 10\n",
      "min_samples_split=2\n"
     ]
    },
    {
     "name": "stderr",
     "output_type": "stream",
     "text": [
      "\n"
     ]
    }
   ],
   "source": [
    "dtc_best_model_as = None\n",
    "dtc_best_model_f1 = None\n",
    "dtc_best_model_roc = None\n",
    "dtc_best_params_as = 0\n",
    "dtc_best_params_f1 = 0\n",
    "dtc_best_params_roc = 0\n",
    "dtc_best_result_as = 0\n",
    "dtc_best_result_f1 = 0\n",
    "dtc_best_result_roc = 0\n",
    "\n",
    "for params in tqdm(itertools.product(range(1,11),range(1,11),range(2,4))):\n",
    "    depth, leaf, split = params\n",
    "    dtc_model = DecisionTreeClassifier(\n",
    "        random_state=12345, \n",
    "        max_depth=depth,\n",
    "        min_samples_leaf=leaf, \n",
    "        min_samples_split=split\n",
    "    )\n",
    "    dtc_model.fit(features_ohe_train, target_train)\n",
    "    predictions = dtc_model.predict(features_ohe_valid)\n",
    "    \n",
    "    result_as = accuracy_score(target_valid, predictions)\n",
    "    result_f1 = f1_score(target_valid, predictions)\n",
    "    probabilities_valid = dtc_model.predict_proba(features_ohe_valid)\n",
    "    probabilities_one_valid = probabilities_valid[:, 1]\n",
    "    result_roc = roc_auc_score(target_valid, probabilities_one_valid)\n",
    "    \n",
    "    if result_as > dtc_best_result_as:\n",
    "        dtc_best_model_as = dtc_model\n",
    "        dtc_best_result_as = result_as\n",
    "        dtc_best_params_as = params\n",
    "    if result_f1 > dtc_best_result_f1:\n",
    "        dtc_best_model_f1 = dtc_model\n",
    "        dtc_best_result_f1 = result_f1\n",
    "        dtc_best_params_f1 = params\n",
    "    if result_roc > dtc_best_result_roc:\n",
    "        dtc_best_model_roc = dtc_model\n",
    "        dtc_best_result_roc = result_roc\n",
    "        dtc_best_params_roc = params\n",
    "        \n",
    "print(f'\\nAccuracy \"Дерево решений\": {np.round(dtc_best_result_as,5)}')\n",
    "print(f'Параметры:\\nmax_depth = {dtc_best_params_as[0]}\\nmin_samples_leaf = {dtc_best_params_as[1]}\\nmin_samples_split={dtc_best_params_as[2]}')\n",
    "print(f'\\nF1 score \"Дерево решений\": {np.round(dtc_best_result_f1,5)}')\n",
    "print(f'Параметры:\\nmax_depth = {dtc_best_params_f1[0]}\\nmin_samples_leaf = {dtc_best_params_f1[1]}\\nmin_samples_split={dtc_best_params_f1[2]}')\n",
    "print(f'\\nROC score \"Дерево решений\": {np.round(dtc_best_result_roc,5)}')\n",
    "print(f'Параметры:\\nmax_depth = {dtc_best_params_roc[0]}\\nmin_samples_leaf = {dtc_best_params_roc[1]}\\nmin_samples_split={dtc_best_params_roc[2]}')"
   ]
  },
  {
   "cell_type": "markdown",
   "metadata": {},
   "source": [
    "**LogisticRegression**"
   ]
  },
  {
   "cell_type": "code",
   "execution_count": 20,
   "metadata": {
    "scrolled": false
   },
   "outputs": [
    {
     "name": "stdout",
     "output_type": "stream",
     "text": [
      "\n",
      "Accuracy \"Логистической регрессии\": 0.79593\n",
      "Параметры:\n",
      "solver = newton-cg\n",
      "penalty = l2\n",
      "\n",
      "F1 score \"Логистической регрессии\": 0.47494\n",
      "Параметры:\n",
      "solver = saga\n",
      "penalty = l1\n",
      "\n",
      "ROC score \"Логистической регрессии\": 0.75817\n",
      "Параметры:\n",
      "solver = lbfgs\n",
      "penalty = none\n"
     ]
    }
   ],
   "source": [
    "lr_best_model_as = None\n",
    "lr_best_model_f1 = None\n",
    "lr_best_model_roc = None\n",
    "lr_best_params_as = 0\n",
    "lr_best_params_f1 = 0\n",
    "lr_best_params_roc = 0\n",
    "lr_best_result_as = 0\n",
    "lr_best_result_f1 = 0\n",
    "lr_best_result_roc = 0\n",
    "\n",
    "# словарь для перебора параметров\n",
    "params = {'newton-cg' : ['l2','none'], 'lbfgs': ['l2','none'], 'sag': ['l2','none'], 'saga': ['elasticnet', 'l1', 'l2', 'none'], 'liblinear': ['l1','l2']}\n",
    "\n",
    "for slvr in params:\n",
    "    for pnlt in params[slvr]:\n",
    "        l1_rt=None\n",
    "        if pnlt == 'elasticnet':\n",
    "            l1_rt = 0.5\n",
    "        lr_model = LogisticRegression(\n",
    "            random_state=12345, \n",
    "            solver=slvr, \n",
    "            penalty=pnlt, \n",
    "            l1_ratio=l1_rt, \n",
    "            max_iter=300\n",
    "        )\n",
    "        lr_model.fit(features_ohe_norm_train, target_train)\n",
    "        predictions = lr_model.predict(features_ohe_norm_valid)\n",
    "        \n",
    "        result_as = accuracy_score(target_valid, predictions)\n",
    "        result_f1 = f1_score(target_valid, predictions)\n",
    "        probabilities_valid = lr_model.predict_proba(features_ohe_norm_valid)\n",
    "        probabilities_one_valid = probabilities_valid[:, 1]\n",
    "        result_roc = roc_auc_score(target_valid, probabilities_one_valid)\n",
    "        \n",
    "        if result_as > lr_best_result_as:\n",
    "            lr_best_model_as = lr_model\n",
    "            lr_best_result_as = result_as\n",
    "            lr_best_params_as = [slvr, pnlt]\n",
    "        if result_f1 > lr_best_result_f1:\n",
    "            lr_best_model_f1 = lr_model\n",
    "            lr_best_result_f1 = result_f1\n",
    "            lr_best_params_f1 = [slvr, pnlt]\n",
    "        if result_roc > lr_best_result_roc:\n",
    "            lr_best_model_roc = lr_model\n",
    "            lr_best_result_roc = result_roc\n",
    "            lr_best_params_roc = [slvr, pnlt]\n",
    "                  \n",
    "print(f'\\nAccuracy \"Логистической регрессии\": {np.round(lr_best_result_as,5)}')\n",
    "print(f'Параметры:\\nsolver = {lr_best_params_as[0]}\\npenalty = {lr_best_params_as[1]}')\n",
    "print(f'\\nF1 score \"Логистической регрессии\": {np.round(lr_best_result_f1,5)}')\n",
    "print(f'Параметры:\\nsolver = {lr_best_params_f1[0]}\\npenalty = {lr_best_params_f1[1]}')\n",
    "print(f'\\nROC score \"Логистической регрессии\": {np.round(lr_best_result_roc,5)}')\n",
    "print(f'Параметры:\\nsolver = {lr_best_params_roc[0]}\\npenalty = {lr_best_params_roc[1]}')"
   ]
  },
  {
   "cell_type": "markdown",
   "metadata": {},
   "source": [
    "На несбалансированных данных модели Логистической регресии показали наименьшие результаты.<br>\n",
    "Результаты у моделей Случайного леса и Дерева решений - сопоставимые."
   ]
  },
  {
   "cell_type": "markdown",
   "metadata": {},
   "source": [
    "<div class=\"alert alert-block alert-success\">\n",
    "<b>Успех:</b> Молодец, что попробовал разные модели в этом шаге!\n",
    "</div>"
   ]
  },
  {
   "cell_type": "markdown",
   "metadata": {},
   "source": [
    "## Борьба с дисбалансом"
   ]
  },
  {
   "cell_type": "markdown",
   "metadata": {},
   "source": [
    "Запустим модели с дополнительным параметром балансировки классов `class_weight='balanced'`"
   ]
  },
  {
   "cell_type": "markdown",
   "metadata": {},
   "source": [
    "**RandomForestClassifier**"
   ]
  },
  {
   "cell_type": "code",
   "execution_count": 21,
   "metadata": {},
   "outputs": [
    {
     "name": "stderr",
     "output_type": "stream",
     "text": [
      "616it [00:20, 29.99it/s]\n"
     ]
    },
    {
     "name": "stdout",
     "output_type": "stream",
     "text": [
      "\n",
      "Accuracy \"Случайный лес\": 0.83333\n",
      "Параметры:\n",
      "max_depth = 11\n",
      "n_estimators = 7\n",
      "min_samples_split=3\n",
      "min_samples_leaf = 1\n",
      "\n",
      "F1 score \"Случайный лес\": 0.61188\n",
      "Параметры:\n",
      "max_depth = 10\n",
      "n_estimators = 6\n",
      "min_samples_split=4\n",
      "min_samples_leaf = 1\n",
      "\n",
      "ROC score \"Случайный лес\": 0.85287\n",
      "Параметры:\n",
      "max_depth = 8\n",
      "n_estimators = 7\n",
      "min_samples_split=2\n",
      "min_samples_leaf = 2\n"
     ]
    }
   ],
   "source": [
    "rfc_best_model_as = None\n",
    "rfc_best_model_f1 = None\n",
    "rfc_best_model_roc = None\n",
    "rfc_best_params_as = 0\n",
    "rfc_best_params_f1 = 0\n",
    "rfc_best_params_roc = 0\n",
    "rfc_best_result_as = 0\n",
    "rfc_best_result_f1 = 0\n",
    "rfc_best_result_roc = 0\n",
    "\n",
    "for params in tqdm(itertools.product(range(1,12),range(1,8),range(2,6), range(1,3))):\n",
    "    depth, est, min_s_s, min_s_l = params\n",
    "    rfc_model = RandomForestClassifier(\n",
    "        random_state=12345, \n",
    "        class_weight='balanced',\n",
    "        max_depth=depth,\n",
    "        n_estimators=est,\n",
    "        min_samples_split=min_s_s, \n",
    "        min_samples_leaf=min_s_l\n",
    "    )\n",
    "    rfc_model.fit(features_ohe_train, target_train)\n",
    "    predictions = rfc_model.predict(features_ohe_valid)\n",
    "    \n",
    "    result_as = accuracy_score(target_valid, predictions)\n",
    "    result_f1 = f1_score(target_valid, predictions)\n",
    "    probabilities_valid = rfc_model.predict_proba(features_ohe_valid)\n",
    "    probabilities_one_valid = probabilities_valid[:, 1]\n",
    "    result_roc = roc_auc_score(target_valid, probabilities_one_valid)\n",
    "    \n",
    "    if result_as > rfc_best_result_as:\n",
    "        rfc_best_model_as = rfc_model\n",
    "        rfc_best_result_as = result_as\n",
    "        rfc_best_params_as = params\n",
    "    if result_f1 > rfc_best_result_f1:\n",
    "        rfc_best_model_f1 = rfc_model\n",
    "        rfc_best_result_f1 = result_f1\n",
    "        rfc_best_params_f1 = params\n",
    "    if result_roc > rfc_best_result_roc:\n",
    "        rfc_best_model_roc = rfc_model\n",
    "        rfc_best_result_roc = result_roc\n",
    "        rfc_best_params_roc = params\n",
    "        \n",
    "print(f'\\nAccuracy \"Случайный лес\": {np.round(rfc_best_result_as,5)}')\n",
    "print(f'Параметры:\\nmax_depth = {rfc_best_params_as[0]}\\nn_estimators = {rfc_best_params_as[1]}\\nmin_samples_split={rfc_best_params_as[2]}\\nmin_samples_leaf = {rfc_best_params_as[3]}')\n",
    "print(f'\\nF1 score \"Случайный лес\": {np.round(rfc_best_result_f1,5)}')\n",
    "print(f'Параметры:\\nmax_depth = {rfc_best_params_f1[0]}\\nn_estimators = {rfc_best_params_f1[1]}\\nmin_samples_split={rfc_best_params_f1[2]}\\nmin_samples_leaf = {rfc_best_params_f1[3]}')\n",
    "print(f'\\nROC score \"Случайный лес\": {np.round(rfc_best_result_roc,5)}')\n",
    "print(f'Параметры:\\nmax_depth = {rfc_best_params_roc[0]}\\nn_estimators = {rfc_best_params_roc[1]}\\nmin_samples_split={rfc_best_params_roc[2]}\\nmin_samples_leaf = {rfc_best_params_roc[3]}')"
   ]
  },
  {
   "cell_type": "markdown",
   "metadata": {},
   "source": [
    "**DecisionTreeClassifier**"
   ]
  },
  {
   "cell_type": "code",
   "execution_count": 22,
   "metadata": {},
   "outputs": [
    {
     "name": "stderr",
     "output_type": "stream",
     "text": [
      "162it [00:03, 45.14it/s]"
     ]
    },
    {
     "name": "stdout",
     "output_type": "stream",
     "text": [
      "\n",
      "Accuracy \"Дерево решений\": 0.77503\n",
      "Параметры:\n",
      "max_depth = 9\n",
      "min_samples_leaf = 2\n",
      "min_samples_split=6\n",
      "\n",
      "F1 score \"Дерево решений\": 0.57375\n",
      "Параметры:\n",
      "max_depth = 8\n",
      "min_samples_leaf = 2\n",
      "min_samples_split=6\n",
      "\n",
      "ROC score \"Дерево решений\": 0.84159\n",
      "Параметры:\n",
      "max_depth = 6\n",
      "min_samples_leaf = 3\n",
      "min_samples_split=2\n"
     ]
    },
    {
     "name": "stderr",
     "output_type": "stream",
     "text": [
      "\n"
     ]
    }
   ],
   "source": [
    "dtc_best_model_as = None\n",
    "dtc_best_model_f1 = None\n",
    "dtc_best_model_roc = None\n",
    "dtc_best_params_as = 0\n",
    "dtc_best_params_f1 = 0\n",
    "dtc_best_params_roc = 0\n",
    "dtc_best_result_as = 0\n",
    "dtc_best_result_f1 = 0\n",
    "dtc_best_result_roc = 0\n",
    "\n",
    "for params in tqdm(itertools.product(range(1,10),range(1,4),range(2,8))):\n",
    "    depth, leaf, split = params\n",
    "    dtc_model = DecisionTreeClassifier(\n",
    "        random_state=12345,\n",
    "        class_weight='balanced',\n",
    "        max_depth=depth,\n",
    "        min_samples_leaf=leaf, \n",
    "        min_samples_split=split\n",
    "    )\n",
    "    dtc_model.fit(features_ohe_train, target_train)\n",
    "    predictions = dtc_model.predict(features_ohe_valid)\n",
    "    \n",
    "    result_as = accuracy_score(target_valid, predictions)\n",
    "    result_f1 = f1_score(target_valid, predictions)\n",
    "    probabilities_valid = dtc_model.predict_proba(features_ohe_valid)\n",
    "    probabilities_one_valid = probabilities_valid[:, 1]\n",
    "    result_roc = roc_auc_score(target_valid, probabilities_one_valid)\n",
    "    \n",
    "    if result_as > dtc_best_result_as:\n",
    "        dtc_best_model_as = dtc_model\n",
    "        dtc_best_result_as = result_as\n",
    "        dtc_best_params_as = params\n",
    "    if result_f1 > dtc_best_result_f1:\n",
    "        dtc_best_model_f1 = dtc_model\n",
    "        dtc_best_result_f1 = result_f1\n",
    "        dtc_best_params_f1 = params\n",
    "    if result_roc > dtc_best_result_roc:\n",
    "        dtc_best_model_roc = dtc_model\n",
    "        dtc_best_result_roc = result_roc\n",
    "        dtc_best_params_roc = params\n",
    "        \n",
    "print(f'\\nAccuracy \"Дерево решений\": {np.round(dtc_best_result_as,5)}')\n",
    "print(f'Параметры:\\nmax_depth = {dtc_best_params_as[0]}\\nmin_samples_leaf = {dtc_best_params_as[1]}\\nmin_samples_split={dtc_best_params_as[2]}')\n",
    "print(f'\\nF1 score \"Дерево решений\": {np.round(dtc_best_result_f1,5)}')\n",
    "print(f'Параметры:\\nmax_depth = {dtc_best_params_f1[0]}\\nmin_samples_leaf = {dtc_best_params_f1[1]}\\nmin_samples_split={dtc_best_params_f1[2]}')\n",
    "print(f'\\nROC score \"Дерево решений\": {np.round(dtc_best_result_roc,5)}')\n",
    "print(f'Параметры:\\nmax_depth = {dtc_best_params_roc[0]}\\nmin_samples_leaf = {dtc_best_params_roc[1]}\\nmin_samples_split={dtc_best_params_roc[2]}')"
   ]
  },
  {
   "cell_type": "markdown",
   "metadata": {},
   "source": [
    "**LogisticRegression**"
   ]
  },
  {
   "cell_type": "code",
   "execution_count": 23,
   "metadata": {},
   "outputs": [
    {
     "name": "stdout",
     "output_type": "stream",
     "text": [
      "\n",
      "Accuracy \"Логистической регрессии\": 0.66777\n",
      "Параметры:\n",
      "solver = newton-cg\n",
      "penalty = l2\n",
      "\n",
      "F1 score \"Логистической регрессии\": 0.44485\n",
      "Параметры:\n",
      "solver = newton-cg\n",
      "penalty = l2\n",
      "\n",
      "ROC score \"Логистической регрессии\": 0.76154\n",
      "Параметры:\n",
      "solver = lbfgs\n",
      "penalty = none\n"
     ]
    }
   ],
   "source": [
    "lr_best_model_as = None\n",
    "lr_best_model_f1 = None\n",
    "lr_best_model_roc = None\n",
    "lr_best_params_as = 0\n",
    "lr_best_params_f1 = 0\n",
    "lr_best_params_roc = 0\n",
    "lr_best_result_as = 0\n",
    "lr_best_result_f1 = 0\n",
    "lr_best_result_roc = 0\n",
    "\n",
    "# словарь для перебора параметров\n",
    "params = {'newton-cg' : ['l2','none'], 'lbfgs': ['l2','none'], 'sag': ['l2','none'], 'saga': ['elasticnet', 'l1', 'l2', 'none'], 'liblinear': ['l1','l2']}\n",
    "\n",
    "for slvr in params:\n",
    "    for pnlt in params[slvr]:\n",
    "        l1_rt=None\n",
    "        if pnlt == 'elasticnet':\n",
    "            l1_rt = 0.5\n",
    "        lr_model = LogisticRegression(\n",
    "            random_state=12345,\n",
    "            class_weight='balanced',\n",
    "            solver=slvr, \n",
    "            penalty=pnlt, \n",
    "            l1_ratio=l1_rt, \n",
    "            max_iter=300\n",
    "        )\n",
    "        lr_model.fit(features_ohe_norm_train, target_train)\n",
    "        predictions = lr_model.predict(features_ohe_norm_valid)\n",
    "        \n",
    "        result_as = accuracy_score(target_valid, predictions)\n",
    "        result_f1 = f1_score(target_valid, predictions)\n",
    "        probabilities_valid = lr_model.predict_proba(features_ohe_norm_valid)\n",
    "        probabilities_one_valid = probabilities_valid[:, 1]\n",
    "        result_roc = roc_auc_score(target_valid, probabilities_one_valid)\n",
    "        \n",
    "        if result_as > lr_best_result_as:\n",
    "            lr_best_model_as = lr_model\n",
    "            lr_best_result_as = result_as\n",
    "            lr_best_params_as = [slvr, pnlt]\n",
    "        if result_f1 > lr_best_result_f1:\n",
    "            lr_best_model_f1 = lr_model\n",
    "            lr_best_result_f1 = result_f1\n",
    "            lr_best_params_f1 = [slvr, pnlt]\n",
    "        if result_roc > lr_best_result_roc:\n",
    "            lr_best_model_roc = lr_model\n",
    "            lr_best_result_roc = result_roc\n",
    "            lr_best_params_roc = [slvr, pnlt]\n",
    "                  \n",
    "print(f'\\nAccuracy \"Логистической регрессии\": {np.round(lr_best_result_as,5)}')\n",
    "print(f'Параметры:\\nsolver = {lr_best_params_as[0]}\\npenalty = {lr_best_params_as[1]}')\n",
    "print(f'\\nF1 score \"Логистической регрессии\": {np.round(lr_best_result_f1,5)}')\n",
    "print(f'Параметры:\\nsolver = {lr_best_params_f1[0]}\\npenalty = {lr_best_params_f1[1]}')\n",
    "print(f'\\nROC score \"Логистической регрессии\": {np.round(lr_best_result_roc,5)}')\n",
    "print(f'Параметры:\\nsolver = {lr_best_params_roc[0]}\\npenalty = {lr_best_params_roc[1]}')"
   ]
  },
  {
   "cell_type": "markdown",
   "metadata": {},
   "source": [
    "Использование параметра `class_weight='balanced'`позволило повысить качество модели \"Случайный лес\", качество остальных моделей значительно не поменялось."
   ]
  },
  {
   "cell_type": "markdown",
   "metadata": {},
   "source": [
    "<div class=\"alert alert-block alert-success\">\n",
    "<b>Успех:</b> Я тоже обычно начинаю с перевзвешивания.\n",
    "</div>"
   ]
  },
  {
   "cell_type": "markdown",
   "metadata": {},
   "source": [
    "Увеличим выборку с редким классом 1"
   ]
  },
  {
   "cell_type": "code",
   "execution_count": 24,
   "metadata": {},
   "outputs": [],
   "source": [
    "def upsample(features, target, repeat):\n",
    "    \n",
    "    features_zeros = features[target == 0]\n",
    "    features_ones = features[target == 1]\n",
    "    target_zeros = target[target == 0]\n",
    "    target_ones = target[target == 1]\n",
    "\n",
    "    features_upsampled = pd.concat([features_zeros] + [features_ones] * repeat)\n",
    "    target_upsampled = pd.concat([target_zeros] + [target_ones] * repeat)\n",
    "    \n",
    "    features_upsampled, target_upsampled = shuffle(\n",
    "        features_upsampled, target_upsampled, random_state=12345)\n",
    "    \n",
    "    return features_upsampled, target_upsampled\n",
    "\n",
    "features_ohe_us_train, target_us_train = upsample(features_ohe_train, target_train, 10)\n",
    "features_ohe_norm_us_train, target_norm_us_train = upsample(features_ohe_norm_train, target_train, 10)"
   ]
  },
  {
   "cell_type": "markdown",
   "metadata": {},
   "source": [
    "<div class=\"alert alert-block alert-info\">\n",
    "<b>Совет: </b> А почему repeat=10? Разве теперь классы стали сбалансированными?\n",
    "</div>"
   ]
  },
  {
   "cell_type": "markdown",
   "metadata": {},
   "source": [
    "<div class=\"alert alert-block alert-warning\">\n",
    "<b>Комментарий студента: </b>В этом месте у меня возникло небольшое замешательство. В учебном материале не было уделено внимание, как именно определять оптимальное значение repeat. В упражениях использовалось значение 10, поэтому я его и взял. Правильно ли я понимаю, что наша цель, чтобы доля каждого класса была 50%. Т.е. в нашем случае доля класса 1 составляет 20%, поэтому repeat должен равняться 4? Поправь, пожалуйста если я не прав, если прав, то работу можно засчитыввать.\n",
    "</div>"
   ]
  },
  {
   "cell_type": "markdown",
   "metadata": {},
   "source": [
    "<div class=\"alert alert-block alert-success\">\n",
    "<b>Успех (ревью 2):</b> Да, именно так. Можно еще подобрать этот параметр на валидационной выборке.\n",
    "</div>"
   ]
  },
  {
   "cell_type": "markdown",
   "metadata": {},
   "source": [
    "При тестирование моделей было проверено, что уменьшение класса 0 не целесообразно, т.к. уменьшает качество модели по метрике f1."
   ]
  },
  {
   "cell_type": "code",
   "execution_count": 25,
   "metadata": {},
   "outputs": [],
   "source": [
    "#def downsample(features, target, fraction):\n",
    "    \n",
    "#    features_zeros = features[target == 0]\n",
    "#    features_ones = features[target == 1]\n",
    "#    target_zeros = target[target == 0]\n",
    "#    target_ones = target[target == 1]\n",
    "\n",
    "#    features_downsampled = pd.concat(\n",
    "#        [features_zeros.sample(frac=fraction, random_state=12345)] + [features_ones])\n",
    "#    target_downsampled = pd.concat(\n",
    "#        [target_zeros.sample(frac=fraction, random_state=12345)] + [target_ones])\n",
    "    \n",
    "#    features_downsampled, target_downsampled = shuffle(\n",
    "#        features_downsampled, target_downsampled, random_state=12345)\n",
    "    \n",
    "#    return features_downsampled, target_downsampled\n",
    "\n",
    "#features_ohe_ds_train, target_ds_train = downsample(features_ohe_train, target_train, 0.1)\n",
    "#features_ohe_norm_ds_train, target_norm_ds_train = downsample(features_ohe_norm_train, target_train, 0.1)"
   ]
  },
  {
   "cell_type": "markdown",
   "metadata": {},
   "source": [
    "**RandomForestClassifier**"
   ]
  },
  {
   "cell_type": "code",
   "execution_count": 26,
   "metadata": {
    "scrolled": false
   },
   "outputs": [
    {
     "name": "stderr",
     "output_type": "stream",
     "text": [
      "648it [00:41, 15.54it/s]"
     ]
    },
    {
     "name": "stdout",
     "output_type": "stream",
     "text": [
      "\n",
      "Accuracy \"Случайный лес\": 0.82673\n",
      "Параметры:\n",
      "max_depth = 11\n",
      "n_estimators = 8\n",
      "min_samples_split=3\n",
      "min_samples_leaf = 1\n",
      "\n",
      "F1 score \"Случайный лес\": 0.61444\n",
      "Параметры:\n",
      "max_depth = 11\n",
      "n_estimators = 8\n",
      "min_samples_split=3\n",
      "min_samples_leaf = 1\n",
      "\n",
      "ROC score \"Случайный лес\": 0.86308\n",
      "Параметры:\n",
      "max_depth = 9\n",
      "n_estimators = 9\n",
      "min_samples_split=4\n",
      "min_samples_leaf = 1\n"
     ]
    },
    {
     "name": "stderr",
     "output_type": "stream",
     "text": [
      "\n"
     ]
    }
   ],
   "source": [
    "rfc_best_model_as = None\n",
    "rfc_best_model_f1 = None\n",
    "rfc_best_model_roc = None\n",
    "rfc_best_params_as = 0\n",
    "rfc_best_params_f1 = 0\n",
    "rfc_best_params_roc = 0\n",
    "rfc_best_result_as = 0\n",
    "rfc_best_result_f1 = 0\n",
    "rfc_best_result_roc = 0\n",
    "\n",
    "for params in tqdm(itertools.product(range(1,13),range(1,10),range(2,5), range(1,3))):\n",
    "    depth, est, min_s_s, min_s_l = params\n",
    "    rfc_model = RandomForestClassifier(\n",
    "        random_state=12345,\n",
    "        class_weight='balanced',        \n",
    "        max_depth=depth,\n",
    "        n_estimators=est,\n",
    "        min_samples_split=min_s_s, \n",
    "        min_samples_leaf=min_s_l\n",
    "    )\n",
    "    rfc_model.fit(features_ohe_us_train, target_us_train)\n",
    "    predictions = rfc_model.predict(features_ohe_valid)\n",
    "    \n",
    "    result_as = accuracy_score(target_valid, predictions)\n",
    "    result_f1 = f1_score(target_valid, predictions)\n",
    "    probabilities_valid = rfc_model.predict_proba(features_ohe_valid)\n",
    "    probabilities_one_valid = probabilities_valid[:, 1]\n",
    "    result_roc = roc_auc_score(target_valid, probabilities_one_valid)\n",
    "    \n",
    "    if result_as > rfc_best_result_as:\n",
    "        rfc_best_model_as = rfc_model\n",
    "        rfc_best_result_as = result_as\n",
    "        rfc_best_params_as = params\n",
    "    if result_f1 > rfc_best_result_f1:\n",
    "        rfc_best_model_f1 = rfc_model\n",
    "        rfc_best_result_f1 = result_f1\n",
    "        rfc_best_params_f1 = params\n",
    "    if result_roc > rfc_best_result_roc:\n",
    "        rfc_best_model_roc = rfc_model\n",
    "        rfc_best_result_roc = result_roc\n",
    "        rfc_best_params_roc = params\n",
    "        \n",
    "print(f'\\nAccuracy \"Случайный лес\": {np.round(rfc_best_result_as,5)}')\n",
    "print(f'Параметры:\\nmax_depth = {rfc_best_params_as[0]}\\nn_estimators = {rfc_best_params_as[1]}\\nmin_samples_split={rfc_best_params_as[2]}\\nmin_samples_leaf = {rfc_best_params_as[3]}')\n",
    "print(f'\\nF1 score \"Случайный лес\": {np.round(rfc_best_result_f1,5)}')\n",
    "print(f'Параметры:\\nmax_depth = {rfc_best_params_f1[0]}\\nn_estimators = {rfc_best_params_f1[1]}\\nmin_samples_split={rfc_best_params_f1[2]}\\nmin_samples_leaf = {rfc_best_params_f1[3]}')\n",
    "print(f'\\nROC score \"Случайный лес\": {np.round(rfc_best_result_roc,5)}')\n",
    "print(f'Параметры:\\nmax_depth = {rfc_best_params_roc[0]}\\nn_estimators = {rfc_best_params_roc[1]}\\nmin_samples_split={rfc_best_params_roc[2]}\\nmin_samples_leaf = {rfc_best_params_roc[3]}')"
   ]
  },
  {
   "cell_type": "markdown",
   "metadata": {},
   "source": [
    "**DecisionTreeClassifier**"
   ]
  },
  {
   "cell_type": "code",
   "execution_count": 27,
   "metadata": {
    "scrolled": true
   },
   "outputs": [
    {
     "name": "stderr",
     "output_type": "stream",
     "text": [
      "135it [00:05, 26.09it/s]"
     ]
    },
    {
     "name": "stdout",
     "output_type": "stream",
     "text": [
      "\n",
      "Accuracy \"Дерево решений\": 0.77448\n",
      "Параметры:\n",
      "max_depth = 9\n",
      "min_samples_leaf = 3\n",
      "min_samples_split=2\n",
      "\n",
      "F1 score \"Дерево решений\": 0.57231\n",
      "Параметры:\n",
      "max_depth = 7\n",
      "min_samples_leaf = 3\n",
      "min_samples_split=2\n",
      "\n",
      "ROC score \"Дерево решений\": 0.83465\n",
      "Параметры:\n",
      "max_depth = 6\n",
      "min_samples_leaf = 4\n",
      "min_samples_split=2\n"
     ]
    },
    {
     "name": "stderr",
     "output_type": "stream",
     "text": [
      "\n"
     ]
    }
   ],
   "source": [
    "dtc_best_model_as = None\n",
    "dtc_best_model_f1 = None\n",
    "dtc_best_model_roc = None\n",
    "dtc_best_params_as = 0\n",
    "dtc_best_params_f1 = 0\n",
    "dtc_best_params_roc = 0\n",
    "dtc_best_result_as = 0\n",
    "dtc_best_result_f1 = 0\n",
    "dtc_best_result_roc = 0\n",
    "\n",
    "for params in tqdm(itertools.product(range(1,10),range(1,6),range(2,5))):\n",
    "    depth, leaf, split = params\n",
    "    dtc_model = DecisionTreeClassifier(\n",
    "        random_state=12345,\n",
    "        class_weight='balanced',\n",
    "        max_depth=depth,\n",
    "        min_samples_leaf=leaf, \n",
    "        min_samples_split=split\n",
    "    )\n",
    "    dtc_model.fit(features_ohe_us_train, target_us_train)\n",
    "    predictions = dtc_model.predict(features_ohe_valid)\n",
    "    \n",
    "    result_as = accuracy_score(target_valid, predictions)\n",
    "    result_f1 = f1_score(target_valid, predictions)\n",
    "    probabilities_valid = dtc_model.predict_proba(features_ohe_valid)\n",
    "    probabilities_one_valid = probabilities_valid[:, 1]\n",
    "    result_roc = roc_auc_score(target_valid, probabilities_one_valid)\n",
    "    \n",
    "    if result_as > dtc_best_result_as:\n",
    "        dtc_best_model_as = dtc_model\n",
    "        dtc_best_result_as = result_as\n",
    "        dtc_best_params_as = params\n",
    "    if result_f1 > dtc_best_result_f1:\n",
    "        dtc_best_model_f1 = dtc_model\n",
    "        dtc_best_result_f1 = result_f1\n",
    "        dtc_best_params_f1 = params\n",
    "    if result_roc > dtc_best_result_roc:\n",
    "        dtc_best_model_roc = dtc_model\n",
    "        dtc_best_result_roc = result_roc\n",
    "        dtc_best_params_roc = params\n",
    "        \n",
    "print(f'\\nAccuracy \"Дерево решений\": {np.round(dtc_best_result_as,5)}')\n",
    "print(f'Параметры:\\nmax_depth = {dtc_best_params_as[0]}\\nmin_samples_leaf = {dtc_best_params_as[1]}\\nmin_samples_split={dtc_best_params_as[2]}')\n",
    "print(f'\\nF1 score \"Дерево решений\": {np.round(dtc_best_result_f1,5)}')\n",
    "print(f'Параметры:\\nmax_depth = {dtc_best_params_f1[0]}\\nmin_samples_leaf = {dtc_best_params_f1[1]}\\nmin_samples_split={dtc_best_params_f1[2]}')\n",
    "print(f'\\nROC score \"Дерево решений\": {np.round(dtc_best_result_roc,5)}')\n",
    "print(f'Параметры:\\nmax_depth = {dtc_best_params_roc[0]}\\nmin_samples_leaf = {dtc_best_params_roc[1]}\\nmin_samples_split={dtc_best_params_roc[2]}')"
   ]
  },
  {
   "cell_type": "markdown",
   "metadata": {},
   "source": [
    "**LogisticRegression**"
   ]
  },
  {
   "cell_type": "code",
   "execution_count": 28,
   "metadata": {
    "scrolled": true
   },
   "outputs": [
    {
     "name": "stdout",
     "output_type": "stream",
     "text": [
      "\n",
      "Accuracy \"Логистической регрессии\": 0.65127\n",
      "Параметры:\n",
      "solver = saga\n",
      "penalty = l2\n",
      "\n",
      "F1 score \"Логистической регрессии\": 0.44288\n",
      "Параметры:\n",
      "solver = saga\n",
      "penalty = l2\n",
      "\n",
      "ROC score \"Логистической регрессии\": 0.76154\n",
      "Параметры:\n",
      "solver = lbfgs\n",
      "penalty = none\n"
     ]
    }
   ],
   "source": [
    "lr_best_model_as = None\n",
    "lr_best_model_f1 = None\n",
    "lr_best_model_roc = None\n",
    "lr_best_params_as = 0\n",
    "lr_best_params_f1 = 0\n",
    "lr_best_params_roc = 0\n",
    "lr_best_result_as = 0\n",
    "lr_best_result_f1 = 0\n",
    "lr_best_result_roc = 0\n",
    "\n",
    "# словарь для перебора параметров\n",
    "params = {'newton-cg' : ['l2','none'], 'lbfgs': ['l2','none'], 'sag': ['l2','none'], 'saga': ['elasticnet', 'l1', 'l2', 'none'], 'liblinear': ['l1','l2']}\n",
    "\n",
    "for slvr in params:\n",
    "    for pnlt in params[slvr]:\n",
    "        l1_rt=None\n",
    "        if pnlt == 'elasticnet':\n",
    "            l1_rt = 0.5\n",
    "        lr_model = LogisticRegression(\n",
    "            random_state=12345,\n",
    "            class_weight='balanced',\n",
    "            solver=slvr, \n",
    "            penalty=pnlt, \n",
    "            l1_ratio=l1_rt, \n",
    "            max_iter=300\n",
    "        )\n",
    "        lr_model.fit(features_ohe_norm_us_train, target_norm_us_train)\n",
    "        predictions = lr_model.predict(features_ohe_norm_valid)\n",
    "        \n",
    "        result_as = accuracy_score(target_valid, predictions)\n",
    "        result_f1 = f1_score(target_valid, predictions)\n",
    "        probabilities_valid = lr_model.predict_proba(features_ohe_norm_valid)\n",
    "        probabilities_one_valid = probabilities_valid[:, 1]\n",
    "        result_roc = roc_auc_score(target_valid, probabilities_one_valid)\n",
    "        \n",
    "        if result_as > lr_best_result_as:\n",
    "            lr_best_model_as = lr_model\n",
    "            lr_best_result_as = result_as\n",
    "            lr_best_params_as = [slvr, pnlt]\n",
    "        if result_f1 > lr_best_result_f1:\n",
    "            lr_best_model_f1 = lr_model\n",
    "            lr_best_result_f1 = result_f1\n",
    "            lr_best_params_f1 = [slvr, pnlt]\n",
    "        if result_roc > lr_best_result_roc:\n",
    "            lr_best_model_roc = lr_model\n",
    "            lr_best_result_roc = result_roc\n",
    "            lr_best_params_roc = [slvr, pnlt]\n",
    "                  \n",
    "print(f'\\nAccuracy \"Логистической регрессии\": {np.round(lr_best_result_as,5)}')\n",
    "print(f'Параметры:\\nsolver = {lr_best_params_as[0]}\\npenalty = {lr_best_params_as[1]}')\n",
    "print(f'\\nF1 score \"Логистической регрессии\": {np.round(lr_best_result_f1,5)}')\n",
    "print(f'Параметры:\\nsolver = {lr_best_params_f1[0]}\\npenalty = {lr_best_params_f1[1]}')\n",
    "print(f'\\nROC score \"Логистической регрессии\": {np.round(lr_best_result_roc,5)}')\n",
    "print(f'Параметры:\\nsolver = {lr_best_params_roc[0]}\\npenalty = {lr_best_params_roc[1]}')"
   ]
  },
  {
   "cell_type": "markdown",
   "metadata": {},
   "source": [
    "Балансировка классов методом upscale привела к снижению метрки f1 для моделей 'Дерево решений' и 'Логистическая регрессия', а для 'Случайный лес' к повышению с 0.61188 до 0.61444"
   ]
  },
  {
   "cell_type": "markdown",
   "metadata": {},
   "source": [
    "<div class=\"alert alert-block alert-success\">\n",
    "<b>Успех:</b> Радует, что ты заново переподобрал параметры в этом шаге!\n",
    "</div>"
   ]
  },
  {
   "cell_type": "markdown",
   "metadata": {},
   "source": [
    "## Тестирование модели"
   ]
  },
  {
   "cell_type": "markdown",
   "metadata": {},
   "source": [
    "Протестируем модель Случайного леса с лучшим показателем метрики f1."
   ]
  },
  {
   "cell_type": "code",
   "execution_count": 29,
   "metadata": {},
   "outputs": [
    {
     "name": "stdout",
     "output_type": "stream",
     "text": [
      "\n",
      "Accuracy \"Дерево решений\": 0.81473\n",
      "\n",
      "F1 score \"Дерево решений\": 0.59052\n",
      "\n",
      "ROC score \"Дерево решений\": 0.83604\n"
     ]
    }
   ],
   "source": [
    "predictions = rfc_best_model_f1.predict(features_ohe_test)\n",
    "    \n",
    "result_as = accuracy_score(target_test, predictions)\n",
    "result_f1 = f1_score(target_test, predictions)\n",
    "probabilities_valid = rfc_best_model_f1.predict_proba(features_ohe_test)\n",
    "probabilities_one_valid = probabilities_valid[:, 1]\n",
    "result_roc = roc_auc_score(target_test, probabilities_one_valid)\n",
    "    \n",
    "print(f'\\nAccuracy \"Дерево решений\": {np.round(result_as,5)}')\n",
    "print(f'\\nF1 score \"Дерево решений\": {np.round(result_f1,5)}')\n",
    "print(f'\\nROC score \"Дерево решений\": {np.round(result_roc,5)}')"
   ]
  },
  {
   "cell_type": "markdown",
   "metadata": {},
   "source": [
    "Построим график кривой ROC"
   ]
  },
  {
   "cell_type": "code",
   "execution_count": 30,
   "metadata": {},
   "outputs": [
    {
     "data": {
      "image/png": "[encoded data removed]",
      "text/plain": [
       "<Figure size 432x288 with 1 Axes>"
      ]
     },
     "metadata": {
      "needs_background": "light"
     },
     "output_type": "display_data"
    }
   ],
   "source": [
    "fpr, tpr, thresholds = roc_curve(target_test, probabilities_one_valid) \n",
    "\n",
    "plt.figure()\n",
    "plt.plot(fpr, tpr)\n",
    "plt.plot([0, 1], [0, 1], linestyle='--')\n",
    "\n",
    "plt.xlim([0.0, 1.0])\n",
    "plt.ylim([0.0, 1.0])\n",
    "\n",
    "plt.xlabel('False Positive Rate')\n",
    "plt.ylabel('True Positive Rate')\n",
    "\n",
    "plt.title('ROC-кривая')\n",
    "\n",
    "plt.show()"
   ]
  },
  {
   "cell_type": "markdown",
   "metadata": {},
   "source": [
    "<div class=\"alert alert-block alert-success\">\n",
    "<b>Успех:</b> Тестирование было сделано правильно, молодец!\n",
    "</div>\n",
    "\n",
    "<div class=\"alert alert-block alert-info\">\n",
    "<b>Совет: </b> Желательно было еще добавить вывод в конце проекта.\n",
    "</div>"
   ]
  },
  {
   "cell_type": "markdown",
   "metadata": {},
   "source": [
    "<div class=\"alert alert-block alert-warning\">\n",
    "<b>Комментарий студента: </b>Добавил вывод, посмотри пожалуйста, корректно ли он сформулирован.\n",
    "</div>"
   ]
  },
  {
   "cell_type": "markdown",
   "metadata": {},
   "source": [
    "**Вывод**<br>\n",
    "При исследовании данных установлено, что классы в целевом признаке не сбалансированы. Для исправления расбалансировки был использован метод upscale. Были исследованы модели \"Случайного леса\", \"Дерева решений\" и \"Логистическоей регрессии\" по метрике F1. Наилучшие результаты показали модели \"Случайного леса\". Для улучшения качества моделей было применено масштабирование данных,а также категоризация данных методом ohe, модели обучались с перезвешиванием класса. На тестовых данных значение метрки F1 составило 0.59052."
   ]
  },
  {
   "cell_type": "markdown",
   "metadata": {},
   "source": [
    "<div class=\"alert alert-block alert-success\">\n",
    "<b>Успех (ревью 2):</b> Да, все ОК.\n",
    "</div>"
   ]
  },
  {
   "cell_type": "markdown",
   "metadata": {},
   "source": [
    "## Чек-лист готовности проекта"
   ]
  },
  {
   "cell_type": "markdown",
   "metadata": {},
   "source": [
    "Поставьте 'x' в выполненных пунктах. Далее нажмите Shift+Enter."
   ]
  },
  {
   "cell_type": "markdown",
   "metadata": {},
   "source": [
    "- [x]  Jupyter Notebook открыт\n",
    "- [x]  Весь код выполняется без ошибок\n",
    "- [x]  Ячейки с кодом расположены в порядке исполнения\n",
    "- [x]  Выполнен шаг 1: данные подготовлены\n",
    "- [x]  Выполнен шаг 2: задача исследована\n",
    "    - [x]  Исследован баланс классов\n",
    "    - [x]  Изучены модели без учёта дисбаланса\n",
    "    - [x]  Написаны выводы по результатам исследования\n",
    "- [x]  Выполнен шаг 3: учтён дисбаланс\n",
    "    - [x]  Применено несколько способов борьбы с дисбалансом\n",
    "    - [x]  Написаны выводы по результатам исследования\n",
    "- [x]  Выполнен шаг 4: проведено тестирование\n",
    "- [x]  Удалось достичь *F1*-меры не менее 0.59\n",
    "- [x]  Исследована метрика *AUC-ROC*"
   ]
  },
  {
   "cell_type": "code",
   "execution_count": null,
   "metadata": {},
   "outputs": [],
   "source": []
  }
 ],
 "metadata": {
  "ExecuteTimeLog": [
   {
    "duration": 381,
    "start_time": "2022-09-23T09:56:59.777Z"
   },
   {
    "duration": 85,
    "start_time": "2022-09-23T09:57:49.555Z"
   },
   {
    "duration": 19,
    "start_time": "2022-09-23T09:58:10.382Z"
   },
   {
    "duration": 98,
    "start_time": "2022-09-23T10:00:36.688Z"
   },
   {
    "duration": 24,
    "start_time": "2022-09-23T10:00:41.964Z"
   },
   {
    "duration": 25,
    "start_time": "2022-09-23T10:58:06.880Z"
   },
   {
    "duration": 24,
    "start_time": "2022-09-23T10:58:18.159Z"
   },
   {
    "duration": 3,
    "start_time": "2022-09-23T11:00:37.306Z"
   },
   {
    "duration": 12,
    "start_time": "2022-09-23T11:00:39.662Z"
   },
   {
    "duration": 12,
    "start_time": "2022-09-23T11:00:41.907Z"
   },
   {
    "duration": 40,
    "start_time": "2022-09-23T11:00:51.116Z"
   },
   {
    "duration": 13,
    "start_time": "2022-09-23T11:00:52.450Z"
   },
   {
    "duration": 14,
    "start_time": "2022-09-23T11:00:54.271Z"
   },
   {
    "duration": 6,
    "start_time": "2022-09-23T11:01:27.015Z"
   },
   {
    "duration": 7,
    "start_time": "2022-09-23T11:01:31.962Z"
   },
   {
    "duration": 13,
    "start_time": "2022-09-23T11:01:39.353Z"
   },
   {
    "duration": 9,
    "start_time": "2022-09-23T11:03:04.255Z"
   },
   {
    "duration": 72,
    "start_time": "2022-09-23T11:03:09.900Z"
   },
   {
    "duration": 7,
    "start_time": "2022-09-23T11:03:12.497Z"
   },
   {
    "duration": 8,
    "start_time": "2022-09-23T11:03:49.058Z"
   },
   {
    "duration": 7,
    "start_time": "2022-09-23T11:04:12.796Z"
   },
   {
    "duration": 6,
    "start_time": "2022-09-23T11:04:41.648Z"
   },
   {
    "duration": 5,
    "start_time": "2022-09-23T11:06:32.962Z"
   },
   {
    "duration": 6,
    "start_time": "2022-09-23T11:06:50.006Z"
   },
   {
    "duration": 9,
    "start_time": "2022-09-23T11:07:02.481Z"
   },
   {
    "duration": 7,
    "start_time": "2022-09-23T11:07:10.531Z"
   },
   {
    "duration": 9,
    "start_time": "2022-09-23T11:09:08.088Z"
   },
   {
    "duration": 6,
    "start_time": "2022-09-23T11:09:57.824Z"
   },
   {
    "duration": 9,
    "start_time": "2022-09-23T11:11:05.874Z"
   },
   {
    "duration": 8,
    "start_time": "2022-09-23T11:11:09.218Z"
   },
   {
    "duration": 5,
    "start_time": "2022-09-23T11:11:14.477Z"
   },
   {
    "duration": 10,
    "start_time": "2022-09-23T11:18:54.641Z"
   },
   {
    "duration": 7,
    "start_time": "2022-09-23T11:19:11.539Z"
   },
   {
    "duration": 4,
    "start_time": "2022-09-23T11:19:31.252Z"
   },
   {
    "duration": 7,
    "start_time": "2022-09-23T11:21:16.587Z"
   },
   {
    "duration": 8,
    "start_time": "2022-09-23T11:21:21.734Z"
   },
   {
    "duration": 8,
    "start_time": "2022-09-23T11:22:51.649Z"
   },
   {
    "duration": 9,
    "start_time": "2022-09-23T11:23:50.939Z"
   },
   {
    "duration": 8,
    "start_time": "2022-09-23T11:24:09.260Z"
   },
   {
    "duration": 9,
    "start_time": "2022-09-23T11:24:30.299Z"
   },
   {
    "duration": 7,
    "start_time": "2022-09-23T11:25:52.879Z"
   },
   {
    "duration": 3,
    "start_time": "2022-09-23T11:25:59.236Z"
   },
   {
    "duration": 9,
    "start_time": "2022-09-23T11:26:02.628Z"
   },
   {
    "duration": 6,
    "start_time": "2022-09-23T11:32:40.611Z"
   },
   {
    "duration": 27,
    "start_time": "2022-09-23T11:33:21.954Z"
   },
   {
    "duration": 10,
    "start_time": "2022-09-23T11:33:38.197Z"
   },
   {
    "duration": 9,
    "start_time": "2022-09-23T11:35:31.628Z"
   },
   {
    "duration": 8,
    "start_time": "2022-09-23T11:35:44.461Z"
   },
   {
    "duration": 7,
    "start_time": "2022-09-23T11:35:52.248Z"
   },
   {
    "duration": 8,
    "start_time": "2022-09-23T11:35:56.340Z"
   },
   {
    "duration": 8,
    "start_time": "2022-09-23T11:36:05.308Z"
   },
   {
    "duration": 10,
    "start_time": "2022-09-23T11:36:08.682Z"
   },
   {
    "duration": 9,
    "start_time": "2022-09-23T11:36:10.078Z"
   },
   {
    "duration": 5,
    "start_time": "2022-09-23T11:36:57.501Z"
   },
   {
    "duration": 5,
    "start_time": "2022-09-23T11:37:34.975Z"
   },
   {
    "duration": 53,
    "start_time": "2022-09-23T11:40:06.472Z"
   },
   {
    "duration": 19,
    "start_time": "2022-09-23T11:43:12.984Z"
   },
   {
    "duration": 8,
    "start_time": "2022-09-23T11:43:22.581Z"
   },
   {
    "duration": 8,
    "start_time": "2022-09-23T11:43:27.166Z"
   },
   {
    "duration": 8,
    "start_time": "2022-09-23T11:43:44.976Z"
   },
   {
    "duration": 7,
    "start_time": "2022-09-23T11:45:07.753Z"
   },
   {
    "duration": 8,
    "start_time": "2022-09-23T11:45:39.569Z"
   },
   {
    "duration": 8,
    "start_time": "2022-09-23T11:46:07.273Z"
   },
   {
    "duration": 1259,
    "start_time": "2022-09-23T11:49:50.898Z"
   },
   {
    "duration": 6,
    "start_time": "2022-09-23T11:50:04.886Z"
   },
   {
    "duration": 15,
    "start_time": "2022-09-23T11:50:17.682Z"
   },
   {
    "duration": 45,
    "start_time": "2022-09-23T11:51:44.903Z"
   },
   {
    "duration": 16,
    "start_time": "2022-09-23T11:51:46.055Z"
   },
   {
    "duration": 25,
    "start_time": "2022-09-23T11:51:49.417Z"
   },
   {
    "duration": 14,
    "start_time": "2022-09-23T11:51:52.496Z"
   },
   {
    "duration": 27,
    "start_time": "2022-09-23T11:52:03.753Z"
   },
   {
    "duration": 6,
    "start_time": "2022-09-23T11:53:23.000Z"
   },
   {
    "duration": 5,
    "start_time": "2022-09-23T11:53:31.358Z"
   },
   {
    "duration": 102,
    "start_time": "2022-09-23T12:04:09.073Z"
   },
   {
    "duration": 4,
    "start_time": "2022-09-23T12:04:35.822Z"
   },
   {
    "duration": 7,
    "start_time": "2022-09-23T12:05:00.005Z"
   },
   {
    "duration": 202,
    "start_time": "2022-09-23T12:05:22.172Z"
   },
   {
    "duration": 12,
    "start_time": "2022-09-23T12:05:32.210Z"
   },
   {
    "duration": 12,
    "start_time": "2022-09-23T12:06:44.787Z"
   },
   {
    "duration": 13,
    "start_time": "2022-09-23T12:11:54.420Z"
   },
   {
    "duration": 8,
    "start_time": "2022-09-23T12:17:10.084Z"
   },
   {
    "duration": 4,
    "start_time": "2022-09-23T12:17:22.954Z"
   },
   {
    "duration": 15,
    "start_time": "2022-09-23T12:17:32.455Z"
   },
   {
    "duration": 13,
    "start_time": "2022-09-23T12:17:45.103Z"
   },
   {
    "duration": 5,
    "start_time": "2022-09-23T12:17:51.942Z"
   },
   {
    "duration": 4,
    "start_time": "2022-09-23T12:17:58.463Z"
   },
   {
    "duration": 12,
    "start_time": "2022-09-23T12:18:00.269Z"
   },
   {
    "duration": 5,
    "start_time": "2022-09-23T13:04:40.035Z"
   },
   {
    "duration": 8,
    "start_time": "2022-09-23T13:05:01.547Z"
   },
   {
    "duration": 724,
    "start_time": "2022-09-23T13:05:30.422Z"
   },
   {
    "duration": 35,
    "start_time": "2022-09-23T13:05:38.290Z"
   },
   {
    "duration": 16,
    "start_time": "2022-09-23T13:06:06.544Z"
   },
   {
    "duration": 13,
    "start_time": "2022-09-23T13:08:40.538Z"
   },
   {
    "duration": 12,
    "start_time": "2022-09-23T13:08:58.578Z"
   },
   {
    "duration": 3,
    "start_time": "2022-09-23T13:13:09.655Z"
   },
   {
    "duration": 35,
    "start_time": "2022-09-23T13:13:58.385Z"
   },
   {
    "duration": 34,
    "start_time": "2022-09-23T13:14:15.307Z"
   },
   {
    "duration": 10,
    "start_time": "2022-09-23T13:14:17.046Z"
   },
   {
    "duration": 18,
    "start_time": "2022-09-23T13:40:19.224Z"
   },
   {
    "duration": 13,
    "start_time": "2022-09-23T13:43:21.280Z"
   },
   {
    "duration": 13,
    "start_time": "2022-09-23T13:44:04.403Z"
   },
   {
    "duration": 54,
    "start_time": "2022-09-23T13:49:01.947Z"
   },
   {
    "duration": 10,
    "start_time": "2022-09-23T13:49:39.346Z"
   },
   {
    "duration": 3,
    "start_time": "2022-09-23T13:49:46.006Z"
   },
   {
    "duration": 11,
    "start_time": "2022-09-23T13:49:52.931Z"
   },
   {
    "duration": 13,
    "start_time": "2022-09-23T13:52:56.336Z"
   },
   {
    "duration": 39,
    "start_time": "2022-09-23T13:53:13.574Z"
   },
   {
    "duration": 15,
    "start_time": "2022-09-23T13:54:11.429Z"
   },
   {
    "duration": 18,
    "start_time": "2022-09-23T13:54:19.432Z"
   },
   {
    "duration": 22,
    "start_time": "2022-09-23T13:54:37.428Z"
   },
   {
    "duration": 31,
    "start_time": "2022-09-23T13:55:20.537Z"
   },
   {
    "duration": 7,
    "start_time": "2022-09-23T14:09:39.763Z"
   },
   {
    "duration": 1334,
    "start_time": "2022-09-23T14:10:00.823Z"
   },
   {
    "duration": 5,
    "start_time": "2022-09-23T14:10:21.470Z"
   },
   {
    "duration": 5,
    "start_time": "2022-09-23T14:11:46.084Z"
   },
   {
    "duration": 6,
    "start_time": "2022-09-23T14:11:49.596Z"
   },
   {
    "duration": 52,
    "start_time": "2022-09-23T14:20:55.462Z"
   },
   {
    "duration": 17,
    "start_time": "2022-09-23T14:21:33.516Z"
   },
   {
    "duration": 10,
    "start_time": "2022-09-23T14:21:51.580Z"
   },
   {
    "duration": 23,
    "start_time": "2022-09-23T14:21:56.118Z"
   },
   {
    "duration": 4,
    "start_time": "2022-09-23T14:25:08.240Z"
   },
   {
    "duration": 23,
    "start_time": "2022-09-23T14:31:15.385Z"
   },
   {
    "duration": 26,
    "start_time": "2022-09-23T14:31:29.893Z"
   },
   {
    "duration": 4,
    "start_time": "2022-09-23T14:31:43.202Z"
   },
   {
    "duration": 153692,
    "start_time": "2022-09-23T14:31:47.373Z"
   },
   {
    "duration": 154524,
    "start_time": "2022-09-23T14:35:09.898Z"
   },
   {
    "duration": 157371,
    "start_time": "2022-09-23T14:39:15.003Z"
   },
   {
    "duration": 5,
    "start_time": "2022-09-23T14:44:38.215Z"
   },
   {
    "duration": 27,
    "start_time": "2022-09-23T15:04:08.037Z"
   },
   {
    "duration": 31,
    "start_time": "2022-09-23T15:06:26.935Z"
   },
   {
    "duration": 30,
    "start_time": "2022-09-23T15:06:30.992Z"
   },
   {
    "duration": 182845,
    "start_time": "2022-09-23T15:07:02.434Z"
   },
   {
    "duration": 183317,
    "start_time": "2022-09-23T15:13:37.554Z"
   },
   {
    "duration": 185533,
    "start_time": "2022-09-23T15:19:34.878Z"
   },
   {
    "duration": 183125,
    "start_time": "2022-09-23T15:23:06.255Z"
   },
   {
    "duration": 184452,
    "start_time": "2022-09-23T15:28:42.127Z"
   },
   {
    "duration": 70,
    "start_time": "2022-09-23T15:38:58.800Z"
   },
   {
    "duration": 95,
    "start_time": "2022-09-23T15:39:26.667Z"
   },
   {
    "duration": 64220,
    "start_time": "2022-09-23T15:39:36.428Z"
   },
   {
    "duration": 63359,
    "start_time": "2022-09-23T15:43:40.480Z"
   },
   {
    "duration": 6077,
    "start_time": "2022-09-23T16:18:12.243Z"
   },
   {
    "duration": 410,
    "start_time": "2022-09-23T16:19:37.312Z"
   },
   {
    "duration": 4284,
    "start_time": "2022-09-23T16:20:06.538Z"
   },
   {
    "duration": 4239,
    "start_time": "2022-09-23T16:21:48.587Z"
   },
   {
    "duration": 4337,
    "start_time": "2022-09-23T16:23:00.385Z"
   },
   {
    "duration": 4405,
    "start_time": "2022-09-23T16:23:59.018Z"
   },
   {
    "duration": 4310,
    "start_time": "2022-09-23T16:25:03.415Z"
   },
   {
    "duration": 4207,
    "start_time": "2022-09-23T16:25:19.918Z"
   },
   {
    "duration": 20,
    "start_time": "2022-09-23T16:38:01.741Z"
   },
   {
    "duration": 19,
    "start_time": "2022-09-23T16:47:33.425Z"
   },
   {
    "duration": 4,
    "start_time": "2022-09-23T16:49:02.204Z"
   },
   {
    "duration": 25,
    "start_time": "2022-09-23T16:49:05.800Z"
   },
   {
    "duration": 20,
    "start_time": "2022-09-23T16:49:12.315Z"
   },
   {
    "duration": 18,
    "start_time": "2022-09-23T16:49:51.681Z"
   },
   {
    "duration": 19,
    "start_time": "2022-09-23T16:54:25.273Z"
   },
   {
    "duration": 18,
    "start_time": "2022-09-23T16:55:23.781Z"
   },
   {
    "duration": 18,
    "start_time": "2022-09-23T16:56:44.802Z"
   },
   {
    "duration": 19,
    "start_time": "2022-09-23T16:58:48.222Z"
   },
   {
    "duration": 10,
    "start_time": "2022-09-23T17:04:46.282Z"
   },
   {
    "duration": 8,
    "start_time": "2022-09-23T17:04:54.430Z"
   },
   {
    "duration": 18,
    "start_time": "2022-09-23T17:04:57.655Z"
   },
   {
    "duration": 1074,
    "start_time": "2022-09-24T07:59:11.824Z"
   },
   {
    "duration": 83,
    "start_time": "2022-09-24T07:59:12.900Z"
   },
   {
    "duration": 21,
    "start_time": "2022-09-24T07:59:12.985Z"
   },
   {
    "duration": 16,
    "start_time": "2022-09-24T07:59:13.008Z"
   },
   {
    "duration": 5,
    "start_time": "2022-09-24T07:59:13.026Z"
   },
   {
    "duration": 123,
    "start_time": "2022-09-24T07:59:13.033Z"
   },
   {
    "duration": 0,
    "start_time": "2022-09-24T07:59:13.158Z"
   },
   {
    "duration": 0,
    "start_time": "2022-09-24T07:59:13.159Z"
   },
   {
    "duration": 0,
    "start_time": "2022-09-24T07:59:13.160Z"
   },
   {
    "duration": 0,
    "start_time": "2022-09-24T07:59:13.161Z"
   },
   {
    "duration": 0,
    "start_time": "2022-09-24T07:59:13.162Z"
   },
   {
    "duration": 0,
    "start_time": "2022-09-24T07:59:13.163Z"
   },
   {
    "duration": 0,
    "start_time": "2022-09-24T07:59:13.176Z"
   },
   {
    "duration": 0,
    "start_time": "2022-09-24T07:59:13.178Z"
   },
   {
    "duration": 0,
    "start_time": "2022-09-24T07:59:13.179Z"
   },
   {
    "duration": 0,
    "start_time": "2022-09-24T07:59:13.180Z"
   },
   {
    "duration": 0,
    "start_time": "2022-09-24T07:59:13.181Z"
   },
   {
    "duration": 0,
    "start_time": "2022-09-24T07:59:13.182Z"
   },
   {
    "duration": 0,
    "start_time": "2022-09-24T07:59:13.183Z"
   },
   {
    "duration": 0,
    "start_time": "2022-09-24T07:59:13.184Z"
   },
   {
    "duration": 0,
    "start_time": "2022-09-24T07:59:13.185Z"
   },
   {
    "duration": 0,
    "start_time": "2022-09-24T07:59:13.186Z"
   },
   {
    "duration": 9,
    "start_time": "2022-09-24T08:00:05.319Z"
   },
   {
    "duration": 1120,
    "start_time": "2022-09-24T08:00:17.664Z"
   },
   {
    "duration": 40,
    "start_time": "2022-09-24T08:00:18.786Z"
   },
   {
    "duration": 19,
    "start_time": "2022-09-24T08:00:18.828Z"
   },
   {
    "duration": 16,
    "start_time": "2022-09-24T08:00:18.849Z"
   },
   {
    "duration": 17,
    "start_time": "2022-09-24T08:00:18.866Z"
   },
   {
    "duration": 29,
    "start_time": "2022-09-24T08:00:18.884Z"
   },
   {
    "duration": 23,
    "start_time": "2022-09-24T08:00:18.914Z"
   },
   {
    "duration": 16,
    "start_time": "2022-09-24T08:00:18.938Z"
   },
   {
    "duration": 19,
    "start_time": "2022-09-24T08:00:18.955Z"
   },
   {
    "duration": 21,
    "start_time": "2022-09-24T08:00:18.977Z"
   },
   {
    "duration": 16,
    "start_time": "2022-09-24T08:00:19.000Z"
   },
   {
    "duration": 37,
    "start_time": "2022-09-24T08:00:19.017Z"
   },
   {
    "duration": 19,
    "start_time": "2022-09-24T08:00:19.056Z"
   },
   {
    "duration": 125,
    "start_time": "2022-09-24T08:00:19.077Z"
   },
   {
    "duration": 0,
    "start_time": "2022-09-24T08:00:19.204Z"
   },
   {
    "duration": 0,
    "start_time": "2022-09-24T08:00:19.205Z"
   },
   {
    "duration": 0,
    "start_time": "2022-09-24T08:00:19.206Z"
   },
   {
    "duration": 0,
    "start_time": "2022-09-24T08:00:19.207Z"
   },
   {
    "duration": 0,
    "start_time": "2022-09-24T08:00:19.208Z"
   },
   {
    "duration": 0,
    "start_time": "2022-09-24T08:00:19.209Z"
   },
   {
    "duration": 0,
    "start_time": "2022-09-24T08:00:19.210Z"
   },
   {
    "duration": 0,
    "start_time": "2022-09-24T08:00:19.211Z"
   },
   {
    "duration": 1149,
    "start_time": "2022-09-24T08:01:16.186Z"
   },
   {
    "duration": 43,
    "start_time": "2022-09-24T08:01:17.337Z"
   },
   {
    "duration": 20,
    "start_time": "2022-09-24T08:01:17.382Z"
   },
   {
    "duration": 13,
    "start_time": "2022-09-24T08:01:17.403Z"
   },
   {
    "duration": 3,
    "start_time": "2022-09-24T08:01:17.418Z"
   },
   {
    "duration": 23,
    "start_time": "2022-09-24T08:01:17.423Z"
   },
   {
    "duration": 12,
    "start_time": "2022-09-24T08:01:17.447Z"
   },
   {
    "duration": 11,
    "start_time": "2022-09-24T08:01:17.476Z"
   },
   {
    "duration": 4,
    "start_time": "2022-09-24T08:01:17.489Z"
   },
   {
    "duration": 17,
    "start_time": "2022-09-24T08:01:17.494Z"
   },
   {
    "duration": 4,
    "start_time": "2022-09-24T08:01:17.512Z"
   },
   {
    "duration": 34,
    "start_time": "2022-09-24T08:01:17.518Z"
   },
   {
    "duration": 27,
    "start_time": "2022-09-24T08:01:17.554Z"
   },
   {
    "duration": 11,
    "start_time": "2022-09-24T08:01:17.584Z"
   },
   {
    "duration": 12,
    "start_time": "2022-09-24T08:01:17.596Z"
   },
   {
    "duration": 10,
    "start_time": "2022-09-24T08:01:17.610Z"
   },
   {
    "duration": 58,
    "start_time": "2022-09-24T08:01:17.621Z"
   },
   {
    "duration": 5,
    "start_time": "2022-09-24T08:01:17.681Z"
   },
   {
    "duration": 164271,
    "start_time": "2022-09-24T08:01:17.688Z"
   },
   {
    "duration": 56855,
    "start_time": "2022-09-24T08:04:01.961Z"
   },
   {
    "duration": 5070,
    "start_time": "2022-09-24T08:04:58.818Z"
   },
   {
    "duration": 218,
    "start_time": "2022-09-24T08:05:03.978Z"
   },
   {
    "duration": 7,
    "start_time": "2022-09-24T08:10:10.322Z"
   },
   {
    "duration": 10,
    "start_time": "2022-09-24T08:10:42.252Z"
   },
   {
    "duration": 22,
    "start_time": "2022-09-24T08:11:20.742Z"
   },
   {
    "duration": 8,
    "start_time": "2022-09-24T08:11:41.544Z"
   },
   {
    "duration": 1054,
    "start_time": "2022-09-24T08:11:53.901Z"
   },
   {
    "duration": 40,
    "start_time": "2022-09-24T08:11:54.958Z"
   },
   {
    "duration": 19,
    "start_time": "2022-09-24T08:11:55.000Z"
   },
   {
    "duration": 16,
    "start_time": "2022-09-24T08:11:55.021Z"
   },
   {
    "duration": 21,
    "start_time": "2022-09-24T08:11:55.038Z"
   },
   {
    "duration": 15,
    "start_time": "2022-09-24T08:11:55.060Z"
   },
   {
    "duration": 19,
    "start_time": "2022-09-24T08:11:55.077Z"
   },
   {
    "duration": 25,
    "start_time": "2022-09-24T08:11:55.097Z"
   },
   {
    "duration": 4,
    "start_time": "2022-09-24T08:11:55.124Z"
   },
   {
    "duration": 28,
    "start_time": "2022-09-24T08:11:55.130Z"
   },
   {
    "duration": 5,
    "start_time": "2022-09-24T08:11:55.160Z"
   },
   {
    "duration": 47,
    "start_time": "2022-09-24T08:11:55.167Z"
   },
   {
    "duration": 12,
    "start_time": "2022-09-24T08:11:55.216Z"
   },
   {
    "duration": 13,
    "start_time": "2022-09-24T08:11:55.229Z"
   },
   {
    "duration": 13,
    "start_time": "2022-09-24T08:11:55.245Z"
   },
   {
    "duration": 24,
    "start_time": "2022-09-24T08:11:55.260Z"
   },
   {
    "duration": 32,
    "start_time": "2022-09-24T08:11:55.286Z"
   },
   {
    "duration": 6,
    "start_time": "2022-09-24T08:11:55.320Z"
   },
   {
    "duration": 161081,
    "start_time": "2022-09-24T08:11:55.328Z"
   },
   {
    "duration": 56385,
    "start_time": "2022-09-24T08:14:36.411Z"
   },
   {
    "duration": 4579,
    "start_time": "2022-09-24T08:15:32.798Z"
   },
   {
    "duration": 214,
    "start_time": "2022-09-24T08:15:37.379Z"
   },
   {
    "duration": 12,
    "start_time": "2022-09-24T08:16:32.199Z"
   },
   {
    "duration": 43,
    "start_time": "2022-09-24T08:18:15.501Z"
   },
   {
    "duration": 11,
    "start_time": "2022-09-24T08:29:25.548Z"
   },
   {
    "duration": 12,
    "start_time": "2022-09-24T08:29:26.912Z"
   },
   {
    "duration": 18,
    "start_time": "2022-09-24T08:29:35.636Z"
   },
   {
    "duration": 1042,
    "start_time": "2022-09-24T08:29:50.219Z"
   },
   {
    "duration": 40,
    "start_time": "2022-09-24T08:29:51.263Z"
   },
   {
    "duration": 18,
    "start_time": "2022-09-24T08:29:51.304Z"
   },
   {
    "duration": 20,
    "start_time": "2022-09-24T08:29:51.324Z"
   },
   {
    "duration": 3,
    "start_time": "2022-09-24T08:29:51.345Z"
   },
   {
    "duration": 16,
    "start_time": "2022-09-24T08:29:51.350Z"
   },
   {
    "duration": 12,
    "start_time": "2022-09-24T08:29:51.367Z"
   },
   {
    "duration": 10,
    "start_time": "2022-09-24T08:29:51.380Z"
   },
   {
    "duration": 3,
    "start_time": "2022-09-24T08:29:51.392Z"
   },
   {
    "duration": 11,
    "start_time": "2022-09-24T08:29:51.397Z"
   },
   {
    "duration": 3,
    "start_time": "2022-09-24T08:29:51.409Z"
   },
   {
    "duration": 32,
    "start_time": "2022-09-24T08:29:51.414Z"
   },
   {
    "duration": 30,
    "start_time": "2022-09-24T08:29:51.448Z"
   },
   {
    "duration": 10,
    "start_time": "2022-09-24T08:29:51.479Z"
   },
   {
    "duration": 11,
    "start_time": "2022-09-24T08:29:51.491Z"
   },
   {
    "duration": 9,
    "start_time": "2022-09-24T08:29:51.503Z"
   },
   {
    "duration": 25,
    "start_time": "2022-09-24T08:29:51.514Z"
   },
   {
    "duration": 4,
    "start_time": "2022-09-24T08:29:51.541Z"
   },
   {
    "duration": 162987,
    "start_time": "2022-09-24T08:29:51.547Z"
   },
   {
    "duration": 56533,
    "start_time": "2022-09-24T08:32:34.536Z"
   },
   {
    "duration": 4208,
    "start_time": "2022-09-24T08:33:31.077Z"
   },
   {
    "duration": 290,
    "start_time": "2022-09-24T08:33:35.288Z"
   },
   {
    "duration": 19,
    "start_time": "2022-09-24T08:35:48.340Z"
   },
   {
    "duration": 15,
    "start_time": "2022-09-24T08:36:10.649Z"
   },
   {
    "duration": 45,
    "start_time": "2022-09-24T08:36:14.368Z"
   },
   {
    "duration": 223,
    "start_time": "2022-09-24T08:36:49.039Z"
   },
   {
    "duration": 2822,
    "start_time": "2022-09-24T08:39:01.255Z"
   },
   {
    "duration": 1211,
    "start_time": "2022-09-24T08:39:54.260Z"
   },
   {
    "duration": 40,
    "start_time": "2022-09-24T08:39:55.473Z"
   },
   {
    "duration": 18,
    "start_time": "2022-09-24T08:39:55.515Z"
   },
   {
    "duration": 21,
    "start_time": "2022-09-24T08:39:55.535Z"
   },
   {
    "duration": 4,
    "start_time": "2022-09-24T08:39:55.558Z"
   },
   {
    "duration": 12,
    "start_time": "2022-09-24T08:39:55.563Z"
   },
   {
    "duration": 12,
    "start_time": "2022-09-24T08:39:55.576Z"
   },
   {
    "duration": 21,
    "start_time": "2022-09-24T08:39:55.589Z"
   },
   {
    "duration": 37,
    "start_time": "2022-09-24T08:39:55.611Z"
   },
   {
    "duration": 12,
    "start_time": "2022-09-24T08:39:55.650Z"
   },
   {
    "duration": 4,
    "start_time": "2022-09-24T08:39:55.663Z"
   },
   {
    "duration": 30,
    "start_time": "2022-09-24T08:39:55.668Z"
   },
   {
    "duration": 8,
    "start_time": "2022-09-24T08:39:55.700Z"
   },
   {
    "duration": 8,
    "start_time": "2022-09-24T08:39:55.710Z"
   },
   {
    "duration": 8,
    "start_time": "2022-09-24T08:39:55.720Z"
   },
   {
    "duration": 9,
    "start_time": "2022-09-24T08:39:55.730Z"
   },
   {
    "duration": 38,
    "start_time": "2022-09-24T08:39:55.740Z"
   },
   {
    "duration": 5,
    "start_time": "2022-09-24T08:39:55.779Z"
   },
   {
    "duration": 166963,
    "start_time": "2022-09-24T08:39:55.786Z"
   },
   {
    "duration": 56351,
    "start_time": "2022-09-24T08:42:42.751Z"
   },
   {
    "duration": 4687,
    "start_time": "2022-09-24T08:43:39.104Z"
   },
   {
    "duration": 286,
    "start_time": "2022-09-24T08:43:43.792Z"
   },
   {
    "duration": 29,
    "start_time": "2022-09-24T08:43:58.307Z"
   },
   {
    "duration": 8,
    "start_time": "2022-09-24T08:47:03.862Z"
   },
   {
    "duration": 211,
    "start_time": "2022-09-24T08:47:13.360Z"
   },
   {
    "duration": 11,
    "start_time": "2022-09-24T08:47:38.907Z"
   },
   {
    "duration": 2693,
    "start_time": "2022-09-24T08:47:44.350Z"
   },
   {
    "duration": 50,
    "start_time": "2022-09-24T08:51:02.035Z"
   },
   {
    "duration": 1034,
    "start_time": "2022-09-24T08:51:17.337Z"
   },
   {
    "duration": 81,
    "start_time": "2022-09-24T08:51:18.373Z"
   },
   {
    "duration": 20,
    "start_time": "2022-09-24T08:51:18.456Z"
   },
   {
    "duration": 12,
    "start_time": "2022-09-24T08:51:18.477Z"
   },
   {
    "duration": 3,
    "start_time": "2022-09-24T08:51:18.490Z"
   },
   {
    "duration": 11,
    "start_time": "2022-09-24T08:51:18.495Z"
   },
   {
    "duration": 12,
    "start_time": "2022-09-24T08:51:18.508Z"
   },
   {
    "duration": 11,
    "start_time": "2022-09-24T08:51:18.522Z"
   },
   {
    "duration": 4,
    "start_time": "2022-09-24T08:51:18.534Z"
   },
   {
    "duration": 44,
    "start_time": "2022-09-24T08:51:18.540Z"
   },
   {
    "duration": 4,
    "start_time": "2022-09-24T08:51:18.586Z"
   },
   {
    "duration": 32,
    "start_time": "2022-09-24T08:51:18.591Z"
   },
   {
    "duration": 9,
    "start_time": "2022-09-24T08:51:18.625Z"
   },
   {
    "duration": 11,
    "start_time": "2022-09-24T08:51:18.635Z"
   },
   {
    "duration": 28,
    "start_time": "2022-09-24T08:51:18.648Z"
   },
   {
    "duration": 3,
    "start_time": "2022-09-24T08:51:18.678Z"
   },
   {
    "duration": 44,
    "start_time": "2022-09-24T08:51:18.682Z"
   },
   {
    "duration": 5,
    "start_time": "2022-09-24T08:51:18.727Z"
   },
   {
    "duration": 161099,
    "start_time": "2022-09-24T08:51:18.733Z"
   },
   {
    "duration": 56762,
    "start_time": "2022-09-24T08:53:59.834Z"
   },
   {
    "duration": 2887,
    "start_time": "2022-09-24T08:54:56.598Z"
   },
   {
    "duration": 110,
    "start_time": "2022-09-24T08:54:59.578Z"
   },
   {
    "duration": 18,
    "start_time": "2022-09-24T08:58:02.340Z"
   },
   {
    "duration": 219696,
    "start_time": "2022-09-24T09:01:18.199Z"
   },
   {
    "duration": 66756,
    "start_time": "2022-09-24T09:06:23.912Z"
   },
   {
    "duration": 70641,
    "start_time": "2022-09-24T09:07:41.911Z"
   },
   {
    "duration": 4846,
    "start_time": "2022-09-24T09:10:30.941Z"
   },
   {
    "duration": 13,
    "start_time": "2022-09-24T09:14:57.867Z"
   },
   {
    "duration": 13124,
    "start_time": "2022-09-24T09:15:07.762Z"
   },
   {
    "duration": 514783,
    "start_time": "2022-09-24T09:16:19.107Z"
   },
   {
    "duration": 209320,
    "start_time": "2022-09-24T09:25:27.789Z"
   },
   {
    "duration": 45,
    "start_time": "2022-09-24T14:35:18.942Z"
   },
   {
    "duration": 1094,
    "start_time": "2022-09-24T14:35:40.145Z"
   },
   {
    "duration": 147,
    "start_time": "2022-09-24T14:35:41.240Z"
   },
   {
    "duration": 20,
    "start_time": "2022-09-24T14:35:41.388Z"
   },
   {
    "duration": 12,
    "start_time": "2022-09-24T14:35:41.409Z"
   },
   {
    "duration": 3,
    "start_time": "2022-09-24T14:35:41.422Z"
   },
   {
    "duration": 8,
    "start_time": "2022-09-24T14:35:41.427Z"
   },
   {
    "duration": 11,
    "start_time": "2022-09-24T14:35:41.437Z"
   },
   {
    "duration": 10,
    "start_time": "2022-09-24T14:35:41.449Z"
   },
   {
    "duration": 4,
    "start_time": "2022-09-24T14:35:41.460Z"
   },
   {
    "duration": 15,
    "start_time": "2022-09-24T14:35:41.467Z"
   },
   {
    "duration": 3,
    "start_time": "2022-09-24T14:35:41.483Z"
   },
   {
    "duration": 57,
    "start_time": "2022-09-24T14:35:41.488Z"
   },
   {
    "duration": 9,
    "start_time": "2022-09-24T14:35:41.546Z"
   },
   {
    "duration": 8,
    "start_time": "2022-09-24T14:35:41.556Z"
   },
   {
    "duration": 9,
    "start_time": "2022-09-24T14:35:41.565Z"
   },
   {
    "duration": 3,
    "start_time": "2022-09-24T14:35:41.576Z"
   },
   {
    "duration": 59,
    "start_time": "2022-09-24T14:35:41.580Z"
   },
   {
    "duration": 4,
    "start_time": "2022-09-24T14:35:41.640Z"
   },
   {
    "duration": 148829,
    "start_time": "2022-09-24T14:35:41.646Z"
   },
   {
    "duration": 51792,
    "start_time": "2022-09-24T14:38:10.476Z"
   },
   {
    "duration": 2557,
    "start_time": "2022-09-24T14:39:02.270Z"
   },
   {
    "duration": 108,
    "start_time": "2022-09-24T14:39:04.828Z"
   },
   {
    "duration": 17,
    "start_time": "2022-09-24T14:39:05.021Z"
   },
   {
    "duration": 184045,
    "start_time": "2022-09-24T14:39:58.557Z"
   },
   {
    "duration": 63,
    "start_time": "2022-09-24T14:43:46.464Z"
   },
   {
    "duration": 77,
    "start_time": "2022-09-24T14:44:24.049Z"
   },
   {
    "duration": 1126,
    "start_time": "2022-09-24T14:44:48.076Z"
   },
   {
    "duration": 604153,
    "start_time": "2022-09-24T14:47:14.789Z"
   },
   {
    "duration": 12,
    "start_time": "2022-09-24T14:57:57.660Z"
   },
   {
    "duration": 12,
    "start_time": "2022-09-24T14:58:18.147Z"
   },
   {
    "duration": 511,
    "start_time": "2022-09-24T14:58:34.412Z"
   },
   {
    "duration": 5241,
    "start_time": "2022-09-24T14:58:44.290Z"
   },
   {
    "duration": 6594,
    "start_time": "2022-09-24T15:03:49.534Z"
   },
   {
    "duration": 7961,
    "start_time": "2022-09-24T15:04:05.767Z"
   },
   {
    "duration": 3900,
    "start_time": "2022-09-24T15:04:25.345Z"
   },
   {
    "duration": 5,
    "start_time": "2022-09-24T15:06:15.980Z"
   },
   {
    "duration": 63,
    "start_time": "2022-09-24T15:06:15.987Z"
   },
   {
    "duration": 18,
    "start_time": "2022-09-24T15:06:16.052Z"
   },
   {
    "duration": 25,
    "start_time": "2022-09-24T15:06:16.073Z"
   },
   {
    "duration": 23,
    "start_time": "2022-09-24T15:06:16.100Z"
   },
   {
    "duration": 24,
    "start_time": "2022-09-24T15:06:16.125Z"
   },
   {
    "duration": 20,
    "start_time": "2022-09-24T15:06:16.151Z"
   },
   {
    "duration": 19,
    "start_time": "2022-09-24T15:06:16.173Z"
   },
   {
    "duration": 21,
    "start_time": "2022-09-24T15:06:16.193Z"
   },
   {
    "duration": 27,
    "start_time": "2022-09-24T15:06:16.217Z"
   },
   {
    "duration": 6,
    "start_time": "2022-09-24T15:06:16.246Z"
   },
   {
    "duration": 7,
    "start_time": "2022-09-24T15:06:16.253Z"
   },
   {
    "duration": 8,
    "start_time": "2022-09-24T15:06:16.261Z"
   },
   {
    "duration": 8,
    "start_time": "2022-09-24T15:06:16.270Z"
   },
   {
    "duration": 7,
    "start_time": "2022-09-24T15:06:16.279Z"
   },
   {
    "duration": 6,
    "start_time": "2022-09-24T15:06:16.287Z"
   },
   {
    "duration": 7,
    "start_time": "2022-09-24T15:06:16.295Z"
   },
   {
    "duration": 11,
    "start_time": "2022-09-24T15:06:16.304Z"
   },
   {
    "duration": 28,
    "start_time": "2022-09-24T15:06:28.532Z"
   },
   {
    "duration": 149004,
    "start_time": "2022-09-24T15:06:46.292Z"
   },
   {
    "duration": 32702,
    "start_time": "2022-09-24T15:10:34.716Z"
   },
   {
    "duration": 161257,
    "start_time": "2022-09-24T15:11:25.434Z"
   },
   {
    "duration": 3,
    "start_time": "2022-09-24T15:22:25.106Z"
   },
   {
    "duration": 45,
    "start_time": "2022-09-24T15:22:25.111Z"
   },
   {
    "duration": 10,
    "start_time": "2022-09-24T15:22:25.158Z"
   },
   {
    "duration": 12,
    "start_time": "2022-09-24T15:22:25.170Z"
   },
   {
    "duration": 2,
    "start_time": "2022-09-24T15:22:25.184Z"
   },
   {
    "duration": 9,
    "start_time": "2022-09-24T15:22:25.187Z"
   },
   {
    "duration": 10,
    "start_time": "2022-09-24T15:22:25.197Z"
   },
   {
    "duration": 8,
    "start_time": "2022-09-24T15:22:25.208Z"
   },
   {
    "duration": 6,
    "start_time": "2022-09-24T15:22:25.217Z"
   },
   {
    "duration": 11,
    "start_time": "2022-09-24T15:22:25.224Z"
   },
   {
    "duration": 3,
    "start_time": "2022-09-24T15:22:25.236Z"
   },
   {
    "duration": 4,
    "start_time": "2022-09-24T15:22:25.241Z"
   },
   {
    "duration": 5,
    "start_time": "2022-09-24T15:22:25.247Z"
   },
   {
    "duration": 7,
    "start_time": "2022-09-24T15:22:25.253Z"
   },
   {
    "duration": 6,
    "start_time": "2022-09-24T15:22:25.262Z"
   },
   {
    "duration": 2,
    "start_time": "2022-09-24T15:22:25.270Z"
   },
   {
    "duration": 6,
    "start_time": "2022-09-24T15:22:25.274Z"
   },
   {
    "duration": 7,
    "start_time": "2022-09-24T15:22:25.281Z"
   },
   {
    "duration": 149928,
    "start_time": "2022-09-24T15:22:58.030Z"
   },
   {
    "duration": 30,
    "start_time": "2022-09-24T15:26:25.682Z"
   },
   {
    "duration": 8,
    "start_time": "2022-09-24T15:26:32.345Z"
   },
   {
    "duration": 153409,
    "start_time": "2022-09-24T15:26:45.500Z"
   },
   {
    "duration": 18,
    "start_time": "2022-09-24T15:35:17.593Z"
   },
   {
    "duration": 8,
    "start_time": "2022-09-24T15:36:46.575Z"
   },
   {
    "duration": 6,
    "start_time": "2022-09-24T15:37:17.556Z"
   },
   {
    "duration": 7,
    "start_time": "2022-09-24T15:37:19.416Z"
   },
   {
    "duration": 25752,
    "start_time": "2022-09-24T15:38:00.978Z"
   },
   {
    "duration": 9,
    "start_time": "2022-09-24T15:38:58.507Z"
   },
   {
    "duration": 3789,
    "start_time": "2022-09-24T15:39:05.940Z"
   },
   {
    "duration": 23,
    "start_time": "2022-09-24T15:39:57.251Z"
   },
   {
    "duration": 152615,
    "start_time": "2022-09-24T15:40:04.909Z"
   },
   {
    "duration": 58411,
    "start_time": "2022-09-24T15:44:01.416Z"
   },
   {
    "duration": 53173,
    "start_time": "2022-09-24T15:45:51.768Z"
   },
   {
    "duration": 9809,
    "start_time": "2022-09-24T15:47:18.334Z"
   },
   {
    "duration": 6587,
    "start_time": "2022-09-24T15:48:34.139Z"
   },
   {
    "duration": 2241,
    "start_time": "2022-09-24T15:49:24.889Z"
   },
   {
    "duration": 4772,
    "start_time": "2022-09-24T15:50:42.759Z"
   },
   {
    "duration": 23,
    "start_time": "2022-09-24T15:52:00.463Z"
   },
   {
    "duration": 3,
    "start_time": "2022-09-24T15:55:08.362Z"
   },
   {
    "duration": 50,
    "start_time": "2022-09-24T15:55:08.367Z"
   },
   {
    "duration": 11,
    "start_time": "2022-09-24T15:55:08.419Z"
   },
   {
    "duration": 17,
    "start_time": "2022-09-24T15:55:08.432Z"
   },
   {
    "duration": 7,
    "start_time": "2022-09-24T15:55:08.450Z"
   },
   {
    "duration": 23,
    "start_time": "2022-09-24T15:55:08.459Z"
   },
   {
    "duration": 20,
    "start_time": "2022-09-24T15:55:08.483Z"
   },
   {
    "duration": 19,
    "start_time": "2022-09-24T15:55:08.504Z"
   },
   {
    "duration": 16,
    "start_time": "2022-09-24T15:55:08.525Z"
   },
   {
    "duration": 30,
    "start_time": "2022-09-24T15:55:08.542Z"
   },
   {
    "duration": 15,
    "start_time": "2022-09-24T15:55:08.573Z"
   },
   {
    "duration": 21,
    "start_time": "2022-09-24T15:55:08.589Z"
   },
   {
    "duration": 8,
    "start_time": "2022-09-24T15:55:08.611Z"
   },
   {
    "duration": 12,
    "start_time": "2022-09-24T15:55:08.621Z"
   },
   {
    "duration": 11,
    "start_time": "2022-09-24T15:55:08.634Z"
   },
   {
    "duration": 15,
    "start_time": "2022-09-24T15:55:08.647Z"
   },
   {
    "duration": 17,
    "start_time": "2022-09-24T15:55:08.663Z"
   },
   {
    "duration": 17,
    "start_time": "2022-09-24T15:55:08.681Z"
   },
   {
    "duration": 57123,
    "start_time": "2022-09-24T15:55:08.699Z"
   },
   {
    "duration": 9725,
    "start_time": "2022-09-24T15:56:05.823Z"
   },
   {
    "duration": 3582,
    "start_time": "2022-09-24T15:56:15.549Z"
   },
   {
    "duration": 21,
    "start_time": "2022-09-24T15:56:27.191Z"
   },
   {
    "duration": 26,
    "start_time": "2022-09-24T15:57:14.808Z"
   },
   {
    "duration": 38,
    "start_time": "2022-09-24T15:57:26.391Z"
   },
   {
    "duration": 213,
    "start_time": "2022-09-24T15:57:56.883Z"
   },
   {
    "duration": 20486,
    "start_time": "2022-09-24T15:58:41.786Z"
   },
   {
    "duration": 24,
    "start_time": "2022-09-24T16:00:29.052Z"
   },
   {
    "duration": 11,
    "start_time": "2022-09-24T16:00:30.858Z"
   },
   {
    "duration": 4,
    "start_time": "2022-09-24T16:00:41.626Z"
   },
   {
    "duration": 71,
    "start_time": "2022-09-24T16:00:41.632Z"
   },
   {
    "duration": 15,
    "start_time": "2022-09-24T16:00:41.705Z"
   },
   {
    "duration": 16,
    "start_time": "2022-09-24T16:00:41.723Z"
   },
   {
    "duration": 3,
    "start_time": "2022-09-24T16:00:41.741Z"
   },
   {
    "duration": 7,
    "start_time": "2022-09-24T16:00:41.745Z"
   },
   {
    "duration": 10,
    "start_time": "2022-09-24T16:00:41.754Z"
   },
   {
    "duration": 10,
    "start_time": "2022-09-24T16:00:41.765Z"
   },
   {
    "duration": 3,
    "start_time": "2022-09-24T16:00:41.776Z"
   },
   {
    "duration": 11,
    "start_time": "2022-09-24T16:00:41.781Z"
   },
   {
    "duration": 32,
    "start_time": "2022-09-24T16:00:41.793Z"
   },
   {
    "duration": 21,
    "start_time": "2022-09-24T16:00:41.827Z"
   },
   {
    "duration": 8,
    "start_time": "2022-09-24T16:00:41.849Z"
   },
   {
    "duration": 10,
    "start_time": "2022-09-24T16:00:41.859Z"
   },
   {
    "duration": 10,
    "start_time": "2022-09-24T16:00:41.870Z"
   },
   {
    "duration": 8,
    "start_time": "2022-09-24T16:00:41.882Z"
   },
   {
    "duration": 53,
    "start_time": "2022-09-24T16:00:41.892Z"
   },
   {
    "duration": 5,
    "start_time": "2022-09-24T16:00:41.946Z"
   },
   {
    "duration": 60479,
    "start_time": "2022-09-24T16:00:41.952Z"
   },
   {
    "duration": 9972,
    "start_time": "2022-09-24T16:01:42.433Z"
   },
   {
    "duration": 5017,
    "start_time": "2022-09-24T16:01:52.407Z"
   },
   {
    "duration": 118,
    "start_time": "2022-09-24T16:04:08.575Z"
   },
   {
    "duration": 126,
    "start_time": "2022-09-24T16:04:26.276Z"
   },
   {
    "duration": 22,
    "start_time": "2022-09-24T16:04:32.981Z"
   },
   {
    "duration": 24,
    "start_time": "2022-09-24T16:05:30.912Z"
   },
   {
    "duration": 26,
    "start_time": "2022-09-24T16:07:12.778Z"
   },
   {
    "duration": 4,
    "start_time": "2022-09-24T16:08:39.288Z"
   },
   {
    "duration": 39,
    "start_time": "2022-09-24T16:08:39.294Z"
   },
   {
    "duration": 12,
    "start_time": "2022-09-24T16:08:39.334Z"
   },
   {
    "duration": 17,
    "start_time": "2022-09-24T16:08:39.348Z"
   },
   {
    "duration": 3,
    "start_time": "2022-09-24T16:08:39.367Z"
   },
   {
    "duration": 8,
    "start_time": "2022-09-24T16:08:39.371Z"
   },
   {
    "duration": 14,
    "start_time": "2022-09-24T16:08:39.381Z"
   },
   {
    "duration": 26,
    "start_time": "2022-09-24T16:08:39.396Z"
   },
   {
    "duration": 4,
    "start_time": "2022-09-24T16:08:39.424Z"
   },
   {
    "duration": 11,
    "start_time": "2022-09-24T16:08:39.431Z"
   },
   {
    "duration": 4,
    "start_time": "2022-09-24T16:08:39.444Z"
   },
   {
    "duration": 19,
    "start_time": "2022-09-24T16:08:39.449Z"
   },
   {
    "duration": 9,
    "start_time": "2022-09-24T16:08:39.470Z"
   },
   {
    "duration": 14,
    "start_time": "2022-09-24T16:08:39.480Z"
   },
   {
    "duration": 37,
    "start_time": "2022-09-24T16:08:39.495Z"
   },
   {
    "duration": 11,
    "start_time": "2022-09-24T16:08:39.533Z"
   },
   {
    "duration": 24,
    "start_time": "2022-09-24T16:08:39.546Z"
   },
   {
    "duration": 4,
    "start_time": "2022-09-24T16:08:39.572Z"
   },
   {
    "duration": 59346,
    "start_time": "2022-09-24T16:08:39.577Z"
   },
   {
    "duration": 10081,
    "start_time": "2022-09-24T16:09:38.925Z"
   },
   {
    "duration": 5723,
    "start_time": "2022-09-24T16:09:49.008Z"
   },
   {
    "duration": 14,
    "start_time": "2022-09-24T16:10:06.360Z"
   },
   {
    "duration": 17,
    "start_time": "2022-09-24T16:10:09.129Z"
   },
   {
    "duration": 190570,
    "start_time": "2022-09-24T16:10:22.069Z"
   },
   {
    "duration": 5,
    "start_time": "2022-09-24T16:17:30.380Z"
   },
   {
    "duration": 81,
    "start_time": "2022-09-24T16:17:30.388Z"
   },
   {
    "duration": 17,
    "start_time": "2022-09-24T16:17:30.471Z"
   },
   {
    "duration": 49,
    "start_time": "2022-09-24T16:17:30.490Z"
   },
   {
    "duration": 31,
    "start_time": "2022-09-24T16:17:30.541Z"
   },
   {
    "duration": 44,
    "start_time": "2022-09-24T16:17:30.573Z"
   },
   {
    "duration": 73,
    "start_time": "2022-09-24T16:17:30.619Z"
   },
   {
    "duration": 41,
    "start_time": "2022-09-24T16:17:30.694Z"
   },
   {
    "duration": 17,
    "start_time": "2022-09-24T16:17:30.737Z"
   },
   {
    "duration": 56,
    "start_time": "2022-09-24T16:17:30.756Z"
   },
   {
    "duration": 25,
    "start_time": "2022-09-24T16:17:30.814Z"
   },
   {
    "duration": 44,
    "start_time": "2022-09-24T16:17:30.841Z"
   },
   {
    "duration": 11,
    "start_time": "2022-09-24T16:17:30.887Z"
   },
   {
    "duration": 32,
    "start_time": "2022-09-24T16:17:30.899Z"
   },
   {
    "duration": 20,
    "start_time": "2022-09-24T16:17:30.933Z"
   },
   {
    "duration": 30,
    "start_time": "2022-09-24T16:17:30.955Z"
   },
   {
    "duration": 9,
    "start_time": "2022-09-24T16:17:30.987Z"
   },
   {
    "duration": 27,
    "start_time": "2022-09-24T16:17:30.998Z"
   },
   {
    "duration": 58002,
    "start_time": "2022-09-24T16:17:31.026Z"
   },
   {
    "duration": 10473,
    "start_time": "2022-09-24T16:18:29.029Z"
   },
   {
    "duration": 7827,
    "start_time": "2022-09-24T16:18:39.504Z"
   },
   {
    "duration": 94,
    "start_time": "2022-09-24T16:18:47.333Z"
   },
   {
    "duration": 111,
    "start_time": "2022-09-24T16:18:47.429Z"
   },
   {
    "duration": 0,
    "start_time": "2022-09-24T16:18:47.542Z"
   },
   {
    "duration": 24,
    "start_time": "2022-09-24T16:19:10.006Z"
   },
   {
    "duration": 214,
    "start_time": "2022-09-24T16:19:15.844Z"
   },
   {
    "duration": 4013,
    "start_time": "2022-09-24T16:21:29.138Z"
   },
   {
    "duration": 45,
    "start_time": "2022-09-24T16:21:38.671Z"
   },
   {
    "duration": 10,
    "start_time": "2022-09-24T16:21:49.002Z"
   },
   {
    "duration": 1085,
    "start_time": "2022-09-24T16:22:28.400Z"
   },
   {
    "duration": 150,
    "start_time": "2022-09-24T16:22:29.487Z"
   },
   {
    "duration": 20,
    "start_time": "2022-09-24T16:22:29.639Z"
   },
   {
    "duration": 13,
    "start_time": "2022-09-24T16:22:29.660Z"
   },
   {
    "duration": 4,
    "start_time": "2022-09-24T16:22:29.675Z"
   },
   {
    "duration": 13,
    "start_time": "2022-09-24T16:22:29.681Z"
   },
   {
    "duration": 14,
    "start_time": "2022-09-24T16:22:29.695Z"
   },
   {
    "duration": 18,
    "start_time": "2022-09-24T16:22:29.712Z"
   },
   {
    "duration": 5,
    "start_time": "2022-09-24T16:22:29.731Z"
   },
   {
    "duration": 18,
    "start_time": "2022-09-24T16:22:29.738Z"
   },
   {
    "duration": 4,
    "start_time": "2022-09-24T16:22:29.758Z"
   },
   {
    "duration": 21,
    "start_time": "2022-09-24T16:22:29.764Z"
   },
   {
    "duration": 10,
    "start_time": "2022-09-24T16:22:29.787Z"
   },
   {
    "duration": 28,
    "start_time": "2022-09-24T16:22:29.799Z"
   },
   {
    "duration": 11,
    "start_time": "2022-09-24T16:22:29.829Z"
   },
   {
    "duration": 14,
    "start_time": "2022-09-24T16:22:29.842Z"
   },
   {
    "duration": 2,
    "start_time": "2022-09-24T16:22:29.858Z"
   },
   {
    "duration": 7,
    "start_time": "2022-09-24T16:22:29.863Z"
   },
   {
    "duration": 57950,
    "start_time": "2022-09-24T16:22:29.872Z"
   },
   {
    "duration": 10017,
    "start_time": "2022-09-24T16:23:27.824Z"
   },
   {
    "duration": 3793,
    "start_time": "2022-09-24T16:23:37.843Z"
   },
   {
    "duration": 103,
    "start_time": "2022-09-24T16:23:41.722Z"
   },
   {
    "duration": 18,
    "start_time": "2022-09-24T16:23:41.827Z"
   },
   {
    "duration": 187369,
    "start_time": "2022-09-24T16:24:06.754Z"
   },
   {
    "duration": 4,
    "start_time": "2022-09-24T16:27:54.407Z"
   },
   {
    "duration": 37,
    "start_time": "2022-09-24T16:27:54.422Z"
   },
   {
    "duration": 12,
    "start_time": "2022-09-24T16:27:54.461Z"
   },
   {
    "duration": 14,
    "start_time": "2022-09-24T16:27:54.475Z"
   },
   {
    "duration": 3,
    "start_time": "2022-09-24T16:27:54.490Z"
   },
   {
    "duration": 12,
    "start_time": "2022-09-24T16:27:54.495Z"
   },
   {
    "duration": 14,
    "start_time": "2022-09-24T16:27:54.508Z"
   },
   {
    "duration": 8,
    "start_time": "2022-09-24T16:27:54.524Z"
   },
   {
    "duration": 3,
    "start_time": "2022-09-24T16:27:54.534Z"
   },
   {
    "duration": 16,
    "start_time": "2022-09-24T16:27:54.538Z"
   },
   {
    "duration": 3,
    "start_time": "2022-09-24T16:27:54.555Z"
   },
   {
    "duration": 18,
    "start_time": "2022-09-24T16:27:54.560Z"
   },
   {
    "duration": 8,
    "start_time": "2022-09-24T16:27:54.579Z"
   },
   {
    "duration": 5,
    "start_time": "2022-09-24T16:27:54.589Z"
   },
   {
    "duration": 30,
    "start_time": "2022-09-24T16:27:54.596Z"
   },
   {
    "duration": 9,
    "start_time": "2022-09-24T16:27:54.628Z"
   },
   {
    "duration": 3,
    "start_time": "2022-09-24T16:27:54.638Z"
   },
   {
    "duration": 8,
    "start_time": "2022-09-24T16:27:54.642Z"
   },
   {
    "duration": 58149,
    "start_time": "2022-09-24T16:27:54.651Z"
   },
   {
    "duration": 10023,
    "start_time": "2022-09-24T16:28:52.802Z"
   },
   {
    "duration": 3799,
    "start_time": "2022-09-24T16:29:02.827Z"
   },
   {
    "duration": 237,
    "start_time": "2022-09-24T16:29:06.627Z"
   },
   {
    "duration": 0,
    "start_time": "2022-09-24T16:29:06.865Z"
   },
   {
    "duration": 251092,
    "start_time": "2022-09-24T16:29:15.507Z"
   },
   {
    "duration": 4,
    "start_time": "2022-09-24T16:35:05.874Z"
   },
   {
    "duration": 45,
    "start_time": "2022-09-24T16:35:05.880Z"
   },
   {
    "duration": 12,
    "start_time": "2022-09-24T16:35:05.926Z"
   },
   {
    "duration": 15,
    "start_time": "2022-09-24T16:35:05.940Z"
   },
   {
    "duration": 7,
    "start_time": "2022-09-24T16:35:05.956Z"
   },
   {
    "duration": 22,
    "start_time": "2022-09-24T16:35:05.964Z"
   },
   {
    "duration": 22,
    "start_time": "2022-09-24T16:35:05.988Z"
   },
   {
    "duration": 12,
    "start_time": "2022-09-24T16:35:06.012Z"
   },
   {
    "duration": 5,
    "start_time": "2022-09-24T16:35:06.027Z"
   },
   {
    "duration": 18,
    "start_time": "2022-09-24T16:35:06.034Z"
   },
   {
    "duration": 12,
    "start_time": "2022-09-24T16:35:06.053Z"
   },
   {
    "duration": 29,
    "start_time": "2022-09-24T16:35:06.066Z"
   },
   {
    "duration": 15,
    "start_time": "2022-09-24T16:35:06.097Z"
   },
   {
    "duration": 20,
    "start_time": "2022-09-24T16:35:06.114Z"
   },
   {
    "duration": 12,
    "start_time": "2022-09-24T16:35:06.136Z"
   },
   {
    "duration": 13,
    "start_time": "2022-09-24T16:35:06.151Z"
   },
   {
    "duration": 13,
    "start_time": "2022-09-24T16:35:06.166Z"
   },
   {
    "duration": 29,
    "start_time": "2022-09-24T16:35:06.181Z"
   },
   {
    "duration": 57942,
    "start_time": "2022-09-24T16:35:06.212Z"
   },
   {
    "duration": 9968,
    "start_time": "2022-09-24T16:36:04.156Z"
   },
   {
    "duration": 25607,
    "start_time": "2022-09-24T16:36:14.126Z"
   },
   {
    "duration": 18,
    "start_time": "2022-09-24T16:36:56.688Z"
   },
   {
    "duration": 19,
    "start_time": "2022-09-24T16:37:01.152Z"
   },
   {
    "duration": 196488,
    "start_time": "2022-09-24T16:37:04.084Z"
   },
   {
    "duration": 11,
    "start_time": "2022-09-24T16:41:00.156Z"
   },
   {
    "duration": 22258,
    "start_time": "2022-09-24T16:41:18.273Z"
   },
   {
    "duration": 4,
    "start_time": "2022-09-24T16:42:18.670Z"
   },
   {
    "duration": 27,
    "start_time": "2022-09-24T16:42:21.070Z"
   },
   {
    "duration": 9,
    "start_time": "2022-09-24T16:42:24.541Z"
   },
   {
    "duration": 9,
    "start_time": "2022-09-24T16:42:28.352Z"
   },
   {
    "duration": 8,
    "start_time": "2022-09-24T16:42:30.568Z"
   },
   {
    "duration": 11,
    "start_time": "2022-09-24T16:42:33.530Z"
   },
   {
    "duration": 3733,
    "start_time": "2022-09-24T16:42:49.696Z"
   },
   {
    "duration": 23,
    "start_time": "2022-09-24T16:43:14.570Z"
   },
   {
    "duration": 4,
    "start_time": "2022-09-24T16:44:40.283Z"
   },
   {
    "duration": 22,
    "start_time": "2022-09-24T16:44:42.784Z"
   },
   {
    "duration": 10,
    "start_time": "2022-09-24T16:44:46.715Z"
   },
   {
    "duration": 7,
    "start_time": "2022-09-24T16:44:48.613Z"
   },
   {
    "duration": 10,
    "start_time": "2022-09-24T16:44:51.692Z"
   },
   {
    "duration": 21,
    "start_time": "2022-09-24T16:44:59.863Z"
   },
   {
    "duration": 36,
    "start_time": "2022-09-24T16:45:14.395Z"
   },
   {
    "duration": 5,
    "start_time": "2022-09-24T16:47:03.564Z"
   },
   {
    "duration": 27,
    "start_time": "2022-09-24T16:47:06.613Z"
   },
   {
    "duration": 11,
    "start_time": "2022-09-24T16:47:10.525Z"
   },
   {
    "duration": 9,
    "start_time": "2022-09-24T16:47:13.316Z"
   },
   {
    "duration": 10,
    "start_time": "2022-09-24T16:47:15.806Z"
   },
   {
    "duration": 12,
    "start_time": "2022-09-24T16:47:18.491Z"
   },
   {
    "duration": 24,
    "start_time": "2022-09-24T16:47:58.328Z"
   },
   {
    "duration": 22,
    "start_time": "2022-09-24T16:48:06.620Z"
   },
   {
    "duration": 43,
    "start_time": "2022-09-24T16:49:10.169Z"
   },
   {
    "duration": 242,
    "start_time": "2022-09-24T16:49:19.275Z"
   },
   {
    "duration": 4,
    "start_time": "2022-09-24T16:53:02.817Z"
   },
   {
    "duration": 19,
    "start_time": "2022-09-24T16:53:05.159Z"
   },
   {
    "duration": 8,
    "start_time": "2022-09-24T16:53:07.506Z"
   },
   {
    "duration": 13,
    "start_time": "2022-09-24T16:53:11.072Z"
   },
   {
    "duration": 7,
    "start_time": "2022-09-24T16:53:13.494Z"
   },
   {
    "duration": 9,
    "start_time": "2022-09-24T16:53:16.429Z"
   },
   {
    "duration": 10,
    "start_time": "2022-09-24T16:53:24.626Z"
   },
   {
    "duration": 38,
    "start_time": "2022-09-24T16:53:29.388Z"
   },
   {
    "duration": 4,
    "start_time": "2022-09-24T16:55:04.703Z"
   },
   {
    "duration": 19,
    "start_time": "2022-09-24T16:55:12.577Z"
   },
   {
    "duration": 9,
    "start_time": "2022-09-24T16:55:15.183Z"
   },
   {
    "duration": 8,
    "start_time": "2022-09-24T16:55:19.161Z"
   },
   {
    "duration": 8,
    "start_time": "2022-09-24T16:55:21.425Z"
   },
   {
    "duration": 18,
    "start_time": "2022-09-24T16:55:27.873Z"
   },
   {
    "duration": 43,
    "start_time": "2022-09-24T16:56:16.676Z"
   },
   {
    "duration": 49,
    "start_time": "2022-09-24T16:56:25.222Z"
   },
   {
    "duration": 59,
    "start_time": "2022-09-24T16:56:31.523Z"
   },
   {
    "duration": 4,
    "start_time": "2022-09-24T16:57:24.396Z"
   },
   {
    "duration": 17,
    "start_time": "2022-09-24T16:57:26.856Z"
   },
   {
    "duration": 8,
    "start_time": "2022-09-24T16:57:29.771Z"
   },
   {
    "duration": 7,
    "start_time": "2022-09-24T16:57:31.708Z"
   },
   {
    "duration": 9,
    "start_time": "2022-09-24T16:57:34.142Z"
   },
   {
    "duration": 34,
    "start_time": "2022-09-24T16:57:37.476Z"
   },
   {
    "duration": 19,
    "start_time": "2022-09-24T16:57:44.049Z"
   },
   {
    "duration": 19,
    "start_time": "2022-09-24T16:57:47.136Z"
   },
   {
    "duration": 17,
    "start_time": "2022-09-24T16:59:25.077Z"
   },
   {
    "duration": 4,
    "start_time": "2022-09-24T16:59:42.937Z"
   },
   {
    "duration": 17,
    "start_time": "2022-09-24T16:59:45.401Z"
   },
   {
    "duration": 9,
    "start_time": "2022-09-24T16:59:48.372Z"
   },
   {
    "duration": 8,
    "start_time": "2022-09-24T16:59:52.813Z"
   },
   {
    "duration": 7,
    "start_time": "2022-09-24T16:59:54.851Z"
   },
   {
    "duration": 10,
    "start_time": "2022-09-24T16:59:58.205Z"
   },
   {
    "duration": 25,
    "start_time": "2022-09-24T17:00:01.736Z"
   },
   {
    "duration": 17,
    "start_time": "2022-09-24T17:00:17.122Z"
   },
   {
    "duration": 17,
    "start_time": "2022-09-24T17:00:20.557Z"
   },
   {
    "duration": 4,
    "start_time": "2022-09-24T17:00:27.496Z"
   },
   {
    "duration": 46,
    "start_time": "2022-09-24T17:00:27.502Z"
   },
   {
    "duration": 12,
    "start_time": "2022-09-24T17:00:27.549Z"
   },
   {
    "duration": 18,
    "start_time": "2022-09-24T17:00:27.563Z"
   },
   {
    "duration": 3,
    "start_time": "2022-09-24T17:00:27.583Z"
   },
   {
    "duration": 8,
    "start_time": "2022-09-24T17:00:27.588Z"
   },
   {
    "duration": 14,
    "start_time": "2022-09-24T17:00:27.598Z"
   },
   {
    "duration": 15,
    "start_time": "2022-09-24T17:00:27.613Z"
   },
   {
    "duration": 4,
    "start_time": "2022-09-24T17:00:27.630Z"
   },
   {
    "duration": 12,
    "start_time": "2022-09-24T17:00:27.637Z"
   },
   {
    "duration": 6,
    "start_time": "2022-09-24T17:00:27.651Z"
   },
   {
    "duration": 19,
    "start_time": "2022-09-24T17:00:27.658Z"
   },
   {
    "duration": 7,
    "start_time": "2022-09-24T17:00:27.679Z"
   },
   {
    "duration": 8,
    "start_time": "2022-09-24T17:00:27.688Z"
   },
   {
    "duration": 25,
    "start_time": "2022-09-24T17:00:27.697Z"
   },
   {
    "duration": 9,
    "start_time": "2022-09-24T17:00:27.724Z"
   },
   {
    "duration": 25,
    "start_time": "2022-09-24T17:00:27.734Z"
   },
   {
    "duration": 4,
    "start_time": "2022-09-24T17:00:27.760Z"
   },
   {
    "duration": 57436,
    "start_time": "2022-09-24T17:00:27.765Z"
   },
   {
    "duration": 9938,
    "start_time": "2022-09-24T17:01:25.203Z"
   },
   {
    "duration": 4388,
    "start_time": "2022-09-24T17:01:35.142Z"
   },
   {
    "duration": 105,
    "start_time": "2022-09-24T17:01:39.623Z"
   },
   {
    "duration": 15,
    "start_time": "2022-09-24T17:01:39.729Z"
   },
   {
    "duration": 4,
    "start_time": "2022-09-24T17:02:35.471Z"
   },
   {
    "duration": 39,
    "start_time": "2022-09-24T17:02:35.477Z"
   },
   {
    "duration": 11,
    "start_time": "2022-09-24T17:02:35.518Z"
   },
   {
    "duration": 15,
    "start_time": "2022-09-24T17:02:35.531Z"
   },
   {
    "duration": 3,
    "start_time": "2022-09-24T17:02:35.547Z"
   },
   {
    "duration": 9,
    "start_time": "2022-09-24T17:02:35.552Z"
   },
   {
    "duration": 12,
    "start_time": "2022-09-24T17:02:35.563Z"
   },
   {
    "duration": 9,
    "start_time": "2022-09-24T17:02:35.576Z"
   },
   {
    "duration": 4,
    "start_time": "2022-09-24T17:02:35.586Z"
   },
   {
    "duration": 31,
    "start_time": "2022-09-24T17:02:35.592Z"
   },
   {
    "duration": 3,
    "start_time": "2022-09-24T17:02:35.625Z"
   },
   {
    "duration": 20,
    "start_time": "2022-09-24T17:02:35.630Z"
   },
   {
    "duration": 9,
    "start_time": "2022-09-24T17:02:35.652Z"
   },
   {
    "duration": 8,
    "start_time": "2022-09-24T17:02:35.662Z"
   },
   {
    "duration": 7,
    "start_time": "2022-09-24T17:02:35.672Z"
   },
   {
    "duration": 9,
    "start_time": "2022-09-24T17:02:35.680Z"
   },
   {
    "duration": 3,
    "start_time": "2022-09-24T17:02:35.690Z"
   },
   {
    "duration": 30,
    "start_time": "2022-09-24T17:02:35.694Z"
   },
   {
    "duration": 56833,
    "start_time": "2022-09-24T17:02:35.725Z"
   },
   {
    "duration": 9734,
    "start_time": "2022-09-24T17:03:32.559Z"
   },
   {
    "duration": 4336,
    "start_time": "2022-09-24T17:03:42.295Z"
   },
   {
    "duration": 101,
    "start_time": "2022-09-24T17:03:46.724Z"
   },
   {
    "duration": 16,
    "start_time": "2022-09-24T17:03:46.826Z"
   },
   {
    "duration": 186042,
    "start_time": "2022-09-24T17:04:52.674Z"
   },
   {
    "duration": 4,
    "start_time": "2022-09-24T17:09:14.334Z"
   },
   {
    "duration": 39,
    "start_time": "2022-09-24T17:09:14.340Z"
   },
   {
    "duration": 11,
    "start_time": "2022-09-24T17:09:14.381Z"
   },
   {
    "duration": 12,
    "start_time": "2022-09-24T17:09:14.393Z"
   },
   {
    "duration": 3,
    "start_time": "2022-09-24T17:09:14.406Z"
   },
   {
    "duration": 10,
    "start_time": "2022-09-24T17:09:14.410Z"
   },
   {
    "duration": 13,
    "start_time": "2022-09-24T17:09:14.421Z"
   },
   {
    "duration": 9,
    "start_time": "2022-09-24T17:09:14.435Z"
   },
   {
    "duration": 3,
    "start_time": "2022-09-24T17:09:14.446Z"
   },
   {
    "duration": 11,
    "start_time": "2022-09-24T17:09:14.450Z"
   },
   {
    "duration": 3,
    "start_time": "2022-09-24T17:09:14.463Z"
   },
   {
    "duration": 8,
    "start_time": "2022-09-24T17:09:14.467Z"
   },
   {
    "duration": 5,
    "start_time": "2022-09-24T17:09:14.476Z"
   },
   {
    "duration": 9,
    "start_time": "2022-09-24T17:09:14.482Z"
   },
   {
    "duration": 8,
    "start_time": "2022-09-24T17:09:14.492Z"
   },
   {
    "duration": 21,
    "start_time": "2022-09-24T17:09:14.501Z"
   },
   {
    "duration": 4,
    "start_time": "2022-09-24T17:09:14.523Z"
   },
   {
    "duration": 10,
    "start_time": "2022-09-24T17:09:14.529Z"
   },
   {
    "duration": 57871,
    "start_time": "2022-09-24T17:09:21.321Z"
   },
   {
    "duration": 4,
    "start_time": "2022-09-24T17:12:04.968Z"
   },
   {
    "duration": 40,
    "start_time": "2022-09-24T17:12:04.974Z"
   },
   {
    "duration": 13,
    "start_time": "2022-09-24T17:12:05.016Z"
   },
   {
    "duration": 12,
    "start_time": "2022-09-24T17:12:05.031Z"
   },
   {
    "duration": 3,
    "start_time": "2022-09-24T17:12:05.045Z"
   },
   {
    "duration": 10,
    "start_time": "2022-09-24T17:12:05.049Z"
   },
   {
    "duration": 10,
    "start_time": "2022-09-24T17:12:05.060Z"
   },
   {
    "duration": 8,
    "start_time": "2022-09-24T17:12:05.072Z"
   },
   {
    "duration": 4,
    "start_time": "2022-09-24T17:12:05.081Z"
   },
   {
    "duration": 34,
    "start_time": "2022-09-24T17:12:05.087Z"
   },
   {
    "duration": 3,
    "start_time": "2022-09-24T17:12:05.123Z"
   },
   {
    "duration": 6,
    "start_time": "2022-09-24T17:12:05.128Z"
   },
   {
    "duration": 5,
    "start_time": "2022-09-24T17:12:05.135Z"
   },
   {
    "duration": 14,
    "start_time": "2022-09-24T17:12:05.141Z"
   },
   {
    "duration": 2,
    "start_time": "2022-09-24T17:12:05.156Z"
   },
   {
    "duration": 4,
    "start_time": "2022-09-24T17:12:05.160Z"
   },
   {
    "duration": 6,
    "start_time": "2022-09-24T17:12:05.165Z"
   },
   {
    "duration": 8,
    "start_time": "2022-09-24T17:12:05.172Z"
   },
   {
    "duration": 57340,
    "start_time": "2022-09-24T17:12:08.469Z"
   },
   {
    "duration": 10,
    "start_time": "2022-09-24T17:13:32.349Z"
   },
   {
    "duration": 11,
    "start_time": "2022-09-24T17:13:42.781Z"
   },
   {
    "duration": 187262,
    "start_time": "2022-09-24T17:13:48.835Z"
   },
   {
    "duration": 4,
    "start_time": "2022-09-24T17:18:38.445Z"
   },
   {
    "duration": 27,
    "start_time": "2022-09-24T17:18:40.641Z"
   },
   {
    "duration": 11,
    "start_time": "2022-09-24T17:18:43.236Z"
   },
   {
    "duration": 57740,
    "start_time": "2022-09-24T17:18:51.100Z"
   },
   {
    "duration": 9,
    "start_time": "2022-09-24T17:20:02.059Z"
   },
   {
    "duration": 10,
    "start_time": "2022-09-24T17:20:09.174Z"
   },
   {
    "duration": 186911,
    "start_time": "2022-09-24T17:20:19.458Z"
   },
   {
    "duration": 4,
    "start_time": "2022-09-24T17:24:16.336Z"
   },
   {
    "duration": 9,
    "start_time": "2022-09-24T17:24:20.224Z"
   },
   {
    "duration": 10,
    "start_time": "2022-09-24T17:24:27.586Z"
   },
   {
    "duration": 58048,
    "start_time": "2022-09-24T17:24:34.105Z"
   },
   {
    "duration": 13,
    "start_time": "2022-09-24T17:26:07.166Z"
   },
   {
    "duration": 13,
    "start_time": "2022-09-24T17:26:10.974Z"
   },
   {
    "duration": 186743,
    "start_time": "2022-09-24T17:26:14.108Z"
   },
   {
    "duration": 73491,
    "start_time": "2022-09-24T17:30:33.718Z"
   },
   {
    "duration": 4,
    "start_time": "2022-09-24T17:32:58.384Z"
   },
   {
    "duration": 10,
    "start_time": "2022-09-24T17:33:01.547Z"
   },
   {
    "duration": 11,
    "start_time": "2022-09-24T17:33:04.563Z"
   },
   {
    "duration": 24,
    "start_time": "2022-09-24T17:33:08.936Z"
   },
   {
    "duration": 61154,
    "start_time": "2022-09-24T17:33:12.161Z"
   },
   {
    "duration": 15,
    "start_time": "2022-09-24T17:34:41.037Z"
   },
   {
    "duration": 16,
    "start_time": "2022-09-24T17:34:43.964Z"
   },
   {
    "duration": 78722,
    "start_time": "2022-09-24T17:34:48.269Z"
   },
   {
    "duration": 203071,
    "start_time": "2022-09-24T17:36:29.689Z"
   },
   {
    "duration": 7414,
    "start_time": "2022-09-24T17:40:37.049Z"
   },
   {
    "duration": 42810,
    "start_time": "2022-09-24T17:41:01.962Z"
   },
   {
    "duration": 4,
    "start_time": "2022-09-24T17:42:10.366Z"
   },
   {
    "duration": 10,
    "start_time": "2022-09-24T17:42:15.172Z"
   },
   {
    "duration": 12,
    "start_time": "2022-09-24T17:42:18.851Z"
   },
   {
    "duration": 35,
    "start_time": "2022-09-24T17:42:28.644Z"
   },
   {
    "duration": 73640,
    "start_time": "2022-09-24T17:42:50.612Z"
   },
   {
    "duration": 271410,
    "start_time": "2022-09-24T17:44:36.400Z"
   },
   {
    "duration": 15,
    "start_time": "2022-09-24T17:50:47.877Z"
   },
   {
    "duration": 54057,
    "start_time": "2022-09-24T17:50:53.585Z"
   },
   {
    "duration": 5,
    "start_time": "2022-09-24T17:52:27.932Z"
   },
   {
    "duration": 11,
    "start_time": "2022-09-24T17:52:31.201Z"
   },
   {
    "duration": 14,
    "start_time": "2022-09-24T17:52:33.487Z"
   },
   {
    "duration": 26,
    "start_time": "2022-09-24T17:52:40.393Z"
   },
   {
    "duration": 1794,
    "start_time": "2022-09-24T17:53:25.107Z"
   },
   {
    "duration": 3133,
    "start_time": "2022-09-24T17:53:50.323Z"
   },
   {
    "duration": 8645,
    "start_time": "2022-09-24T17:54:23.804Z"
   },
   {
    "duration": 15210,
    "start_time": "2022-09-24T17:54:51.398Z"
   },
   {
    "duration": 13,
    "start_time": "2022-09-24T17:56:39.338Z"
   },
   {
    "duration": 22230,
    "start_time": "2022-09-24T17:56:43.839Z"
   },
   {
    "duration": 27445,
    "start_time": "2022-09-24T17:57:43.135Z"
   },
   {
    "duration": 31824,
    "start_time": "2022-09-24T17:58:22.407Z"
   },
   {
    "duration": 50873,
    "start_time": "2022-09-24T17:59:08.350Z"
   },
   {
    "duration": 77707,
    "start_time": "2022-09-24T18:00:16.879Z"
   },
   {
    "duration": 110773,
    "start_time": "2022-09-24T18:01:47.639Z"
   },
   {
    "duration": 123861,
    "start_time": "2022-09-24T18:03:49.708Z"
   },
   {
    "duration": 1169,
    "start_time": "2022-09-25T08:16:25.368Z"
   },
   {
    "duration": 177,
    "start_time": "2022-09-25T08:16:26.539Z"
   },
   {
    "duration": 20,
    "start_time": "2022-09-25T08:16:26.717Z"
   },
   {
    "duration": 16,
    "start_time": "2022-09-25T08:16:26.739Z"
   },
   {
    "duration": 4,
    "start_time": "2022-09-25T08:16:26.758Z"
   },
   {
    "duration": 24,
    "start_time": "2022-09-25T08:16:26.764Z"
   },
   {
    "duration": 34,
    "start_time": "2022-09-25T08:16:26.789Z"
   },
   {
    "duration": 34,
    "start_time": "2022-09-25T08:16:26.825Z"
   },
   {
    "duration": 13,
    "start_time": "2022-09-25T08:16:26.860Z"
   },
   {
    "duration": 37,
    "start_time": "2022-09-25T08:16:26.875Z"
   },
   {
    "duration": 6,
    "start_time": "2022-09-25T08:16:26.914Z"
   },
   {
    "duration": 13,
    "start_time": "2022-09-25T08:16:26.922Z"
   },
   {
    "duration": 12,
    "start_time": "2022-09-25T08:16:26.937Z"
   },
   {
    "duration": 13,
    "start_time": "2022-09-25T08:16:26.952Z"
   },
   {
    "duration": 3,
    "start_time": "2022-09-25T08:16:26.966Z"
   },
   {
    "duration": 8,
    "start_time": "2022-09-25T08:16:26.970Z"
   },
   {
    "duration": 51,
    "start_time": "2022-09-25T08:16:26.980Z"
   },
   {
    "duration": 4,
    "start_time": "2022-09-25T08:16:27.033Z"
   },
   {
    "duration": 2174,
    "start_time": "2022-09-25T08:16:31.373Z"
   },
   {
    "duration": 86425,
    "start_time": "2022-09-25T08:17:29.531Z"
   },
   {
    "duration": 22,
    "start_time": "2022-09-25T08:19:27.376Z"
   },
   {
    "duration": 139694,
    "start_time": "2022-09-25T08:19:34.107Z"
   },
   {
    "duration": 14,
    "start_time": "2022-09-25T08:22:25.508Z"
   },
   {
    "duration": 104788,
    "start_time": "2022-09-25T08:22:32.287Z"
   },
   {
    "duration": 5,
    "start_time": "2022-09-25T08:24:43.626Z"
   },
   {
    "duration": 10,
    "start_time": "2022-09-25T08:24:46.755Z"
   },
   {
    "duration": 23,
    "start_time": "2022-09-25T08:24:48.683Z"
   },
   {
    "duration": 37,
    "start_time": "2022-09-25T08:24:52.120Z"
   },
   {
    "duration": 20,
    "start_time": "2022-09-25T08:25:11.980Z"
   },
   {
    "duration": 63458,
    "start_time": "2022-09-25T08:25:15.885Z"
   },
   {
    "duration": 5,
    "start_time": "2022-09-25T08:26:44.071Z"
   },
   {
    "duration": 13,
    "start_time": "2022-09-25T08:26:46.985Z"
   },
   {
    "duration": 16,
    "start_time": "2022-09-25T08:26:49.436Z"
   },
   {
    "duration": 28,
    "start_time": "2022-09-25T08:26:53.646Z"
   },
   {
    "duration": 2278,
    "start_time": "2022-09-25T08:27:02.959Z"
   },
   {
    "duration": 5968,
    "start_time": "2022-09-25T08:28:07.286Z"
   },
   {
    "duration": 13836,
    "start_time": "2022-09-25T08:28:37.414Z"
   },
   {
    "duration": 4610,
    "start_time": "2022-09-25T08:29:09.236Z"
   },
   {
    "duration": 17,
    "start_time": "2022-09-25T08:30:54.717Z"
   },
   {
    "duration": 153103,
    "start_time": "2022-09-25T08:30:58.658Z"
   },
   {
    "duration": 24262,
    "start_time": "2022-09-25T08:33:47.720Z"
   },
   {
    "duration": 4,
    "start_time": "2022-09-25T08:35:23.848Z"
   },
   {
    "duration": 9,
    "start_time": "2022-09-25T08:35:27.528Z"
   },
   {
    "duration": 26,
    "start_time": "2022-09-25T08:35:30.509Z"
   },
   {
    "duration": 15,
    "start_time": "2022-09-25T08:36:24.715Z"
   },
   {
    "duration": 7,
    "start_time": "2022-09-25T08:36:38.387Z"
   },
   {
    "duration": 22,
    "start_time": "2022-09-25T08:36:42.004Z"
   },
   {
    "duration": 12,
    "start_time": "2022-09-25T08:36:44.574Z"
   },
   {
    "duration": 121,
    "start_time": "2022-09-25T08:36:46.617Z"
   },
   {
    "duration": 7,
    "start_time": "2022-09-25T08:37:04.423Z"
   },
   {
    "duration": 12,
    "start_time": "2022-09-25T08:37:07.476Z"
   },
   {
    "duration": 43,
    "start_time": "2022-09-25T08:37:10.779Z"
   },
   {
    "duration": 13239,
    "start_time": "2022-09-25T08:37:39.651Z"
   },
   {
    "duration": 5,
    "start_time": "2022-09-25T08:38:20.428Z"
   },
   {
    "duration": 11,
    "start_time": "2022-09-25T08:38:24.327Z"
   },
   {
    "duration": 8,
    "start_time": "2022-09-25T08:38:27.228Z"
   },
   {
    "duration": 29,
    "start_time": "2022-09-25T08:38:31.149Z"
   },
   {
    "duration": 49240,
    "start_time": "2022-09-25T08:38:36.383Z"
   },
   {
    "duration": 5,
    "start_time": "2022-09-25T08:39:45.719Z"
   },
   {
    "duration": 15,
    "start_time": "2022-09-25T08:39:50.237Z"
   },
   {
    "duration": 14,
    "start_time": "2022-09-25T08:39:52.624Z"
   },
   {
    "duration": 8,
    "start_time": "2022-09-25T08:39:54.230Z"
   },
   {
    "duration": 11,
    "start_time": "2022-09-25T08:39:57.737Z"
   },
   {
    "duration": 38,
    "start_time": "2022-09-25T08:40:00.665Z"
   },
   {
    "duration": 14503,
    "start_time": "2022-09-25T08:40:09.526Z"
   },
   {
    "duration": 9702,
    "start_time": "2022-09-25T08:41:11.919Z"
   },
   {
    "duration": 28,
    "start_time": "2022-09-25T08:41:42.242Z"
   },
   {
    "duration": 10900,
    "start_time": "2022-09-25T08:41:50.191Z"
   },
   {
    "duration": 4,
    "start_time": "2022-09-25T08:42:42.465Z"
   },
   {
    "duration": 15,
    "start_time": "2022-09-25T08:42:46.016Z"
   },
   {
    "duration": 21,
    "start_time": "2022-09-25T08:42:48.324Z"
   },
   {
    "duration": 8,
    "start_time": "2022-09-25T08:42:51.076Z"
   },
   {
    "duration": 19,
    "start_time": "2022-09-25T08:42:54.810Z"
   },
   {
    "duration": 28,
    "start_time": "2022-09-25T08:42:57.151Z"
   },
   {
    "duration": 29,
    "start_time": "2022-09-25T08:43:13.220Z"
   },
   {
    "duration": 56,
    "start_time": "2022-09-25T08:43:21.520Z"
   },
   {
    "duration": 16369,
    "start_time": "2022-09-25T08:43:33.055Z"
   },
   {
    "duration": 60,
    "start_time": "2022-09-25T08:44:05.486Z"
   },
   {
    "duration": 22733,
    "start_time": "2022-09-25T08:44:11.469Z"
   },
   {
    "duration": 5,
    "start_time": "2022-09-25T08:45:01.549Z"
   },
   {
    "duration": 10,
    "start_time": "2022-09-25T08:45:04.738Z"
   },
   {
    "duration": 15,
    "start_time": "2022-09-25T08:45:07.058Z"
   },
   {
    "duration": 16,
    "start_time": "2022-09-25T08:45:08.891Z"
   },
   {
    "duration": 14,
    "start_time": "2022-09-25T08:45:13.519Z"
   },
   {
    "duration": 16,
    "start_time": "2022-09-25T08:45:20.870Z"
   },
   {
    "duration": 10618,
    "start_time": "2022-09-25T08:45:29.392Z"
   },
   {
    "duration": 4,
    "start_time": "2022-09-25T08:46:20.247Z"
   },
   {
    "duration": 11,
    "start_time": "2022-09-25T08:46:23.376Z"
   },
   {
    "duration": 23,
    "start_time": "2022-09-25T08:46:25.695Z"
   },
   {
    "duration": 17,
    "start_time": "2022-09-25T08:46:27.808Z"
   },
   {
    "duration": 29,
    "start_time": "2022-09-25T08:47:23.980Z"
   },
   {
    "duration": 52,
    "start_time": "2022-09-25T08:47:35.575Z"
   },
   {
    "duration": 11,
    "start_time": "2022-09-25T08:49:01.087Z"
   },
   {
    "duration": 25,
    "start_time": "2022-09-25T08:49:05.208Z"
   },
   {
    "duration": 12,
    "start_time": "2022-09-25T08:49:07.530Z"
   },
   {
    "duration": 11,
    "start_time": "2022-09-25T08:49:09.317Z"
   },
   {
    "duration": 13,
    "start_time": "2022-09-25T08:49:20.035Z"
   },
   {
    "duration": 65,
    "start_time": "2022-09-25T08:49:22.480Z"
   },
   {
    "duration": 16098,
    "start_time": "2022-09-25T08:49:29.410Z"
   },
   {
    "duration": 16,
    "start_time": "2022-09-25T08:50:08.801Z"
   },
   {
    "duration": 8776,
    "start_time": "2022-09-25T08:50:29.715Z"
   },
   {
    "duration": 6793,
    "start_time": "2022-09-25T08:50:56.128Z"
   },
   {
    "duration": 31,
    "start_time": "2022-09-25T08:51:48.233Z"
   },
   {
    "duration": 55,
    "start_time": "2022-09-25T08:51:55.355Z"
   },
   {
    "duration": 8776,
    "start_time": "2022-09-25T08:52:03.412Z"
   },
   {
    "duration": 7,
    "start_time": "2022-09-25T08:53:13.606Z"
   },
   {
    "duration": 41,
    "start_time": "2022-09-25T08:53:16.758Z"
   },
   {
    "duration": 22,
    "start_time": "2022-09-25T08:53:20.083Z"
   },
   {
    "duration": 16,
    "start_time": "2022-09-25T08:53:21.817Z"
   },
   {
    "duration": 5940,
    "start_time": "2022-09-25T08:53:26.876Z"
   },
   {
    "duration": 1236,
    "start_time": "2022-09-30T09:32:14.112Z"
   },
   {
    "duration": 83,
    "start_time": "2022-09-30T09:32:16.040Z"
   },
   {
    "duration": 21,
    "start_time": "2022-09-30T09:32:17.343Z"
   },
   {
    "duration": 16,
    "start_time": "2022-09-30T09:32:19.807Z"
   },
   {
    "duration": 3,
    "start_time": "2022-09-30T09:32:23.600Z"
   },
   {
    "duration": 9,
    "start_time": "2022-09-30T09:32:25.014Z"
   },
   {
    "duration": 15,
    "start_time": "2022-09-30T09:32:27.356Z"
   },
   {
    "duration": 12,
    "start_time": "2022-09-30T09:32:31.333Z"
   },
   {
    "duration": 5,
    "start_time": "2022-09-30T09:32:34.208Z"
   },
   {
    "duration": 14,
    "start_time": "2022-09-30T09:32:38.866Z"
   },
   {
    "duration": 4,
    "start_time": "2022-09-30T09:32:42.849Z"
   },
   {
    "duration": 107,
    "start_time": "2022-09-30T09:32:58.821Z"
   },
   {
    "duration": 34,
    "start_time": "2022-09-30T09:33:18.712Z"
   },
   {
    "duration": 13,
    "start_time": "2022-09-30T09:33:21.650Z"
   },
   {
    "duration": 5294,
    "start_time": "2022-09-30T09:33:30.727Z"
   },
   {
    "duration": 84253,
    "start_time": "2022-09-30T09:33:53.443Z"
   },
   {
    "duration": 2890,
    "start_time": "2022-09-30T09:36:10.312Z"
   },
   {
    "duration": 3160,
    "start_time": "2022-09-30T09:36:23.817Z"
   },
   {
    "duration": 2935,
    "start_time": "2022-09-30T09:37:06.517Z"
   },
   {
    "duration": 3124,
    "start_time": "2022-09-30T09:37:33.201Z"
   },
   {
    "duration": 12111,
    "start_time": "2022-09-30T09:38:00.517Z"
   },
   {
    "duration": 17,
    "start_time": "2022-09-30T09:38:54.754Z"
   },
   {
    "duration": 18897,
    "start_time": "2022-09-30T09:38:59.173Z"
   },
   {
    "duration": 37302,
    "start_time": "2022-09-30T09:40:02.672Z"
   },
   {
    "duration": 26524,
    "start_time": "2022-09-30T09:41:01.273Z"
   },
   {
    "duration": 12,
    "start_time": "2022-09-30T09:41:44.861Z"
   },
   {
    "duration": 20360,
    "start_time": "2022-09-30T09:41:49.618Z"
   },
   {
    "duration": 5,
    "start_time": "2022-09-30T09:42:31.752Z"
   },
   {
    "duration": 12,
    "start_time": "2022-09-30T09:42:34.633Z"
   },
   {
    "duration": 10,
    "start_time": "2022-09-30T09:42:48.943Z"
   },
   {
    "duration": 12059,
    "start_time": "2022-09-30T09:42:57.667Z"
   },
   {
    "duration": 4,
    "start_time": "2022-09-30T09:43:25.744Z"
   },
   {
    "duration": 36,
    "start_time": "2022-09-30T09:43:28.971Z"
   },
   {
    "duration": 13,
    "start_time": "2022-09-30T09:43:31.183Z"
   },
   {
    "duration": 3276,
    "start_time": "2022-09-30T09:43:43.724Z"
   },
   {
    "duration": 16964,
    "start_time": "2022-09-30T09:44:17.058Z"
   },
   {
    "duration": 19685,
    "start_time": "2022-09-30T09:44:57.268Z"
   },
   {
    "duration": 30301,
    "start_time": "2022-09-30T09:45:38.191Z"
   },
   {
    "duration": 13,
    "start_time": "2022-09-30T09:46:26.917Z"
   },
   {
    "duration": 48298,
    "start_time": "2022-09-30T09:46:32.134Z"
   },
   {
    "duration": 73969,
    "start_time": "2022-09-30T09:47:41.127Z"
   },
   {
    "duration": 88480,
    "start_time": "2022-09-30T09:49:08.528Z"
   },
   {
    "duration": 68144,
    "start_time": "2022-09-30T09:51:06.106Z"
   },
   {
    "duration": 15,
    "start_time": "2022-09-30T09:52:30.021Z"
   },
   {
    "duration": 50651,
    "start_time": "2022-09-30T09:52:33.188Z"
   },
   {
    "duration": 5,
    "start_time": "2022-09-30T09:53:47.642Z"
   },
   {
    "duration": 35,
    "start_time": "2022-09-30T09:53:52.921Z"
   },
   {
    "duration": 12,
    "start_time": "2022-09-30T09:53:56.540Z"
   },
   {
    "duration": 11,
    "start_time": "2022-09-30T09:54:06.914Z"
   },
   {
    "duration": 28234,
    "start_time": "2022-09-30T09:54:09.922Z"
   },
   {
    "duration": 32412,
    "start_time": "2022-09-30T09:55:14.036Z"
   },
   {
    "duration": 5,
    "start_time": "2022-09-30T09:56:47.139Z"
   },
   {
    "duration": 37,
    "start_time": "2022-09-30T09:56:49.317Z"
   },
   {
    "duration": 12,
    "start_time": "2022-09-30T09:56:53.045Z"
   },
   {
    "duration": 17,
    "start_time": "2022-09-30T09:57:13.555Z"
   },
   {
    "duration": 3215,
    "start_time": "2022-09-30T09:57:18.124Z"
   },
   {
    "duration": 49581,
    "start_time": "2022-09-30T09:57:49.869Z"
   },
   {
    "duration": 67518,
    "start_time": "2022-09-30T09:58:56.168Z"
   },
   {
    "duration": 88469,
    "start_time": "2022-09-30T10:00:25.121Z"
   },
   {
    "duration": 99939,
    "start_time": "2022-09-30T10:02:05.834Z"
   },
   {
    "duration": 13,
    "start_time": "2022-09-30T10:04:03.757Z"
   },
   {
    "duration": 163101,
    "start_time": "2022-09-30T10:04:07.512Z"
   },
   {
    "duration": 13,
    "start_time": "2022-09-30T10:07:18.415Z"
   },
   {
    "duration": 115927,
    "start_time": "2022-09-30T10:07:24.555Z"
   },
   {
    "duration": 5,
    "start_time": "2022-09-30T10:09:53.711Z"
   },
   {
    "duration": 35,
    "start_time": "2022-09-30T10:09:55.818Z"
   },
   {
    "duration": 12,
    "start_time": "2022-09-30T10:09:58.877Z"
   },
   {
    "duration": 17,
    "start_time": "2022-09-30T10:10:02.115Z"
   },
   {
    "duration": 10,
    "start_time": "2022-09-30T10:10:11.161Z"
   },
   {
    "duration": 63213,
    "start_time": "2022-09-30T10:10:15.311Z"
   },
   {
    "duration": 4,
    "start_time": "2022-09-30T10:11:49.914Z"
   },
   {
    "duration": 11,
    "start_time": "2022-09-30T10:11:54.747Z"
   },
   {
    "duration": 13,
    "start_time": "2022-09-30T10:11:57.512Z"
   },
   {
    "duration": 3525,
    "start_time": "2022-09-30T10:12:05.045Z"
   },
   {
    "duration": 97671,
    "start_time": "2022-09-30T10:12:48.858Z"
   },
   {
    "duration": 108638,
    "start_time": "2022-09-30T10:14:45.206Z"
   },
   {
    "duration": 17,
    "start_time": "2022-09-30T10:16:52.130Z"
   },
   {
    "duration": 178570,
    "start_time": "2022-09-30T10:16:55.752Z"
   },
   {
    "duration": 15,
    "start_time": "2022-09-30T10:20:19.908Z"
   },
   {
    "duration": 127738,
    "start_time": "2022-09-30T10:20:23.502Z"
   },
   {
    "duration": 4,
    "start_time": "2022-09-30T10:22:48.238Z"
   },
   {
    "duration": 10,
    "start_time": "2022-09-30T10:22:51.420Z"
   },
   {
    "duration": 14,
    "start_time": "2022-09-30T10:22:53.816Z"
   },
   {
    "duration": 11,
    "start_time": "2022-09-30T10:23:02.200Z"
   },
   {
    "duration": 100818,
    "start_time": "2022-09-30T10:23:16.224Z"
   },
   {
    "duration": 36188,
    "start_time": "2022-09-30T10:26:22.776Z"
   },
   {
    "duration": 46487,
    "start_time": "2022-09-30T10:27:16.805Z"
   },
   {
    "duration": 5,
    "start_time": "2022-09-30T10:28:55.011Z"
   },
   {
    "duration": 10,
    "start_time": "2022-09-30T10:28:59.634Z"
   },
   {
    "duration": 13,
    "start_time": "2022-09-30T10:29:02.310Z"
   },
   {
    "duration": 30,
    "start_time": "2022-09-30T10:29:07.709Z"
   },
   {
    "duration": 3286,
    "start_time": "2022-09-30T10:29:12.530Z"
   },
   {
    "duration": 62248,
    "start_time": "2022-09-30T10:30:01.081Z"
   },
   {
    "duration": 77864,
    "start_time": "2022-09-30T10:31:22.960Z"
   },
   {
    "duration": 107971,
    "start_time": "2022-09-30T10:33:01.106Z"
   },
   {
    "duration": 163937,
    "start_time": "2022-09-30T10:38:53.111Z"
   },
   {
    "duration": 42412,
    "start_time": "2022-09-30T10:42:01.619Z"
   },
   {
    "duration": 50015,
    "start_time": "2022-09-30T10:43:14.212Z"
   },
   {
    "duration": 57015,
    "start_time": "2022-09-30T10:44:21.101Z"
   },
   {
    "duration": 63676,
    "start_time": "2022-09-30T10:45:30.331Z"
   },
   {
    "duration": 13,
    "start_time": "2022-09-30T10:46:49.849Z"
   },
   {
    "duration": 41695,
    "start_time": "2022-09-30T10:46:55.904Z"
   },
   {
    "duration": 56136,
    "start_time": "2022-09-30T10:47:51.427Z"
   },
   {
    "duration": 5,
    "start_time": "2022-09-30T10:49:06.413Z"
   },
   {
    "duration": 10,
    "start_time": "2022-09-30T10:49:08.907Z"
   },
   {
    "duration": 13,
    "start_time": "2022-09-30T10:49:12.198Z"
   },
   {
    "duration": 30,
    "start_time": "2022-09-30T10:49:16.566Z"
   },
   {
    "duration": 13,
    "start_time": "2022-09-30T10:49:24.641Z"
   },
   {
    "duration": 56256,
    "start_time": "2022-09-30T10:49:27.976Z"
   },
   {
    "duration": 4,
    "start_time": "2022-09-30T10:51:28.462Z"
   },
   {
    "duration": 11,
    "start_time": "2022-09-30T10:51:32.481Z"
   },
   {
    "duration": 9,
    "start_time": "2022-09-30T10:51:57.578Z"
   },
   {
    "duration": 29,
    "start_time": "2022-09-30T10:52:01.907Z"
   },
   {
    "duration": 3382,
    "start_time": "2022-09-30T10:52:07.716Z"
   },
   {
    "duration": 85233,
    "start_time": "2022-09-30T10:52:25.706Z"
   },
   {
    "duration": 5,
    "start_time": "2022-09-30T10:54:11.569Z"
   },
   {
    "duration": 10,
    "start_time": "2022-09-30T10:54:16.352Z"
   },
   {
    "duration": 8,
    "start_time": "2022-09-30T10:54:19.076Z"
   },
   {
    "duration": 3329,
    "start_time": "2022-09-30T10:54:29.849Z"
   },
   {
    "duration": 31,
    "start_time": "2022-09-30T10:54:54.770Z"
   },
   {
    "duration": 3337,
    "start_time": "2022-09-30T10:54:58.333Z"
   },
   {
    "duration": 5,
    "start_time": "2022-09-30T10:55:23.726Z"
   },
   {
    "duration": 9,
    "start_time": "2022-09-30T10:55:26.351Z"
   },
   {
    "duration": 8,
    "start_time": "2022-09-30T10:55:29.879Z"
   },
   {
    "duration": 3238,
    "start_time": "2022-09-30T10:55:33.632Z"
   },
   {
    "duration": 84537,
    "start_time": "2022-09-30T10:55:51.279Z"
   },
   {
    "duration": 5,
    "start_time": "2022-09-30T10:58:08.540Z"
   },
   {
    "duration": 11,
    "start_time": "2022-09-30T10:58:11.080Z"
   },
   {
    "duration": 17,
    "start_time": "2022-09-30T10:58:14.425Z"
   },
   {
    "duration": 3394,
    "start_time": "2022-09-30T10:58:24.969Z"
   },
   {
    "duration": 85789,
    "start_time": "2022-09-30T10:58:37.352Z"
   },
   {
    "duration": 4,
    "start_time": "2022-09-30T11:00:58.301Z"
   },
   {
    "duration": 12,
    "start_time": "2022-09-30T11:01:01.202Z"
   },
   {
    "duration": 14,
    "start_time": "2022-09-30T11:01:05.181Z"
   },
   {
    "duration": 32,
    "start_time": "2022-09-30T11:01:10.665Z"
   },
   {
    "duration": 3506,
    "start_time": "2022-09-30T11:01:30.533Z"
   },
   {
    "duration": 86049,
    "start_time": "2022-09-30T11:01:56.476Z"
   },
   {
    "duration": 15,
    "start_time": "2022-09-30T11:03:50.717Z"
   },
   {
    "duration": 135887,
    "start_time": "2022-09-30T11:03:54.452Z"
   },
   {
    "duration": 4,
    "start_time": "2022-09-30T11:08:26.164Z"
   },
   {
    "duration": 10,
    "start_time": "2022-09-30T11:08:30.060Z"
   },
   {
    "duration": 12,
    "start_time": "2022-09-30T11:08:32.613Z"
   },
   {
    "duration": 18,
    "start_time": "2022-09-30T11:08:37.969Z"
   },
   {
    "duration": 3428,
    "start_time": "2022-09-30T11:08:41.011Z"
   },
   {
    "duration": 84520,
    "start_time": "2022-09-30T11:09:05.146Z"
   },
   {
    "duration": 6,
    "start_time": "2022-09-30T11:11:16.614Z"
   },
   {
    "duration": 11,
    "start_time": "2022-09-30T11:11:29.052Z"
   },
   {
    "duration": 13,
    "start_time": "2022-09-30T11:11:32.449Z"
   },
   {
    "duration": 32,
    "start_time": "2022-09-30T11:11:41.724Z"
   },
   {
    "duration": 3505,
    "start_time": "2022-09-30T11:11:46.882Z"
   },
   {
    "duration": 299,
    "start_time": "2022-09-30T11:12:24.505Z"
   },
   {
    "duration": 4045,
    "start_time": "2022-09-30T11:12:34.623Z"
   },
   {
    "duration": 14,
    "start_time": "2022-09-30T11:13:39.636Z"
   },
   {
    "duration": 4,
    "start_time": "2022-09-30T11:14:04.081Z"
   },
   {
    "duration": 4,
    "start_time": "2022-09-30T11:14:15.207Z"
   },
   {
    "duration": 4,
    "start_time": "2022-09-30T11:15:31.729Z"
   },
   {
    "duration": 10,
    "start_time": "2022-09-30T11:15:35.854Z"
   },
   {
    "duration": 12,
    "start_time": "2022-09-30T11:15:41.349Z"
   },
   {
    "duration": 40,
    "start_time": "2022-09-30T11:16:19.671Z"
   },
   {
    "duration": 6,
    "start_time": "2022-09-30T11:16:23.516Z"
   },
   {
    "duration": 311,
    "start_time": "2022-09-30T11:18:00.518Z"
   },
   {
    "duration": 4116,
    "start_time": "2022-09-30T11:18:39.099Z"
   },
   {
    "duration": 3475,
    "start_time": "2022-09-30T11:19:06.066Z"
   },
   {
    "duration": 13,
    "start_time": "2022-09-30T11:19:45.717Z"
   },
   {
    "duration": 3727,
    "start_time": "2022-09-30T11:19:52.312Z"
   },
   {
    "duration": 4,
    "start_time": "2022-09-30T11:20:17.623Z"
   },
   {
    "duration": 12,
    "start_time": "2022-09-30T11:20:24.147Z"
   },
   {
    "duration": 13,
    "start_time": "2022-09-30T11:20:33.059Z"
   },
   {
    "duration": 11,
    "start_time": "2022-09-30T11:20:46.824Z"
   },
   {
    "duration": 19,
    "start_time": "2022-09-30T11:21:00.744Z"
   },
   {
    "duration": 294,
    "start_time": "2022-09-30T11:21:05.729Z"
   },
   {
    "duration": 4,
    "start_time": "2022-09-30T11:21:16.997Z"
   },
   {
    "duration": 11,
    "start_time": "2022-09-30T11:21:20.400Z"
   },
   {
    "duration": 13,
    "start_time": "2022-09-30T11:21:24.016Z"
   },
   {
    "duration": 11,
    "start_time": "2022-09-30T11:21:35.003Z"
   },
   {
    "duration": 16,
    "start_time": "2022-09-30T11:21:37.916Z"
   },
   {
    "duration": 340,
    "start_time": "2022-09-30T11:21:43.518Z"
   },
   {
    "duration": 4,
    "start_time": "2022-09-30T11:21:54.466Z"
   },
   {
    "duration": 11,
    "start_time": "2022-09-30T11:22:01.238Z"
   },
   {
    "duration": 13,
    "start_time": "2022-09-30T11:22:03.891Z"
   },
   {
    "duration": 39,
    "start_time": "2022-09-30T11:22:08.402Z"
   },
   {
    "duration": 13,
    "start_time": "2022-09-30T11:22:11.043Z"
   },
   {
    "duration": 334,
    "start_time": "2022-09-30T11:22:14.313Z"
   },
   {
    "duration": 4,
    "start_time": "2022-09-30T11:22:39.261Z"
   },
   {
    "duration": 10,
    "start_time": "2022-09-30T11:22:43.227Z"
   },
   {
    "duration": 12,
    "start_time": "2022-09-30T11:22:50.138Z"
   },
   {
    "duration": 4,
    "start_time": "2022-09-30T11:24:36.238Z"
   },
   {
    "duration": 11,
    "start_time": "2022-09-30T11:24:41.462Z"
   },
   {
    "duration": 31,
    "start_time": "2022-09-30T11:24:53.874Z"
   },
   {
    "duration": 344,
    "start_time": "2022-09-30T11:25:00.708Z"
   },
   {
    "duration": 11,
    "start_time": "2022-09-30T11:25:12.452Z"
   },
   {
    "duration": 303,
    "start_time": "2022-09-30T11:25:15.907Z"
   },
   {
    "duration": 4,
    "start_time": "2022-09-30T11:25:26.375Z"
   },
   {
    "duration": 11,
    "start_time": "2022-09-30T11:25:30.508Z"
   },
   {
    "duration": 14,
    "start_time": "2022-09-30T11:25:33.815Z"
   },
   {
    "duration": 11,
    "start_time": "2022-09-30T11:25:36.579Z"
   },
   {
    "duration": 18,
    "start_time": "2022-09-30T11:25:39.211Z"
   },
   {
    "duration": 310,
    "start_time": "2022-09-30T11:25:43.641Z"
   },
   {
    "duration": 4,
    "start_time": "2022-09-30T11:28:03.270Z"
   },
   {
    "duration": 13,
    "start_time": "2022-09-30T11:28:06.242Z"
   },
   {
    "duration": 13,
    "start_time": "2022-09-30T11:28:09.759Z"
   },
   {
    "duration": 12,
    "start_time": "2022-09-30T11:28:46.824Z"
   },
   {
    "duration": 16,
    "start_time": "2022-09-30T11:29:34.212Z"
   },
   {
    "duration": 5,
    "start_time": "2022-09-30T11:29:47.957Z"
   },
   {
    "duration": 10,
    "start_time": "2022-09-30T11:29:53.021Z"
   },
   {
    "duration": 4,
    "start_time": "2022-09-30T11:30:36.107Z"
   },
   {
    "duration": 11,
    "start_time": "2022-09-30T11:30:39.496Z"
   },
   {
    "duration": 11,
    "start_time": "2022-09-30T11:30:43.148Z"
   },
   {
    "duration": 11,
    "start_time": "2022-09-30T11:30:49.066Z"
   },
   {
    "duration": 18,
    "start_time": "2022-09-30T11:30:53.249Z"
   },
   {
    "duration": 29,
    "start_time": "2022-09-30T11:32:14.813Z"
   },
   {
    "duration": 6,
    "start_time": "2022-09-30T11:32:20.012Z"
   },
   {
    "duration": 295,
    "start_time": "2022-09-30T11:32:25.865Z"
   },
   {
    "duration": 584,
    "start_time": "2022-09-30T11:32:54.975Z"
   },
   {
    "duration": 4206,
    "start_time": "2022-09-30T11:33:09.450Z"
   },
   {
    "duration": 4307,
    "start_time": "2022-09-30T11:33:54.974Z"
   },
   {
    "duration": 14,
    "start_time": "2022-09-30T11:35:07.627Z"
   },
   {
    "duration": 5683,
    "start_time": "2022-09-30T11:36:30.857Z"
   },
   {
    "duration": 7234,
    "start_time": "2022-09-30T11:37:03.118Z"
   },
   {
    "duration": 5436,
    "start_time": "2022-09-30T11:37:17.811Z"
   },
   {
    "duration": 5744,
    "start_time": "2022-09-30T11:37:32.707Z"
   },
   {
    "duration": 5529,
    "start_time": "2022-09-30T11:37:46.111Z"
   },
   {
    "duration": 785,
    "start_time": "2022-09-30T11:39:56.904Z"
   },
   {
    "duration": 879,
    "start_time": "2022-09-30T11:40:23.603Z"
   },
   {
    "duration": 5567,
    "start_time": "2022-09-30T11:40:35.553Z"
   },
   {
    "duration": 6693,
    "start_time": "2022-09-30T11:41:20.557Z"
   },
   {
    "duration": 5,
    "start_time": "2022-09-30T11:42:04.511Z"
   },
   {
    "duration": 10,
    "start_time": "2022-09-30T11:42:11.466Z"
   },
   {
    "duration": 19,
    "start_time": "2022-09-30T11:42:19.232Z"
   },
   {
    "duration": 11,
    "start_time": "2022-09-30T11:42:25.353Z"
   },
   {
    "duration": 37,
    "start_time": "2022-09-30T11:42:33.414Z"
   },
   {
    "duration": 632,
    "start_time": "2022-09-30T11:42:37.469Z"
   },
   {
    "duration": 11136,
    "start_time": "2022-09-30T11:42:45.006Z"
   },
   {
    "duration": 6837,
    "start_time": "2022-09-30T11:42:56.362Z"
   },
   {
    "duration": 27299,
    "start_time": "2022-09-30T11:43:25.064Z"
   },
   {
    "duration": 9539,
    "start_time": "2022-09-30T11:44:16.773Z"
   },
   {
    "duration": 49684,
    "start_time": "2022-09-30T11:45:08.273Z"
   },
   {
    "duration": 101332,
    "start_time": "2022-09-30T11:46:28.364Z"
   },
   {
    "duration": 115277,
    "start_time": "2022-09-30T11:48:29.554Z"
   },
   {
    "duration": 131520,
    "start_time": "2022-09-30T11:50:40.206Z"
   },
   {
    "duration": 4447,
    "start_time": "2022-09-30T11:53:54.712Z"
   },
   {
    "duration": 10035,
    "start_time": "2022-09-30T11:54:54.051Z"
   },
   {
    "duration": 30994,
    "start_time": "2022-09-30T11:55:37.071Z"
   },
   {
    "duration": 17,
    "start_time": "2022-09-30T11:58:40.987Z"
   },
   {
    "duration": 15177,
    "start_time": "2022-09-30T11:59:05.464Z"
   },
   {
    "duration": 62,
    "start_time": "2022-09-30T13:31:33.949Z"
   },
   {
    "duration": 1114,
    "start_time": "2022-09-30T13:31:44.427Z"
   },
   {
    "duration": 84,
    "start_time": "2022-09-30T13:31:45.542Z"
   },
   {
    "duration": 18,
    "start_time": "2022-09-30T13:31:45.628Z"
   },
   {
    "duration": 11,
    "start_time": "2022-09-30T13:31:45.648Z"
   },
   {
    "duration": 3,
    "start_time": "2022-09-30T13:31:45.661Z"
   },
   {
    "duration": 14,
    "start_time": "2022-09-30T13:31:45.666Z"
   },
   {
    "duration": 12,
    "start_time": "2022-09-30T13:31:45.682Z"
   },
   {
    "duration": 25,
    "start_time": "2022-09-30T13:31:45.695Z"
   },
   {
    "duration": 4,
    "start_time": "2022-09-30T13:31:45.721Z"
   },
   {
    "duration": 20,
    "start_time": "2022-09-30T13:31:45.726Z"
   },
   {
    "duration": 4,
    "start_time": "2022-09-30T13:31:45.747Z"
   },
   {
    "duration": 12,
    "start_time": "2022-09-30T13:31:45.752Z"
   },
   {
    "duration": 16,
    "start_time": "2022-09-30T13:31:45.765Z"
   },
   {
    "duration": 76,
    "start_time": "2022-09-30T13:31:45.783Z"
   },
   {
    "duration": 0,
    "start_time": "2022-09-30T13:31:45.861Z"
   },
   {
    "duration": 0,
    "start_time": "2022-09-30T13:31:45.862Z"
   },
   {
    "duration": 0,
    "start_time": "2022-09-30T13:31:45.863Z"
   },
   {
    "duration": 0,
    "start_time": "2022-09-30T13:31:45.864Z"
   },
   {
    "duration": 0,
    "start_time": "2022-09-30T13:31:45.865Z"
   },
   {
    "duration": 0,
    "start_time": "2022-09-30T13:31:45.866Z"
   },
   {
    "duration": 0,
    "start_time": "2022-09-30T13:31:45.867Z"
   },
   {
    "duration": 0,
    "start_time": "2022-09-30T13:31:45.868Z"
   },
   {
    "duration": 0,
    "start_time": "2022-09-30T13:31:45.869Z"
   },
   {
    "duration": 0,
    "start_time": "2022-09-30T13:31:45.870Z"
   },
   {
    "duration": 0,
    "start_time": "2022-09-30T13:31:45.871Z"
   },
   {
    "duration": 3,
    "start_time": "2022-09-30T13:32:42.037Z"
   },
   {
    "duration": 41,
    "start_time": "2022-09-30T13:32:42.045Z"
   },
   {
    "duration": 11,
    "start_time": "2022-09-30T13:32:42.088Z"
   },
   {
    "duration": 14,
    "start_time": "2022-09-30T13:32:42.100Z"
   },
   {
    "duration": 2,
    "start_time": "2022-09-30T13:32:42.116Z"
   },
   {
    "duration": 16,
    "start_time": "2022-09-30T13:32:42.120Z"
   },
   {
    "duration": 11,
    "start_time": "2022-09-30T13:32:42.137Z"
   },
   {
    "duration": 14,
    "start_time": "2022-09-30T13:32:42.149Z"
   },
   {
    "duration": 3,
    "start_time": "2022-09-30T13:32:42.165Z"
   },
   {
    "duration": 12,
    "start_time": "2022-09-30T13:32:42.170Z"
   },
   {
    "duration": 6,
    "start_time": "2022-09-30T13:32:42.184Z"
   },
   {
    "duration": 5,
    "start_time": "2022-09-30T13:32:42.191Z"
   },
   {
    "duration": 17,
    "start_time": "2022-09-30T13:32:42.197Z"
   },
   {
    "duration": 15,
    "start_time": "2022-09-30T13:32:42.215Z"
   },
   {
    "duration": 0,
    "start_time": "2022-09-30T13:32:42.232Z"
   },
   {
    "duration": 0,
    "start_time": "2022-09-30T13:32:42.233Z"
   },
   {
    "duration": 0,
    "start_time": "2022-09-30T13:32:42.234Z"
   },
   {
    "duration": 0,
    "start_time": "2022-09-30T13:32:42.236Z"
   },
   {
    "duration": 0,
    "start_time": "2022-09-30T13:32:42.237Z"
   },
   {
    "duration": 0,
    "start_time": "2022-09-30T13:32:42.238Z"
   },
   {
    "duration": 0,
    "start_time": "2022-09-30T13:32:42.240Z"
   },
   {
    "duration": 0,
    "start_time": "2022-09-30T13:32:42.241Z"
   },
   {
    "duration": 0,
    "start_time": "2022-09-30T13:32:42.242Z"
   },
   {
    "duration": 0,
    "start_time": "2022-09-30T13:32:42.243Z"
   },
   {
    "duration": 0,
    "start_time": "2022-09-30T13:32:42.244Z"
   },
   {
    "duration": 4,
    "start_time": "2022-09-30T13:33:41.431Z"
   },
   {
    "duration": 51,
    "start_time": "2022-09-30T13:33:41.436Z"
   },
   {
    "duration": 11,
    "start_time": "2022-09-30T13:33:41.489Z"
   },
   {
    "duration": 13,
    "start_time": "2022-09-30T13:33:41.503Z"
   },
   {
    "duration": 16,
    "start_time": "2022-09-30T13:33:41.518Z"
   },
   {
    "duration": 11,
    "start_time": "2022-09-30T13:33:41.535Z"
   },
   {
    "duration": 16,
    "start_time": "2022-09-30T13:33:41.547Z"
   },
   {
    "duration": 10,
    "start_time": "2022-09-30T13:33:41.565Z"
   },
   {
    "duration": 3,
    "start_time": "2022-09-30T13:33:41.577Z"
   },
   {
    "duration": 15,
    "start_time": "2022-09-30T13:33:41.582Z"
   },
   {
    "duration": 4,
    "start_time": "2022-09-30T13:33:41.598Z"
   },
   {
    "duration": 25,
    "start_time": "2022-09-30T13:33:41.609Z"
   },
   {
    "duration": 15,
    "start_time": "2022-09-30T13:33:41.636Z"
   },
   {
    "duration": 12,
    "start_time": "2022-09-30T13:33:41.653Z"
   },
   {
    "duration": 11,
    "start_time": "2022-09-30T13:33:41.667Z"
   },
   {
    "duration": 26,
    "start_time": "2022-09-30T13:33:41.679Z"
   },
   {
    "duration": 5,
    "start_time": "2022-09-30T13:33:41.707Z"
   },
   {
    "duration": 8310,
    "start_time": "2022-09-30T13:33:41.714Z"
   },
   {
    "duration": 3965,
    "start_time": "2022-09-30T13:33:50.026Z"
   },
   {
    "duration": 3925,
    "start_time": "2022-09-30T13:33:53.992Z"
   },
   {
    "duration": 97,
    "start_time": "2022-09-30T13:33:57.918Z"
   },
   {
    "duration": 0,
    "start_time": "2022-09-30T13:33:58.019Z"
   },
   {
    "duration": 0,
    "start_time": "2022-09-30T13:33:58.020Z"
   },
   {
    "duration": 0,
    "start_time": "2022-09-30T13:33:58.023Z"
   },
   {
    "duration": 0,
    "start_time": "2022-09-30T13:33:58.025Z"
   },
   {
    "duration": 8,
    "start_time": "2022-09-30T13:35:49.816Z"
   },
   {
    "duration": 42,
    "start_time": "2022-09-30T13:35:49.825Z"
   },
   {
    "duration": 10,
    "start_time": "2022-09-30T13:35:49.869Z"
   },
   {
    "duration": 11,
    "start_time": "2022-09-30T13:35:49.881Z"
   },
   {
    "duration": 2,
    "start_time": "2022-09-30T13:35:49.894Z"
   },
   {
    "duration": 8,
    "start_time": "2022-09-30T13:35:49.897Z"
   },
   {
    "duration": 22,
    "start_time": "2022-09-30T13:35:49.906Z"
   },
   {
    "duration": 9,
    "start_time": "2022-09-30T13:35:49.930Z"
   },
   {
    "duration": 3,
    "start_time": "2022-09-30T13:35:49.940Z"
   },
   {
    "duration": 10,
    "start_time": "2022-09-30T13:35:49.946Z"
   },
   {
    "duration": 19,
    "start_time": "2022-09-30T13:35:49.957Z"
   },
   {
    "duration": 16,
    "start_time": "2022-09-30T13:35:49.977Z"
   },
   {
    "duration": 28,
    "start_time": "2022-09-30T13:35:49.995Z"
   },
   {
    "duration": 20,
    "start_time": "2022-09-30T13:35:50.025Z"
   },
   {
    "duration": 10,
    "start_time": "2022-09-30T13:35:50.047Z"
   },
   {
    "duration": 22,
    "start_time": "2022-09-30T13:35:50.059Z"
   },
   {
    "duration": 4,
    "start_time": "2022-09-30T13:35:50.083Z"
   },
   {
    "duration": 8138,
    "start_time": "2022-09-30T13:35:50.088Z"
   },
   {
    "duration": 4045,
    "start_time": "2022-09-30T13:35:58.229Z"
   },
   {
    "duration": 3545,
    "start_time": "2022-09-30T13:36:02.275Z"
   },
   {
    "duration": 4,
    "start_time": "2022-09-30T13:36:05.821Z"
   },
   {
    "duration": 195,
    "start_time": "2022-09-30T13:36:05.827Z"
   },
   {
    "duration": 0,
    "start_time": "2022-09-30T13:36:06.024Z"
   },
   {
    "duration": 0,
    "start_time": "2022-09-30T13:36:06.025Z"
   },
   {
    "duration": 0,
    "start_time": "2022-09-30T13:36:06.026Z"
   },
   {
    "duration": 4,
    "start_time": "2022-09-30T13:36:50.221Z"
   },
   {
    "duration": 41,
    "start_time": "2022-09-30T13:36:50.227Z"
   },
   {
    "duration": 12,
    "start_time": "2022-09-30T13:36:50.269Z"
   },
   {
    "duration": 13,
    "start_time": "2022-09-30T13:36:50.282Z"
   },
   {
    "duration": 3,
    "start_time": "2022-09-30T13:36:50.296Z"
   },
   {
    "duration": 8,
    "start_time": "2022-09-30T13:36:50.300Z"
   },
   {
    "duration": 20,
    "start_time": "2022-09-30T13:36:50.310Z"
   },
   {
    "duration": 10,
    "start_time": "2022-09-30T13:36:50.332Z"
   },
   {
    "duration": 4,
    "start_time": "2022-09-30T13:36:50.343Z"
   },
   {
    "duration": 12,
    "start_time": "2022-09-30T13:36:50.348Z"
   },
   {
    "duration": 3,
    "start_time": "2022-09-30T13:36:50.361Z"
   },
   {
    "duration": 7,
    "start_time": "2022-09-30T13:36:50.365Z"
   },
   {
    "duration": 13,
    "start_time": "2022-09-30T13:36:50.373Z"
   },
   {
    "duration": 27,
    "start_time": "2022-09-30T13:36:50.389Z"
   },
   {
    "duration": 12,
    "start_time": "2022-09-30T13:36:50.417Z"
   },
   {
    "duration": 25,
    "start_time": "2022-09-30T13:36:50.431Z"
   },
   {
    "duration": 5,
    "start_time": "2022-09-30T13:36:50.458Z"
   },
   {
    "duration": 8245,
    "start_time": "2022-09-30T13:36:50.464Z"
   },
   {
    "duration": 3945,
    "start_time": "2022-09-30T13:36:58.711Z"
   },
   {
    "duration": 3171,
    "start_time": "2022-09-30T13:37:02.657Z"
   },
   {
    "duration": 86,
    "start_time": "2022-09-30T13:37:05.829Z"
   },
   {
    "duration": 113,
    "start_time": "2022-09-30T13:37:05.917Z"
   },
   {
    "duration": 114700,
    "start_time": "2022-09-30T13:37:06.032Z"
   },
   {
    "duration": 28553,
    "start_time": "2022-09-30T13:39:00.734Z"
   },
   {
    "duration": 3726,
    "start_time": "2022-09-30T13:39:29.289Z"
   },
   {
    "duration": 39,
    "start_time": "2022-09-30T13:40:51.516Z"
   },
   {
    "duration": 117,
    "start_time": "2022-09-30T13:41:27.608Z"
   },
   {
    "duration": 4,
    "start_time": "2022-09-30T13:45:03.018Z"
   },
   {
    "duration": 61,
    "start_time": "2022-09-30T13:45:03.024Z"
   },
   {
    "duration": 17,
    "start_time": "2022-09-30T13:45:03.088Z"
   },
   {
    "duration": 29,
    "start_time": "2022-09-30T13:45:03.106Z"
   },
   {
    "duration": 3,
    "start_time": "2022-09-30T13:45:03.138Z"
   },
   {
    "duration": 9,
    "start_time": "2022-09-30T13:45:03.143Z"
   },
   {
    "duration": 15,
    "start_time": "2022-09-30T13:45:03.153Z"
   },
   {
    "duration": 9,
    "start_time": "2022-09-30T13:45:03.169Z"
   },
   {
    "duration": 6,
    "start_time": "2022-09-30T13:45:03.179Z"
   },
   {
    "duration": 16,
    "start_time": "2022-09-30T13:45:03.187Z"
   },
   {
    "duration": 4,
    "start_time": "2022-09-30T13:45:03.209Z"
   },
   {
    "duration": 6,
    "start_time": "2022-09-30T13:45:03.214Z"
   },
   {
    "duration": 13,
    "start_time": "2022-09-30T13:45:03.222Z"
   },
   {
    "duration": 17,
    "start_time": "2022-09-30T13:45:03.237Z"
   },
   {
    "duration": 10,
    "start_time": "2022-09-30T13:45:03.255Z"
   },
   {
    "duration": 30,
    "start_time": "2022-09-30T13:45:03.266Z"
   },
   {
    "duration": 15,
    "start_time": "2022-09-30T13:45:03.297Z"
   },
   {
    "duration": 7931,
    "start_time": "2022-09-30T13:45:03.313Z"
   },
   {
    "duration": 3825,
    "start_time": "2022-09-30T13:45:11.246Z"
   },
   {
    "duration": 3641,
    "start_time": "2022-09-30T13:45:15.072Z"
   },
   {
    "duration": 2,
    "start_time": "2022-09-30T13:45:18.715Z"
   },
   {
    "duration": 91,
    "start_time": "2022-09-30T13:45:18.719Z"
   },
   {
    "duration": 111594,
    "start_time": "2022-09-30T13:45:18.812Z"
   },
   {
    "duration": 28146,
    "start_time": "2022-09-30T13:47:10.409Z"
   },
   {
    "duration": 3360,
    "start_time": "2022-09-30T13:47:38.556Z"
   },
   {
    "duration": 15,
    "start_time": "2022-09-30T13:51:36.622Z"
   },
   {
    "duration": 24,
    "start_time": "2022-09-30T13:53:11.068Z"
   },
   {
    "duration": 26,
    "start_time": "2022-09-30T13:53:34.589Z"
   },
   {
    "duration": 27,
    "start_time": "2022-09-30T13:53:49.818Z"
   },
   {
    "duration": 183155,
    "start_time": "2022-09-30T13:54:26.667Z"
   },
   {
    "duration": 16,
    "start_time": "2022-09-30T14:01:23.165Z"
   },
   {
    "duration": 16,
    "start_time": "2022-09-30T14:01:59.052Z"
   },
   {
    "duration": 18,
    "start_time": "2022-09-30T14:02:18.385Z"
   },
   {
    "duration": 136216,
    "start_time": "2022-09-30T14:02:20.818Z"
   },
   {
    "duration": 2385,
    "start_time": "2022-09-30T14:06:48.028Z"
   },
   {
    "duration": 4,
    "start_time": "2022-09-30T14:06:56.607Z"
   },
   {
    "duration": 41,
    "start_time": "2022-09-30T14:06:56.613Z"
   },
   {
    "duration": 12,
    "start_time": "2022-09-30T14:06:56.656Z"
   },
   {
    "duration": 19,
    "start_time": "2022-09-30T14:06:56.670Z"
   },
   {
    "duration": 3,
    "start_time": "2022-09-30T14:06:56.692Z"
   },
   {
    "duration": 11,
    "start_time": "2022-09-30T14:06:56.696Z"
   },
   {
    "duration": 12,
    "start_time": "2022-09-30T14:06:56.708Z"
   },
   {
    "duration": 11,
    "start_time": "2022-09-30T14:06:56.721Z"
   },
   {
    "duration": 4,
    "start_time": "2022-09-30T14:06:56.734Z"
   },
   {
    "duration": 13,
    "start_time": "2022-09-30T14:06:56.739Z"
   },
   {
    "duration": 5,
    "start_time": "2022-09-30T14:06:56.753Z"
   },
   {
    "duration": 5,
    "start_time": "2022-09-30T14:06:56.759Z"
   },
   {
    "duration": 12,
    "start_time": "2022-09-30T14:06:56.765Z"
   },
   {
    "duration": 12,
    "start_time": "2022-09-30T14:06:56.809Z"
   },
   {
    "duration": 12,
    "start_time": "2022-09-30T14:06:56.823Z"
   },
   {
    "duration": 25,
    "start_time": "2022-09-30T14:06:56.836Z"
   },
   {
    "duration": 5,
    "start_time": "2022-09-30T14:06:56.863Z"
   },
   {
    "duration": 7890,
    "start_time": "2022-09-30T14:06:56.870Z"
   },
   {
    "duration": 3934,
    "start_time": "2022-09-30T14:07:04.761Z"
   },
   {
    "duration": 3812,
    "start_time": "2022-09-30T14:07:08.697Z"
   },
   {
    "duration": 3,
    "start_time": "2022-09-30T14:07:12.511Z"
   },
   {
    "duration": 94,
    "start_time": "2022-09-30T14:07:12.516Z"
   },
   {
    "duration": 112224,
    "start_time": "2022-09-30T14:07:12.612Z"
   },
   {
    "duration": 28125,
    "start_time": "2022-09-30T14:09:04.838Z"
   },
   {
    "duration": 2955,
    "start_time": "2022-09-30T14:09:32.965Z"
   },
   {
    "duration": 101,
    "start_time": "2022-09-30T14:09:35.922Z"
   },
   {
    "duration": 92,
    "start_time": "2022-09-30T14:09:36.026Z"
   },
   {
    "duration": 133708,
    "start_time": "2022-09-30T14:09:36.119Z"
   },
   {
    "duration": 1101,
    "start_time": "2022-10-01T09:24:56.140Z"
   },
   {
    "duration": 156,
    "start_time": "2022-10-01T09:24:57.243Z"
   },
   {
    "duration": 23,
    "start_time": "2022-10-01T09:24:57.401Z"
   },
   {
    "duration": 14,
    "start_time": "2022-10-01T09:24:57.425Z"
   },
   {
    "duration": 3,
    "start_time": "2022-10-01T09:24:57.442Z"
   },
   {
    "duration": 10,
    "start_time": "2022-10-01T09:24:57.447Z"
   },
   {
    "duration": 30,
    "start_time": "2022-10-01T09:24:57.459Z"
   },
   {
    "duration": 12,
    "start_time": "2022-10-01T09:24:57.491Z"
   },
   {
    "duration": 4,
    "start_time": "2022-10-01T09:24:57.505Z"
   },
   {
    "duration": 16,
    "start_time": "2022-10-01T09:24:57.511Z"
   },
   {
    "duration": 4,
    "start_time": "2022-10-01T09:24:57.529Z"
   },
   {
    "duration": 7,
    "start_time": "2022-10-01T09:24:57.534Z"
   },
   {
    "duration": 14,
    "start_time": "2022-10-01T09:24:57.542Z"
   },
   {
    "duration": 43,
    "start_time": "2022-10-01T09:24:57.559Z"
   },
   {
    "duration": 13,
    "start_time": "2022-10-01T09:24:57.603Z"
   },
   {
    "duration": 29,
    "start_time": "2022-10-01T09:24:57.618Z"
   },
   {
    "duration": 16,
    "start_time": "2022-10-01T09:26:06.030Z"
   },
   {
    "duration": 123,
    "start_time": "2022-10-01T09:27:04.894Z"
   },
   {
    "duration": 26,
    "start_time": "2022-10-01T09:27:25.973Z"
   },
   {
    "duration": 197667,
    "start_time": "2022-10-01T09:27:36.938Z"
   },
   {
    "duration": 14,
    "start_time": "2022-10-01T09:31:26.864Z"
   },
   {
    "duration": 24,
    "start_time": "2022-10-01T09:31:42.025Z"
   },
   {
    "duration": 4,
    "start_time": "2022-10-01T09:33:22.528Z"
   },
   {
    "duration": 22,
    "start_time": "2022-10-01T09:34:02.096Z"
   },
   {
    "duration": 5,
    "start_time": "2022-10-01T09:34:11.374Z"
   },
   {
    "duration": 3,
    "start_time": "2022-10-01T09:34:23.121Z"
   },
   {
    "duration": 4,
    "start_time": "2022-10-01T09:34:33.804Z"
   },
   {
    "duration": 5,
    "start_time": "2022-10-01T09:35:15.270Z"
   },
   {
    "duration": 54,
    "start_time": "2022-10-01T09:35:15.277Z"
   },
   {
    "duration": 13,
    "start_time": "2022-10-01T09:35:15.333Z"
   },
   {
    "duration": 39,
    "start_time": "2022-10-01T09:35:15.350Z"
   },
   {
    "duration": 10,
    "start_time": "2022-10-01T09:35:15.391Z"
   },
   {
    "duration": 21,
    "start_time": "2022-10-01T09:35:15.402Z"
   },
   {
    "duration": 14,
    "start_time": "2022-10-01T09:35:15.425Z"
   },
   {
    "duration": 16,
    "start_time": "2022-10-01T09:35:15.440Z"
   },
   {
    "duration": 10,
    "start_time": "2022-10-01T09:35:15.458Z"
   },
   {
    "duration": 26,
    "start_time": "2022-10-01T09:35:15.470Z"
   },
   {
    "duration": 24,
    "start_time": "2022-10-01T09:35:15.498Z"
   },
   {
    "duration": 7,
    "start_time": "2022-10-01T09:35:15.525Z"
   },
   {
    "duration": 23,
    "start_time": "2022-10-01T09:35:15.535Z"
   },
   {
    "duration": 28,
    "start_time": "2022-10-01T09:35:15.560Z"
   },
   {
    "duration": 13,
    "start_time": "2022-10-01T09:35:15.591Z"
   },
   {
    "duration": 36,
    "start_time": "2022-10-01T09:35:15.606Z"
   },
   {
    "duration": 15,
    "start_time": "2022-10-01T09:35:25.206Z"
   },
   {
    "duration": 222340,
    "start_time": "2022-10-01T09:35:29.916Z"
   },
   {
    "duration": 13,
    "start_time": "2022-10-01T09:39:34.690Z"
   },
   {
    "duration": 164058,
    "start_time": "2022-10-01T09:39:37.730Z"
   },
   {
    "duration": 36787,
    "start_time": "2022-10-01T09:42:49.541Z"
   },
   {
    "duration": 6,
    "start_time": "2022-10-01T09:43:54.729Z"
   },
   {
    "duration": 64,
    "start_time": "2022-10-01T09:43:54.737Z"
   },
   {
    "duration": 14,
    "start_time": "2022-10-01T09:43:54.803Z"
   },
   {
    "duration": 25,
    "start_time": "2022-10-01T09:43:54.819Z"
   },
   {
    "duration": 19,
    "start_time": "2022-10-01T09:43:54.846Z"
   },
   {
    "duration": 16,
    "start_time": "2022-10-01T09:43:54.867Z"
   },
   {
    "duration": 12,
    "start_time": "2022-10-01T09:43:54.885Z"
   },
   {
    "duration": 11,
    "start_time": "2022-10-01T09:43:54.899Z"
   },
   {
    "duration": 5,
    "start_time": "2022-10-01T09:43:54.911Z"
   },
   {
    "duration": 17,
    "start_time": "2022-10-01T09:43:54.918Z"
   },
   {
    "duration": 4,
    "start_time": "2022-10-01T09:43:54.937Z"
   },
   {
    "duration": 5,
    "start_time": "2022-10-01T09:43:54.943Z"
   },
   {
    "duration": 14,
    "start_time": "2022-10-01T09:43:54.949Z"
   },
   {
    "duration": 12,
    "start_time": "2022-10-01T09:43:54.989Z"
   },
   {
    "duration": 11,
    "start_time": "2022-10-01T09:43:55.003Z"
   },
   {
    "duration": 30,
    "start_time": "2022-10-01T09:43:55.016Z"
   },
   {
    "duration": 11,
    "start_time": "2022-10-01T09:44:27.948Z"
   },
   {
    "duration": 22396,
    "start_time": "2022-10-01T09:44:31.072Z"
   },
   {
    "duration": 6,
    "start_time": "2022-10-01T09:45:35.154Z"
   },
   {
    "duration": 56,
    "start_time": "2022-10-01T09:45:35.163Z"
   },
   {
    "duration": 21,
    "start_time": "2022-10-01T09:45:35.221Z"
   },
   {
    "duration": 21,
    "start_time": "2022-10-01T09:45:35.245Z"
   },
   {
    "duration": 4,
    "start_time": "2022-10-01T09:45:35.269Z"
   },
   {
    "duration": 8,
    "start_time": "2022-10-01T09:45:35.288Z"
   },
   {
    "duration": 15,
    "start_time": "2022-10-01T09:45:35.298Z"
   },
   {
    "duration": 12,
    "start_time": "2022-10-01T09:45:35.315Z"
   },
   {
    "duration": 6,
    "start_time": "2022-10-01T09:45:35.329Z"
   },
   {
    "duration": 20,
    "start_time": "2022-10-01T09:45:35.338Z"
   },
   {
    "duration": 31,
    "start_time": "2022-10-01T09:45:35.360Z"
   },
   {
    "duration": 7,
    "start_time": "2022-10-01T09:45:35.393Z"
   },
   {
    "duration": 15,
    "start_time": "2022-10-01T09:45:35.401Z"
   },
   {
    "duration": 14,
    "start_time": "2022-10-01T09:45:35.418Z"
   },
   {
    "duration": 17,
    "start_time": "2022-10-01T09:45:35.434Z"
   },
   {
    "duration": 70,
    "start_time": "2022-10-01T09:45:35.453Z"
   },
   {
    "duration": 5,
    "start_time": "2022-10-01T09:45:35.526Z"
   },
   {
    "duration": 10507,
    "start_time": "2022-10-01T09:45:35.533Z"
   },
   {
    "duration": 4691,
    "start_time": "2022-10-01T09:45:46.042Z"
   },
   {
    "duration": 14267,
    "start_time": "2022-10-01T09:45:50.736Z"
   },
   {
    "duration": 7,
    "start_time": "2022-10-01T09:46:05.092Z"
   },
   {
    "duration": 90,
    "start_time": "2022-10-01T09:46:05.108Z"
   },
   {
    "duration": 134472,
    "start_time": "2022-10-01T09:46:05.201Z"
   },
   {
    "duration": 30536,
    "start_time": "2022-10-01T09:48:19.675Z"
   },
   {
    "duration": 5977,
    "start_time": "2022-10-01T09:48:50.213Z"
   },
   {
    "duration": 14,
    "start_time": "2022-10-01T09:52:14.306Z"
   },
   {
    "duration": 23054,
    "start_time": "2022-10-01T09:52:17.453Z"
   },
   {
    "duration": 4,
    "start_time": "2022-10-01T09:58:28.459Z"
   },
   {
    "duration": 59,
    "start_time": "2022-10-01T09:58:28.466Z"
   },
   {
    "duration": 14,
    "start_time": "2022-10-01T09:58:28.529Z"
   },
   {
    "duration": 21,
    "start_time": "2022-10-01T09:58:28.545Z"
   },
   {
    "duration": 4,
    "start_time": "2022-10-01T09:58:28.569Z"
   },
   {
    "duration": 10,
    "start_time": "2022-10-01T09:58:28.575Z"
   },
   {
    "duration": 22,
    "start_time": "2022-10-01T09:58:28.586Z"
   },
   {
    "duration": 23,
    "start_time": "2022-10-01T09:58:28.610Z"
   },
   {
    "duration": 6,
    "start_time": "2022-10-01T09:58:28.635Z"
   },
   {
    "duration": 21,
    "start_time": "2022-10-01T09:58:28.643Z"
   },
   {
    "duration": 5,
    "start_time": "2022-10-01T09:58:28.666Z"
   },
   {
    "duration": 7,
    "start_time": "2022-10-01T09:58:28.691Z"
   },
   {
    "duration": 20,
    "start_time": "2022-10-01T09:58:28.701Z"
   },
   {
    "duration": 17,
    "start_time": "2022-10-01T09:58:28.725Z"
   },
   {
    "duration": 15,
    "start_time": "2022-10-01T09:58:28.745Z"
   },
   {
    "duration": 63,
    "start_time": "2022-10-01T09:58:28.762Z"
   },
   {
    "duration": 6,
    "start_time": "2022-10-01T09:58:28.827Z"
   },
   {
    "duration": 9507,
    "start_time": "2022-10-01T09:58:28.836Z"
   },
   {
    "duration": 4287,
    "start_time": "2022-10-01T09:58:38.345Z"
   },
   {
    "duration": 9260,
    "start_time": "2022-10-01T09:58:42.633Z"
   },
   {
    "duration": 7,
    "start_time": "2022-10-01T09:58:51.895Z"
   },
   {
    "duration": 116,
    "start_time": "2022-10-01T09:58:51.904Z"
   },
   {
    "duration": 19939,
    "start_time": "2022-10-01T09:58:52.023Z"
   },
   {
    "duration": 3834,
    "start_time": "2022-10-01T09:59:11.965Z"
   },
   {
    "duration": 7690,
    "start_time": "2022-10-01T09:59:15.805Z"
   },
   {
    "duration": 19,
    "start_time": "2022-10-01T09:59:59.521Z"
   },
   {
    "duration": 29,
    "start_time": "2022-10-01T10:00:12.854Z"
   },
   {
    "duration": 30,
    "start_time": "2022-10-01T10:01:36.905Z"
   },
   {
    "duration": 48197,
    "start_time": "2022-10-01T10:01:51.778Z"
   },
   {
    "duration": 30368,
    "start_time": "2022-10-01T10:03:32.355Z"
   },
   {
    "duration": 35834,
    "start_time": "2022-10-01T10:04:15.077Z"
   },
   {
    "duration": 51583,
    "start_time": "2022-10-01T10:05:04.022Z"
   },
   {
    "duration": 58723,
    "start_time": "2022-10-01T10:06:03.719Z"
   },
   {
    "duration": 80148,
    "start_time": "2022-10-01T10:07:16.634Z"
   },
   {
    "duration": 105867,
    "start_time": "2022-10-01T10:08:48.325Z"
   },
   {
    "duration": 61341,
    "start_time": "2022-10-01T10:10:59.783Z"
   },
   {
    "duration": 67587,
    "start_time": "2022-10-01T10:12:09.429Z"
   },
   {
    "duration": 114440,
    "start_time": "2022-10-01T10:13:50.821Z"
   },
   {
    "duration": 142687,
    "start_time": "2022-10-01T10:16:01.828Z"
   },
   {
    "duration": 152861,
    "start_time": "2022-10-01T10:19:02.267Z"
   },
   {
    "duration": 173613,
    "start_time": "2022-10-01T10:21:58.335Z"
   },
   {
    "duration": 193570,
    "start_time": "2022-10-01T10:25:02.081Z"
   },
   {
    "duration": 227099,
    "start_time": "2022-10-01T10:28:47.005Z"
   },
   {
    "duration": 256204,
    "start_time": "2022-10-01T10:32:59.660Z"
   },
   {
    "duration": 323599,
    "start_time": "2022-10-01T10:37:53.667Z"
   },
   {
    "duration": 59892,
    "start_time": "2022-10-01T10:44:09.116Z"
   },
   {
    "duration": 105317,
    "start_time": "2022-10-01T10:45:32.345Z"
   },
   {
    "duration": 105027,
    "start_time": "2022-10-01T10:47:41.954Z"
   },
   {
    "duration": 84532,
    "start_time": "2022-10-01T10:50:17.048Z"
   },
   {
    "duration": 182394,
    "start_time": "2022-10-01T10:52:13.275Z"
   },
   {
    "duration": 24,
    "start_time": "2022-10-01T10:55:39.667Z"
   },
   {
    "duration": 14,
    "start_time": "2022-10-01T10:56:24.663Z"
   },
   {
    "duration": 57029,
    "start_time": "2022-10-01T10:56:47.123Z"
   },
   {
    "duration": 88667,
    "start_time": "2022-10-01T10:58:26.802Z"
   },
   {
    "duration": 137083,
    "start_time": "2022-10-01T11:00:13.320Z"
   },
   {
    "duration": 124765,
    "start_time": "2022-10-01T11:03:38.570Z"
   },
   {
    "duration": 49946,
    "start_time": "2022-10-01T11:06:08.588Z"
   },
   {
    "duration": 34633,
    "start_time": "2022-10-01T11:07:34.485Z"
   },
   {
    "duration": 32422,
    "start_time": "2022-10-01T11:08:28.830Z"
   },
   {
    "duration": 6,
    "start_time": "2022-10-01T11:09:32.831Z"
   },
   {
    "duration": 135,
    "start_time": "2022-10-01T11:09:32.839Z"
   },
   {
    "duration": 23,
    "start_time": "2022-10-01T11:09:32.976Z"
   },
   {
    "duration": 144,
    "start_time": "2022-10-01T11:09:33.003Z"
   },
   {
    "duration": 11,
    "start_time": "2022-10-01T11:09:33.150Z"
   },
   {
    "duration": 85,
    "start_time": "2022-10-01T11:09:33.163Z"
   },
   {
    "duration": 13,
    "start_time": "2022-10-01T11:09:33.250Z"
   },
   {
    "duration": 18,
    "start_time": "2022-10-01T11:09:33.265Z"
   },
   {
    "duration": 50,
    "start_time": "2022-10-01T11:09:33.285Z"
   },
   {
    "duration": 21,
    "start_time": "2022-10-01T11:09:33.337Z"
   },
   {
    "duration": 5,
    "start_time": "2022-10-01T11:09:33.360Z"
   },
   {
    "duration": 19,
    "start_time": "2022-10-01T11:09:33.367Z"
   },
   {
    "duration": 66,
    "start_time": "2022-10-01T11:09:33.388Z"
   },
   {
    "duration": 17,
    "start_time": "2022-10-01T11:09:33.457Z"
   },
   {
    "duration": 10,
    "start_time": "2022-10-01T11:09:33.476Z"
   },
   {
    "duration": 86,
    "start_time": "2022-10-01T11:09:33.488Z"
   },
   {
    "duration": 20,
    "start_time": "2022-10-01T11:10:35.117Z"
   },
   {
    "duration": 21,
    "start_time": "2022-10-01T11:10:37.977Z"
   },
   {
    "duration": 35321,
    "start_time": "2022-10-01T11:10:49.522Z"
   },
   {
    "duration": 4,
    "start_time": "2022-10-01T11:12:54.932Z"
   },
   {
    "duration": 80,
    "start_time": "2022-10-01T11:12:54.938Z"
   },
   {
    "duration": 21,
    "start_time": "2022-10-01T11:12:55.020Z"
   },
   {
    "duration": 44,
    "start_time": "2022-10-01T11:12:55.047Z"
   },
   {
    "duration": 63,
    "start_time": "2022-10-01T11:12:55.093Z"
   },
   {
    "duration": 66,
    "start_time": "2022-10-01T11:12:55.158Z"
   },
   {
    "duration": 22,
    "start_time": "2022-10-01T11:12:55.226Z"
   },
   {
    "duration": 22,
    "start_time": "2022-10-01T11:12:55.250Z"
   },
   {
    "duration": 7,
    "start_time": "2022-10-01T11:12:55.274Z"
   },
   {
    "duration": 65,
    "start_time": "2022-10-01T11:12:55.284Z"
   },
   {
    "duration": 13,
    "start_time": "2022-10-01T11:12:55.352Z"
   },
   {
    "duration": 6,
    "start_time": "2022-10-01T11:12:55.367Z"
   },
   {
    "duration": 28,
    "start_time": "2022-10-01T11:12:55.375Z"
   },
   {
    "duration": 74,
    "start_time": "2022-10-01T11:12:55.405Z"
   },
   {
    "duration": 23,
    "start_time": "2022-10-01T11:12:55.481Z"
   },
   {
    "duration": 56,
    "start_time": "2022-10-01T11:12:55.507Z"
   },
   {
    "duration": 21,
    "start_time": "2022-10-01T11:13:34.818Z"
   },
   {
    "duration": 49813,
    "start_time": "2022-10-01T11:13:44.814Z"
   },
   {
    "duration": 6825,
    "start_time": "2022-10-01T11:14:57.651Z"
   },
   {
    "duration": 5931,
    "start_time": "2022-10-01T11:15:48.949Z"
   },
   {
    "duration": 5625,
    "start_time": "2022-10-01T11:16:13.625Z"
   },
   {
    "duration": 4,
    "start_time": "2022-10-01T11:18:42.552Z"
   },
   {
    "duration": 62,
    "start_time": "2022-10-01T11:18:42.558Z"
   },
   {
    "duration": 13,
    "start_time": "2022-10-01T11:18:42.622Z"
   },
   {
    "duration": 14,
    "start_time": "2022-10-01T11:18:42.638Z"
   },
   {
    "duration": 4,
    "start_time": "2022-10-01T11:18:42.653Z"
   },
   {
    "duration": 9,
    "start_time": "2022-10-01T11:18:42.658Z"
   },
   {
    "duration": 31,
    "start_time": "2022-10-01T11:18:42.668Z"
   },
   {
    "duration": 14,
    "start_time": "2022-10-01T11:18:42.705Z"
   },
   {
    "duration": 5,
    "start_time": "2022-10-01T11:18:42.721Z"
   },
   {
    "duration": 13,
    "start_time": "2022-10-01T11:18:42.729Z"
   },
   {
    "duration": 4,
    "start_time": "2022-10-01T11:18:42.744Z"
   },
   {
    "duration": 5,
    "start_time": "2022-10-01T11:18:42.750Z"
   },
   {
    "duration": 12,
    "start_time": "2022-10-01T11:18:42.757Z"
   },
   {
    "duration": 23,
    "start_time": "2022-10-01T11:18:42.793Z"
   },
   {
    "duration": 26,
    "start_time": "2022-10-01T11:18:42.818Z"
   },
   {
    "duration": 31,
    "start_time": "2022-10-01T11:18:42.846Z"
   },
   {
    "duration": 20,
    "start_time": "2022-10-01T11:18:55.856Z"
   },
   {
    "duration": 11631,
    "start_time": "2022-10-01T11:19:27.773Z"
   },
   {
    "duration": 95,
    "start_time": "2022-10-01T11:23:28.263Z"
   },
   {
    "duration": 18,
    "start_time": "2022-10-01T11:29:17.013Z"
   },
   {
    "duration": 14,
    "start_time": "2022-10-01T11:29:38.741Z"
   },
   {
    "duration": 21,
    "start_time": "2022-10-01T11:31:06.533Z"
   },
   {
    "duration": 94,
    "start_time": "2022-10-01T11:33:23.388Z"
   },
   {
    "duration": 451,
    "start_time": "2022-10-01T11:34:31.116Z"
   },
   {
    "duration": 22,
    "start_time": "2022-10-01T11:34:52.820Z"
   },
   {
    "duration": 4,
    "start_time": "2022-10-01T11:35:21.157Z"
   },
   {
    "duration": 243,
    "start_time": "2022-10-01T11:35:29.382Z"
   },
   {
    "duration": 1515,
    "start_time": "2022-10-01T11:36:16.770Z"
   },
   {
    "duration": 60,
    "start_time": "2022-10-01T11:36:18.287Z"
   },
   {
    "duration": 18,
    "start_time": "2022-10-01T11:36:18.349Z"
   },
   {
    "duration": 13,
    "start_time": "2022-10-01T11:36:18.369Z"
   },
   {
    "duration": 4,
    "start_time": "2022-10-01T11:36:18.384Z"
   },
   {
    "duration": 40,
    "start_time": "2022-10-01T11:36:18.403Z"
   },
   {
    "duration": 15,
    "start_time": "2022-10-01T11:36:18.445Z"
   },
   {
    "duration": 41,
    "start_time": "2022-10-01T11:36:18.461Z"
   },
   {
    "duration": 33,
    "start_time": "2022-10-01T11:36:18.504Z"
   },
   {
    "duration": 60,
    "start_time": "2022-10-01T11:36:18.540Z"
   },
   {
    "duration": 28,
    "start_time": "2022-10-01T11:36:18.603Z"
   },
   {
    "duration": 15,
    "start_time": "2022-10-01T11:36:18.632Z"
   },
   {
    "duration": 26,
    "start_time": "2022-10-01T11:36:18.649Z"
   },
   {
    "duration": 70,
    "start_time": "2022-10-01T11:36:18.677Z"
   },
   {
    "duration": 14,
    "start_time": "2022-10-01T11:36:18.749Z"
   },
   {
    "duration": 41,
    "start_time": "2022-10-01T11:36:18.765Z"
   },
   {
    "duration": 17,
    "start_time": "2022-10-01T11:36:18.808Z"
   },
   {
    "duration": 9822,
    "start_time": "2022-10-01T11:36:18.827Z"
   },
   {
    "duration": 4486,
    "start_time": "2022-10-01T11:36:28.651Z"
   },
   {
    "duration": 11568,
    "start_time": "2022-10-01T11:36:33.138Z"
   },
   {
    "duration": 20560,
    "start_time": "2022-10-01T11:36:44.708Z"
   },
   {
    "duration": 3600,
    "start_time": "2022-10-01T11:37:05.270Z"
   },
   {
    "duration": 9627,
    "start_time": "2022-10-01T11:37:08.872Z"
   },
   {
    "duration": 105,
    "start_time": "2022-10-01T11:37:18.504Z"
   },
   {
    "duration": 14,
    "start_time": "2022-10-01T11:37:18.613Z"
   },
   {
    "duration": 41712,
    "start_time": "2022-10-01T11:37:18.629Z"
   },
   {
    "duration": 5186,
    "start_time": "2022-10-01T11:38:00.343Z"
   },
   {
    "duration": 11663,
    "start_time": "2022-10-01T11:38:05.532Z"
   },
   {
    "duration": 111,
    "start_time": "2022-10-01T11:38:17.203Z"
   },
   {
    "duration": 177,
    "start_time": "2022-10-01T11:38:17.320Z"
   }
  ],
  "kernelspec": {
   "display_name": "Python 3 (ipykernel)",
   "language": "python",
   "name": "python3"
  },
  "language_info": {
   "codemirror_mode": {
    "name": "ipython",
    "version": 3
   },
   "file_extension": ".py",
   "mimetype": "text/x-python",
   "name": "python",
   "nbconvert_exporter": "python",
   "pygments_lexer": "ipython3",
   "version": "3.9.5"
  },
  "toc": {
   "base_numbering": 1,
   "nav_menu": {},
   "number_sections": true,
   "sideBar": true,
   "skip_h1_title": true,
   "title_cell": "Содержание",
   "title_sidebar": "Contents",
   "toc_cell": true,
   "toc_position": {
    "height": "calc(100% - 180px)",
    "left": "10px",
    "top": "150px",
    "width": "238.25px"
   },
   "toc_section_display": true,
   "toc_window_display": false
  }
 },
 "nbformat": 4,
 "nbformat_minor": 2
}
